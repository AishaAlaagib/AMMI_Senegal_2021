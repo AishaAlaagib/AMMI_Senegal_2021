{
  "nbformat": 4,
  "nbformat_minor": 0,
  "metadata": {
    "colab": {
      "name": "AMMI_Bootcamp_Day7_Exercise.ipynb",
      "provenance": [],
      "collapsed_sections": []
    },
    "kernelspec": {
      "name": "python3",
      "display_name": "Python 3"
    }
  },
  "cells": [
    {
      "cell_type": "code",
      "metadata": {
        "id": "70MAiqiRGRgX"
      },
      "source": [
        "# TODO: import pandas and numpy here\n",
        "# \n"
      ],
      "execution_count": null,
      "outputs": []
    },
    {
      "cell_type": "markdown",
      "metadata": {
        "id": "AjD0IEISIxy5"
      },
      "source": [
        "Part 1: Setting up"
      ]
    },
    {
      "cell_type": "markdown",
      "metadata": {
        "id": "EybAEzsrIDAa"
      },
      "source": [
        "1. Make a directory called data. Hint: use `mkdir`\n",
        "2. Download the iris dataset into this folder.\n",
        "The files can be found in \n",
        "https://archive.ics.uci.edu/ml/machine-learning-databases/iris/\n",
        "3. Import the `iris.data` file as a csv. The csv file does not have an header included.\n",
        "4. check the `iris.names` file. It has the names of the columns. Modify the column names in your dataframe to the column names given.\n",
        "5. View your data. How many columns contain numbers? Use a pandas function to check it.\n",
        "6. Get some statistics of your dataframe. Do we have missing data in the dataframe?\n",
        "7. Convert the last column to integer values. Most machine learnin algorithms do not accept text. Use `df.replace`. Don't forget to perform these operations in-place"
      ]
    },
    {
      "cell_type": "code",
      "metadata": {
        "id": "r_c_noLeGNFi"
      },
      "source": [
        "# TODO: create a directory named \"data\"\n",
        "\n"
      ],
      "execution_count": null,
      "outputs": []
    },
    {
      "cell_type": "code",
      "metadata": {
        "id": "oxUO7Vi4GFgF"
      },
      "source": [
        "# TODO: Download iris.names and iris..data from link provided. Hint: Use wget\n",
        "\n"
      ],
      "execution_count": null,
      "outputs": []
    },
    {
      "cell_type": "code",
      "metadata": {
        "id": "3-7iZ8DRGxSY"
      },
      "source": [
        "# TODO: read in the table. Save as a dataframe called \"iris_df\"\n"
      ],
      "execution_count": null,
      "outputs": []
    },
    {
      "cell_type": "code",
      "metadata": {
        "id": "ZEW0zOxsHVoz"
      },
      "source": [
        "iris_df.head()"
      ],
      "execution_count": null,
      "outputs": []
    },
    {
      "cell_type": "code",
      "metadata": {
        "id": "C-jf5eblJu9k"
      },
      "source": [
        "# TODO: Add column names to the dataframe.\n",
        "\n"
      ],
      "execution_count": null,
      "outputs": []
    },
    {
      "cell_type": "code",
      "metadata": {
        "id": "hE9lNXRdHZ-d"
      },
      "source": [
        "# How many examples are in the dataframe?\n",
        "\n",
        "# TODO: print the length of the dataframe\n"
      ],
      "execution_count": null,
      "outputs": []
    },
    {
      "cell_type": "code",
      "metadata": {
        "id": "qucBUW_bcP9G"
      },
      "source": [
        "## Test. DO NOT MODIFY THIS CELL\n",
        "\n",
        "assert len(iris_df) == 150, \"Length of dataframe is incorrect. You must have read the CSV wrongly\""
      ],
      "execution_count": null,
      "outputs": []
    },
    {
      "cell_type": "code",
      "metadata": {
        "id": "GDZq4BgeHnHM"
      },
      "source": [
        "# Which columns does not contain numbers\n",
        "\n",
        "# TODO: check the columns that contain numbers\n"
      ],
      "execution_count": null,
      "outputs": []
    },
    {
      "cell_type": "code",
      "metadata": {
        "id": "6Yd6axbvHwck"
      },
      "source": [
        "# TODO: Get some statistics of your data. Are there any missing values?\n"
      ],
      "execution_count": null,
      "outputs": []
    },
    {
      "cell_type": "code",
      "metadata": {
        "id": "YgJD8QK7Oh_M"
      },
      "source": [
        ""
      ],
      "execution_count": null,
      "outputs": []
    },
    {
      "cell_type": "code",
      "metadata": {
        "id": "LjK7Z2JXJq7l"
      },
      "source": [
        "# TODO: Replace class labels by integers in your data\n",
        "\n"
      ],
      "execution_count": null,
      "outputs": []
    },
    {
      "cell_type": "code",
      "metadata": {
        "id": "5y_BmQ55pUGJ"
      },
      "source": [
        "### Tests. DO NOT MODIFY THIS COLUMN\n",
        "import os\n",
        "\n",
        "assert os.path.isdir('/content/data') == True, \"Directory names `data` is not found\"\n",
        "assert os.path.isfile('/content/data/iris.data') == True, \"No file named iris.data imported\"\n",
        "assert os.path.isfile('/content/data/iris.names') == True, \"No file named iris.names imported\"\n",
        "assert iris_df.dtypes[-1] == np.array([0]).dtype, 'Some columns contain strings. Last column should cotain integers.'\n",
        "\n",
        "print(\"All tests passed\")"
      ],
      "execution_count": null,
      "outputs": []
    },
    {
      "cell_type": "markdown",
      "metadata": {
        "id": "aHURkqxEK0Qm"
      },
      "source": [
        "Part 2"
      ]
    },
    {
      "cell_type": "markdown",
      "metadata": {
        "id": "4iMBAfoNK2TE"
      },
      "source": [
        "We will be building a class which will help us easily collect some characteristics of the data."
      ]
    },
    {
      "cell_type": "code",
      "metadata": {
        "id": "QJIoVFGdK10s"
      },
      "source": [
        "class IrisDataInfo:\n",
        "  '''\n",
        "  Helps to perform basic computation on a pandas dataframe.\n",
        "  '''\n",
        "  def __init__(self, df):\n",
        "    self.df = df # TODO: load in the dataframe into the object\n",
        "    self.mean = np.zeros(df.shape[1])\n",
        "    self.std = np.zeros(df.shape[1])\n",
        "\n",
        "  def __len__(self):\n",
        "    # TODO: return the length of the dataframe\n",
        "    # Return value is an integer\n",
        "    return\n",
        "\n",
        "  def mean_df(self):\n",
        "    # TODO: Calculate the mean of the dataframe columns. \n",
        "    # If mean as previously computed, return the computed mean instead\n",
        "    # The return value is a numpy array\n",
        "\n",
        "    return self.mean\n",
        "\n",
        "  def std_df(self):\n",
        "    # TODO: Calculate the standard deviation of the dataframe columns. \n",
        "    # If standard was previously computed, return the computed standard deviation instead\n",
        "    # Return value is a numpy array\n",
        "\n",
        "    return self.std\n",
        "\n",
        "  def get_data(self, index):\n",
        "    # TODO: Return the data examples in specific indexes of the dataframe. \n",
        "    # `index` can be an integer, a list, or a numpy array\n",
        "    # Return value is a pandas dataframe\n",
        "    return\n",
        "\n",
        "  def shuffle_df(self, reset_index=True):\n",
        "    # # TODO: Return a randomly shuffled version of the dataframe. Use the default seed while shuffling\n",
        "    # If reset_index, reset the indexes to start from 0. \n",
        "    # Previous indexes should not be part of the dataframe\n",
        "    # Return value is a pandas dataframe\n",
        "\n",
        "    return\n",
        "\n",
        "  def sample_df(self, num_sample=10, seed=0):\n",
        "    # TODO: Return a partial sample of your dataframe. Sampling is important when doing bootstrapping\n",
        "    # You should also reset the index\n",
        "    # Return value is a pandas dataframe\n",
        "\n",
        "    return\n",
        "\n",
        "  def normalize_df(self):\n",
        "    # TODO: Return a normalized version of the dataframe.\n",
        "    # To normalize the dataframe, subtract the mean and divide by the standard deviation\n",
        "    # Return value is a pandas dataframe\n",
        "    \n",
        "    return"
      ],
      "execution_count": null,
      "outputs": []
    },
    {
      "cell_type": "code",
      "metadata": {
        "id": "mFlyEF4fhuKE"
      },
      "source": [
        "## DO NOT MODIFY. CHECK YOUR ANSWER WITH THIS\n",
        "\n",
        "iris_class = IrisDataInfo(iris_df)\n",
        "\n",
        "assert np.allclose(iris_class.mean_df().sum(), 15.8546) == True, \"Mean is incorrect\"\n",
        "assert iris_class.mean.sum() ==  iris_class.mean_df().sum(), \"Mean is not calculated\"\n",
        "\n",
        "assert iris_class.std_df().sum() == 4.60847352151218, \"Standard deviation is incorrect\"\n",
        "assert iris_class.std.sum() == iris_class.std_df().sum(), \"Standard deviation is not well\"\n",
        "\n",
        "assert len(iris_class) == 150, 'Length of dataframe is incorrect'\n",
        "assert np.allclose(iris_class.normalize_df().mean().sum(), 0)  == True, \"Dataframe was not properly normalized\"\n",
        "assert iris_class.sample_df().mean().sum() != iris_class.sample_df().mean().sum(), \"Sampling was not implemented correctly\"\n",
        "\n",
        "print(\"All tests passed\")"
      ],
      "execution_count": null,
      "outputs": []
    },
    {
      "cell_type": "markdown",
      "metadata": {
        "id": "V8YOCPFvWUNq"
      },
      "source": [
        "## OPTIONAL: Ignore if you are so tired"
      ]
    },
    {
      "cell_type": "markdown",
      "metadata": {
        "id": "eiDmU-thYZoq"
      },
      "source": [
        "Part 3: Let's do something useful with our class"
      ]
    },
    {
      "cell_type": "markdown",
      "metadata": {
        "id": "O_HGdobYLOh6"
      },
      "source": [
        "a. We want to track which features (columns) are correlated. Which feature has the highest correlation with the class/label."
      ]
    },
    {
      "cell_type": "code",
      "metadata": {
        "id": "G9QfJfcEKUjP"
      },
      "source": [
        "# Calculate the correlation between different columns.\n",
        "\n",
        "def find_highest_corr_feature(obj: IrisDataInfo):\n",
        "  ##TODO: Given the iris_dataset object, \n",
        "  ## a) calculate the correlation matrix between each features\n",
        "  ## b) Extract the value the feature with highest correlation with label\n",
        "  ## c) also, find the feature name\n",
        "\n",
        "  corr_df = obj.df.corr()\n",
        "  max_corr = \n",
        "  corr_class =\n",
        "  ###################################\n",
        "  return corr_class, max_corr"
      ],
      "execution_count": null,
      "outputs": []
    },
    {
      "cell_type": "code",
      "metadata": {
        "id": "o4_XZDBqYK-q"
      },
      "source": [
        "## Test. DO NOT MODIFY. CHECK YOUR ANSWER WITH THIS\n",
        "\n",
        "assert np.allclose(find_highest_corr_feature(iris_class)[1], 0.649101) == True, \"Find_highest_corr_feature not properly implemented\""
      ],
      "execution_count": null,
      "outputs": []
    },
    {
      "cell_type": "markdown",
      "metadata": {
        "id": "FdStHrmMVOGT"
      },
      "source": [
        "# CONGRATS, YOU HAVE COME TO THE END"
      ]
    }
  ]
}