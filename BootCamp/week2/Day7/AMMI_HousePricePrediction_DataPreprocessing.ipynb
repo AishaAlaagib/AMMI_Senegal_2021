{
  "nbformat": 4,
  "nbformat_minor": 0,
  "metadata": {
    "hide_input": false,
    "kernelspec": {
      "display_name": "Python 3",
      "language": "python",
      "name": "python3"
    },
    "language_info": {
      "codemirror_mode": {
        "name": "ipython",
        "version": 3
      },
      "file_extension": ".py",
      "mimetype": "text/x-python",
      "name": "python",
      "nbconvert_exporter": "python",
      "pygments_lexer": "ipython3",
      "version": "3.6.8"
    },
    "toc": {
      "base_numbering": 1,
      "nav_menu": {},
      "number_sections": true,
      "sideBar": true,
      "skip_h1_title": false,
      "title_cell": "Table of Contents",
      "title_sidebar": "Contents",
      "toc_cell": false,
      "toc_position": {
        "height": "calc(100% - 180px)",
        "left": "10px",
        "top": "150px",
        "width": "244.396px"
      },
      "toc_section_display": true,
      "toc_window_display": true
    },
    "colab": {
      "name": "AMMI_HousePricePrediction_DataPreprocessing.ipynb",
      "provenance": []
    }
  },
  "cells": [
    {
      "cell_type": "markdown",
      "metadata": {
        "id": "Ka2BO4tbja4O"
      },
      "source": [
        "## Intoduction"
      ]
    },
    {
      "cell_type": "markdown",
      "metadata": {
        "id": "mTB6-PqYja4U"
      },
      "source": [
        "- Ask a home buyer to describe their dream house, and they probably won't begin with the height of the basement ceiling or the proximity to an east-west railroad. But this playground competition's dataset proves that much more influences price negotiations than the number of bedrooms or a white-picket fence.\n",
        "\n",
        "- With 79 explanatory variables describing (almost) every aspect of residential homes in Ames, Iowa, this competition challenges you to predict the final price of each home.\n",
        "\n",
        "- <a>http://www.amstat.org/publications/jse/v19n3/decock.pdf</a> "
      ]
    },
    {
      "cell_type": "code",
      "metadata": {
        "id": "M9kyglgWj_qb"
      },
      "source": [
        "!mkdir data"
      ],
      "execution_count": null,
      "outputs": []
    },
    {
      "cell_type": "code",
      "metadata": {
        "colab": {
          "base_uri": "https://localhost:8080/"
        },
        "id": "ZVZvMdwykG6p",
        "outputId": "9d3760a8-647f-4116-9702-64bc5ba5ee6b"
      },
      "source": [
        "!wget -P data https://raw.githubusercontent.com/ogunlao/HousePricePrediction/master/train.csv"
      ],
      "execution_count": null,
      "outputs": [
        {
          "output_type": "stream",
          "text": [
            "--2021-02-02 12:37:29--  https://raw.githubusercontent.com/ogunlao/HousePricePrediction/master/train.csv\n",
            "Resolving raw.githubusercontent.com (raw.githubusercontent.com)... 151.101.0.133, 151.101.64.133, 151.101.128.133, ...\n",
            "Connecting to raw.githubusercontent.com (raw.githubusercontent.com)|151.101.0.133|:443... connected.\n",
            "HTTP request sent, awaiting response... 200 OK\n",
            "Length: 460676 (450K) [text/plain]\n",
            "Saving to: ‘data/train.csv’\n",
            "\n",
            "train.csv           100%[===================>] 449.88K  --.-KB/s    in 0.02s   \n",
            "\n",
            "2021-02-02 12:37:29 (27.8 MB/s) - ‘data/train.csv’ saved [460676/460676]\n",
            "\n"
          ],
          "name": "stdout"
        }
      ]
    },
    {
      "cell_type": "code",
      "metadata": {
        "id": "_EHQZ3q_ja4V"
      },
      "source": [
        "path = '/content/data'"
      ],
      "execution_count": null,
      "outputs": []
    },
    {
      "cell_type": "code",
      "metadata": {
        "id": "WDX75zllja4W"
      },
      "source": [
        "import pandas as pd\n",
        "import numpy as np\n",
        "import matplotlib.pyplot as plt\n",
        "import os\n",
        "\n",
        "\n",
        "# show all df columns\n",
        "pd.set_option('display.max_columns', None)\n",
        "%matplotlib inline"
      ],
      "execution_count": null,
      "outputs": []
    },
    {
      "cell_type": "code",
      "metadata": {
        "id": "SJAKlUGyja4W"
      },
      "source": [
        "df_train = pd.read_csv(f\"{path}/train.csv\", index_col='Id')"
      ],
      "execution_count": null,
      "outputs": []
    },
    {
      "cell_type": "code",
      "metadata": {
        "colab": {
          "base_uri": "https://localhost:8080/"
        },
        "id": "OFJwYWPno6iH",
        "outputId": "24067991-449b-4cbf-f9fb-cef350619093"
      },
      "source": [
        "df_train.info()"
      ],
      "execution_count": null,
      "outputs": [
        {
          "output_type": "stream",
          "text": [
            "<class 'pandas.core.frame.DataFrame'>\n",
            "Int64Index: 1460 entries, 1 to 1460\n",
            "Data columns (total 80 columns):\n",
            " #   Column         Non-Null Count  Dtype  \n",
            "---  ------         --------------  -----  \n",
            " 0   MSSubClass     1460 non-null   int64  \n",
            " 1   MSZoning       1460 non-null   object \n",
            " 2   LotFrontage    1201 non-null   float64\n",
            " 3   LotArea        1460 non-null   int64  \n",
            " 4   Street         1460 non-null   object \n",
            " 5   Alley          91 non-null     object \n",
            " 6   LotShape       1460 non-null   object \n",
            " 7   LandContour    1460 non-null   object \n",
            " 8   Utilities      1460 non-null   object \n",
            " 9   LotConfig      1460 non-null   object \n",
            " 10  LandSlope      1460 non-null   object \n",
            " 11  Neighborhood   1460 non-null   object \n",
            " 12  Condition1     1460 non-null   object \n",
            " 13  Condition2     1460 non-null   object \n",
            " 14  BldgType       1460 non-null   object \n",
            " 15  HouseStyle     1460 non-null   object \n",
            " 16  OverallQual    1460 non-null   int64  \n",
            " 17  OverallCond    1460 non-null   int64  \n",
            " 18  YearBuilt      1460 non-null   int64  \n",
            " 19  YearRemodAdd   1460 non-null   int64  \n",
            " 20  RoofStyle      1460 non-null   object \n",
            " 21  RoofMatl       1460 non-null   object \n",
            " 22  Exterior1st    1460 non-null   object \n",
            " 23  Exterior2nd    1460 non-null   object \n",
            " 24  MasVnrType     1452 non-null   object \n",
            " 25  MasVnrArea     1452 non-null   float64\n",
            " 26  ExterQual      1460 non-null   object \n",
            " 27  ExterCond      1460 non-null   object \n",
            " 28  Foundation     1460 non-null   object \n",
            " 29  BsmtQual       1423 non-null   object \n",
            " 30  BsmtCond       1423 non-null   object \n",
            " 31  BsmtExposure   1422 non-null   object \n",
            " 32  BsmtFinType1   1423 non-null   object \n",
            " 33  BsmtFinSF1     1460 non-null   int64  \n",
            " 34  BsmtFinType2   1422 non-null   object \n",
            " 35  BsmtFinSF2     1460 non-null   int64  \n",
            " 36  BsmtUnfSF      1460 non-null   int64  \n",
            " 37  TotalBsmtSF    1460 non-null   int64  \n",
            " 38  Heating        1460 non-null   object \n",
            " 39  HeatingQC      1460 non-null   object \n",
            " 40  CentralAir     1460 non-null   object \n",
            " 41  Electrical     1459 non-null   object \n",
            " 42  1stFlrSF       1460 non-null   int64  \n",
            " 43  2ndFlrSF       1460 non-null   int64  \n",
            " 44  LowQualFinSF   1460 non-null   int64  \n",
            " 45  GrLivArea      1460 non-null   int64  \n",
            " 46  BsmtFullBath   1460 non-null   int64  \n",
            " 47  BsmtHalfBath   1460 non-null   int64  \n",
            " 48  FullBath       1460 non-null   int64  \n",
            " 49  HalfBath       1460 non-null   int64  \n",
            " 50  BedroomAbvGr   1460 non-null   int64  \n",
            " 51  KitchenAbvGr   1460 non-null   int64  \n",
            " 52  KitchenQual    1460 non-null   object \n",
            " 53  TotRmsAbvGrd   1460 non-null   int64  \n",
            " 54  Functional     1460 non-null   object \n",
            " 55  Fireplaces     1460 non-null   int64  \n",
            " 56  FireplaceQu    770 non-null    object \n",
            " 57  GarageType     1379 non-null   object \n",
            " 58  GarageYrBlt    1379 non-null   float64\n",
            " 59  GarageFinish   1379 non-null   object \n",
            " 60  GarageCars     1460 non-null   int64  \n",
            " 61  GarageArea     1460 non-null   int64  \n",
            " 62  GarageQual     1379 non-null   object \n",
            " 63  GarageCond     1379 non-null   object \n",
            " 64  PavedDrive     1460 non-null   object \n",
            " 65  WoodDeckSF     1460 non-null   int64  \n",
            " 66  OpenPorchSF    1460 non-null   int64  \n",
            " 67  EnclosedPorch  1460 non-null   int64  \n",
            " 68  3SsnPorch      1460 non-null   int64  \n",
            " 69  ScreenPorch    1460 non-null   int64  \n",
            " 70  PoolArea       1460 non-null   int64  \n",
            " 71  PoolQC         7 non-null      object \n",
            " 72  Fence          281 non-null    object \n",
            " 73  MiscFeature    54 non-null     object \n",
            " 74  MiscVal        1460 non-null   int64  \n",
            " 75  MoSold         1460 non-null   int64  \n",
            " 76  YrSold         1460 non-null   int64  \n",
            " 77  SaleType       1460 non-null   object \n",
            " 78  SaleCondition  1460 non-null   object \n",
            " 79  SalePrice      1460 non-null   int64  \n",
            "dtypes: float64(3), int64(34), object(43)\n",
            "memory usage: 923.9+ KB\n"
          ],
          "name": "stdout"
        }
      ]
    },
    {
      "cell_type": "code",
      "metadata": {
        "colab": {
          "base_uri": "https://localhost:8080/",
          "height": 254
        },
        "id": "O6QCVqCgnHo9",
        "outputId": "965e4ea9-ee19-4b34-dc93-7112df37bddd"
      },
      "source": [
        "df_train.head()"
      ],
      "execution_count": null,
      "outputs": [
        {
          "output_type": "execute_result",
          "data": {
            "text/html": [
              "<div>\n",
              "<style scoped>\n",
              "    .dataframe tbody tr th:only-of-type {\n",
              "        vertical-align: middle;\n",
              "    }\n",
              "\n",
              "    .dataframe tbody tr th {\n",
              "        vertical-align: top;\n",
              "    }\n",
              "\n",
              "    .dataframe thead th {\n",
              "        text-align: right;\n",
              "    }\n",
              "</style>\n",
              "<table border=\"1\" class=\"dataframe\">\n",
              "  <thead>\n",
              "    <tr style=\"text-align: right;\">\n",
              "      <th></th>\n",
              "      <th>MSSubClass</th>\n",
              "      <th>MSZoning</th>\n",
              "      <th>LotFrontage</th>\n",
              "      <th>LotArea</th>\n",
              "      <th>Street</th>\n",
              "      <th>Alley</th>\n",
              "      <th>LotShape</th>\n",
              "      <th>LandContour</th>\n",
              "      <th>Utilities</th>\n",
              "      <th>LotConfig</th>\n",
              "      <th>LandSlope</th>\n",
              "      <th>Neighborhood</th>\n",
              "      <th>Condition1</th>\n",
              "      <th>Condition2</th>\n",
              "      <th>BldgType</th>\n",
              "      <th>HouseStyle</th>\n",
              "      <th>OverallQual</th>\n",
              "      <th>OverallCond</th>\n",
              "      <th>YearBuilt</th>\n",
              "      <th>YearRemodAdd</th>\n",
              "      <th>RoofStyle</th>\n",
              "      <th>RoofMatl</th>\n",
              "      <th>Exterior1st</th>\n",
              "      <th>Exterior2nd</th>\n",
              "      <th>MasVnrType</th>\n",
              "      <th>MasVnrArea</th>\n",
              "      <th>ExterQual</th>\n",
              "      <th>ExterCond</th>\n",
              "      <th>Foundation</th>\n",
              "      <th>BsmtQual</th>\n",
              "      <th>BsmtCond</th>\n",
              "      <th>BsmtExposure</th>\n",
              "      <th>BsmtFinType1</th>\n",
              "      <th>BsmtFinSF1</th>\n",
              "      <th>BsmtFinType2</th>\n",
              "      <th>BsmtFinSF2</th>\n",
              "      <th>BsmtUnfSF</th>\n",
              "      <th>TotalBsmtSF</th>\n",
              "      <th>Heating</th>\n",
              "      <th>HeatingQC</th>\n",
              "      <th>CentralAir</th>\n",
              "      <th>Electrical</th>\n",
              "      <th>1stFlrSF</th>\n",
              "      <th>2ndFlrSF</th>\n",
              "      <th>LowQualFinSF</th>\n",
              "      <th>GrLivArea</th>\n",
              "      <th>BsmtFullBath</th>\n",
              "      <th>BsmtHalfBath</th>\n",
              "      <th>FullBath</th>\n",
              "      <th>HalfBath</th>\n",
              "      <th>BedroomAbvGr</th>\n",
              "      <th>KitchenAbvGr</th>\n",
              "      <th>KitchenQual</th>\n",
              "      <th>TotRmsAbvGrd</th>\n",
              "      <th>Functional</th>\n",
              "      <th>Fireplaces</th>\n",
              "      <th>FireplaceQu</th>\n",
              "      <th>GarageType</th>\n",
              "      <th>GarageYrBlt</th>\n",
              "      <th>GarageFinish</th>\n",
              "      <th>GarageCars</th>\n",
              "      <th>GarageArea</th>\n",
              "      <th>GarageQual</th>\n",
              "      <th>GarageCond</th>\n",
              "      <th>PavedDrive</th>\n",
              "      <th>WoodDeckSF</th>\n",
              "      <th>OpenPorchSF</th>\n",
              "      <th>EnclosedPorch</th>\n",
              "      <th>3SsnPorch</th>\n",
              "      <th>ScreenPorch</th>\n",
              "      <th>PoolArea</th>\n",
              "      <th>PoolQC</th>\n",
              "      <th>Fence</th>\n",
              "      <th>MiscFeature</th>\n",
              "      <th>MiscVal</th>\n",
              "      <th>MoSold</th>\n",
              "      <th>YrSold</th>\n",
              "      <th>SaleType</th>\n",
              "      <th>SaleCondition</th>\n",
              "      <th>SalePrice</th>\n",
              "    </tr>\n",
              "    <tr>\n",
              "      <th>Id</th>\n",
              "      <th></th>\n",
              "      <th></th>\n",
              "      <th></th>\n",
              "      <th></th>\n",
              "      <th></th>\n",
              "      <th></th>\n",
              "      <th></th>\n",
              "      <th></th>\n",
              "      <th></th>\n",
              "      <th></th>\n",
              "      <th></th>\n",
              "      <th></th>\n",
              "      <th></th>\n",
              "      <th></th>\n",
              "      <th></th>\n",
              "      <th></th>\n",
              "      <th></th>\n",
              "      <th></th>\n",
              "      <th></th>\n",
              "      <th></th>\n",
              "      <th></th>\n",
              "      <th></th>\n",
              "      <th></th>\n",
              "      <th></th>\n",
              "      <th></th>\n",
              "      <th></th>\n",
              "      <th></th>\n",
              "      <th></th>\n",
              "      <th></th>\n",
              "      <th></th>\n",
              "      <th></th>\n",
              "      <th></th>\n",
              "      <th></th>\n",
              "      <th></th>\n",
              "      <th></th>\n",
              "      <th></th>\n",
              "      <th></th>\n",
              "      <th></th>\n",
              "      <th></th>\n",
              "      <th></th>\n",
              "      <th></th>\n",
              "      <th></th>\n",
              "      <th></th>\n",
              "      <th></th>\n",
              "      <th></th>\n",
              "      <th></th>\n",
              "      <th></th>\n",
              "      <th></th>\n",
              "      <th></th>\n",
              "      <th></th>\n",
              "      <th></th>\n",
              "      <th></th>\n",
              "      <th></th>\n",
              "      <th></th>\n",
              "      <th></th>\n",
              "      <th></th>\n",
              "      <th></th>\n",
              "      <th></th>\n",
              "      <th></th>\n",
              "      <th></th>\n",
              "      <th></th>\n",
              "      <th></th>\n",
              "      <th></th>\n",
              "      <th></th>\n",
              "      <th></th>\n",
              "      <th></th>\n",
              "      <th></th>\n",
              "      <th></th>\n",
              "      <th></th>\n",
              "      <th></th>\n",
              "      <th></th>\n",
              "      <th></th>\n",
              "      <th></th>\n",
              "      <th></th>\n",
              "      <th></th>\n",
              "      <th></th>\n",
              "      <th></th>\n",
              "      <th></th>\n",
              "      <th></th>\n",
              "      <th></th>\n",
              "    </tr>\n",
              "  </thead>\n",
              "  <tbody>\n",
              "    <tr>\n",
              "      <th>1</th>\n",
              "      <td>60</td>\n",
              "      <td>RL</td>\n",
              "      <td>65.0</td>\n",
              "      <td>8450</td>\n",
              "      <td>Pave</td>\n",
              "      <td>NaN</td>\n",
              "      <td>Reg</td>\n",
              "      <td>Lvl</td>\n",
              "      <td>AllPub</td>\n",
              "      <td>Inside</td>\n",
              "      <td>Gtl</td>\n",
              "      <td>CollgCr</td>\n",
              "      <td>Norm</td>\n",
              "      <td>Norm</td>\n",
              "      <td>1Fam</td>\n",
              "      <td>2Story</td>\n",
              "      <td>7</td>\n",
              "      <td>5</td>\n",
              "      <td>2003</td>\n",
              "      <td>2003</td>\n",
              "      <td>Gable</td>\n",
              "      <td>CompShg</td>\n",
              "      <td>VinylSd</td>\n",
              "      <td>VinylSd</td>\n",
              "      <td>BrkFace</td>\n",
              "      <td>196.0</td>\n",
              "      <td>Gd</td>\n",
              "      <td>TA</td>\n",
              "      <td>PConc</td>\n",
              "      <td>Gd</td>\n",
              "      <td>TA</td>\n",
              "      <td>No</td>\n",
              "      <td>GLQ</td>\n",
              "      <td>706</td>\n",
              "      <td>Unf</td>\n",
              "      <td>0</td>\n",
              "      <td>150</td>\n",
              "      <td>856</td>\n",
              "      <td>GasA</td>\n",
              "      <td>Ex</td>\n",
              "      <td>Y</td>\n",
              "      <td>SBrkr</td>\n",
              "      <td>856</td>\n",
              "      <td>854</td>\n",
              "      <td>0</td>\n",
              "      <td>1710</td>\n",
              "      <td>1</td>\n",
              "      <td>0</td>\n",
              "      <td>2</td>\n",
              "      <td>1</td>\n",
              "      <td>3</td>\n",
              "      <td>1</td>\n",
              "      <td>Gd</td>\n",
              "      <td>8</td>\n",
              "      <td>Typ</td>\n",
              "      <td>0</td>\n",
              "      <td>NaN</td>\n",
              "      <td>Attchd</td>\n",
              "      <td>2003.0</td>\n",
              "      <td>RFn</td>\n",
              "      <td>2</td>\n",
              "      <td>548</td>\n",
              "      <td>TA</td>\n",
              "      <td>TA</td>\n",
              "      <td>Y</td>\n",
              "      <td>0</td>\n",
              "      <td>61</td>\n",
              "      <td>0</td>\n",
              "      <td>0</td>\n",
              "      <td>0</td>\n",
              "      <td>0</td>\n",
              "      <td>NaN</td>\n",
              "      <td>NaN</td>\n",
              "      <td>NaN</td>\n",
              "      <td>0</td>\n",
              "      <td>2</td>\n",
              "      <td>2008</td>\n",
              "      <td>WD</td>\n",
              "      <td>Normal</td>\n",
              "      <td>208500</td>\n",
              "    </tr>\n",
              "    <tr>\n",
              "      <th>2</th>\n",
              "      <td>20</td>\n",
              "      <td>RL</td>\n",
              "      <td>80.0</td>\n",
              "      <td>9600</td>\n",
              "      <td>Pave</td>\n",
              "      <td>NaN</td>\n",
              "      <td>Reg</td>\n",
              "      <td>Lvl</td>\n",
              "      <td>AllPub</td>\n",
              "      <td>FR2</td>\n",
              "      <td>Gtl</td>\n",
              "      <td>Veenker</td>\n",
              "      <td>Feedr</td>\n",
              "      <td>Norm</td>\n",
              "      <td>1Fam</td>\n",
              "      <td>1Story</td>\n",
              "      <td>6</td>\n",
              "      <td>8</td>\n",
              "      <td>1976</td>\n",
              "      <td>1976</td>\n",
              "      <td>Gable</td>\n",
              "      <td>CompShg</td>\n",
              "      <td>MetalSd</td>\n",
              "      <td>MetalSd</td>\n",
              "      <td>None</td>\n",
              "      <td>0.0</td>\n",
              "      <td>TA</td>\n",
              "      <td>TA</td>\n",
              "      <td>CBlock</td>\n",
              "      <td>Gd</td>\n",
              "      <td>TA</td>\n",
              "      <td>Gd</td>\n",
              "      <td>ALQ</td>\n",
              "      <td>978</td>\n",
              "      <td>Unf</td>\n",
              "      <td>0</td>\n",
              "      <td>284</td>\n",
              "      <td>1262</td>\n",
              "      <td>GasA</td>\n",
              "      <td>Ex</td>\n",
              "      <td>Y</td>\n",
              "      <td>SBrkr</td>\n",
              "      <td>1262</td>\n",
              "      <td>0</td>\n",
              "      <td>0</td>\n",
              "      <td>1262</td>\n",
              "      <td>0</td>\n",
              "      <td>1</td>\n",
              "      <td>2</td>\n",
              "      <td>0</td>\n",
              "      <td>3</td>\n",
              "      <td>1</td>\n",
              "      <td>TA</td>\n",
              "      <td>6</td>\n",
              "      <td>Typ</td>\n",
              "      <td>1</td>\n",
              "      <td>TA</td>\n",
              "      <td>Attchd</td>\n",
              "      <td>1976.0</td>\n",
              "      <td>RFn</td>\n",
              "      <td>2</td>\n",
              "      <td>460</td>\n",
              "      <td>TA</td>\n",
              "      <td>TA</td>\n",
              "      <td>Y</td>\n",
              "      <td>298</td>\n",
              "      <td>0</td>\n",
              "      <td>0</td>\n",
              "      <td>0</td>\n",
              "      <td>0</td>\n",
              "      <td>0</td>\n",
              "      <td>NaN</td>\n",
              "      <td>NaN</td>\n",
              "      <td>NaN</td>\n",
              "      <td>0</td>\n",
              "      <td>5</td>\n",
              "      <td>2007</td>\n",
              "      <td>WD</td>\n",
              "      <td>Normal</td>\n",
              "      <td>181500</td>\n",
              "    </tr>\n",
              "    <tr>\n",
              "      <th>3</th>\n",
              "      <td>60</td>\n",
              "      <td>RL</td>\n",
              "      <td>68.0</td>\n",
              "      <td>11250</td>\n",
              "      <td>Pave</td>\n",
              "      <td>NaN</td>\n",
              "      <td>IR1</td>\n",
              "      <td>Lvl</td>\n",
              "      <td>AllPub</td>\n",
              "      <td>Inside</td>\n",
              "      <td>Gtl</td>\n",
              "      <td>CollgCr</td>\n",
              "      <td>Norm</td>\n",
              "      <td>Norm</td>\n",
              "      <td>1Fam</td>\n",
              "      <td>2Story</td>\n",
              "      <td>7</td>\n",
              "      <td>5</td>\n",
              "      <td>2001</td>\n",
              "      <td>2002</td>\n",
              "      <td>Gable</td>\n",
              "      <td>CompShg</td>\n",
              "      <td>VinylSd</td>\n",
              "      <td>VinylSd</td>\n",
              "      <td>BrkFace</td>\n",
              "      <td>162.0</td>\n",
              "      <td>Gd</td>\n",
              "      <td>TA</td>\n",
              "      <td>PConc</td>\n",
              "      <td>Gd</td>\n",
              "      <td>TA</td>\n",
              "      <td>Mn</td>\n",
              "      <td>GLQ</td>\n",
              "      <td>486</td>\n",
              "      <td>Unf</td>\n",
              "      <td>0</td>\n",
              "      <td>434</td>\n",
              "      <td>920</td>\n",
              "      <td>GasA</td>\n",
              "      <td>Ex</td>\n",
              "      <td>Y</td>\n",
              "      <td>SBrkr</td>\n",
              "      <td>920</td>\n",
              "      <td>866</td>\n",
              "      <td>0</td>\n",
              "      <td>1786</td>\n",
              "      <td>1</td>\n",
              "      <td>0</td>\n",
              "      <td>2</td>\n",
              "      <td>1</td>\n",
              "      <td>3</td>\n",
              "      <td>1</td>\n",
              "      <td>Gd</td>\n",
              "      <td>6</td>\n",
              "      <td>Typ</td>\n",
              "      <td>1</td>\n",
              "      <td>TA</td>\n",
              "      <td>Attchd</td>\n",
              "      <td>2001.0</td>\n",
              "      <td>RFn</td>\n",
              "      <td>2</td>\n",
              "      <td>608</td>\n",
              "      <td>TA</td>\n",
              "      <td>TA</td>\n",
              "      <td>Y</td>\n",
              "      <td>0</td>\n",
              "      <td>42</td>\n",
              "      <td>0</td>\n",
              "      <td>0</td>\n",
              "      <td>0</td>\n",
              "      <td>0</td>\n",
              "      <td>NaN</td>\n",
              "      <td>NaN</td>\n",
              "      <td>NaN</td>\n",
              "      <td>0</td>\n",
              "      <td>9</td>\n",
              "      <td>2008</td>\n",
              "      <td>WD</td>\n",
              "      <td>Normal</td>\n",
              "      <td>223500</td>\n",
              "    </tr>\n",
              "    <tr>\n",
              "      <th>4</th>\n",
              "      <td>70</td>\n",
              "      <td>RL</td>\n",
              "      <td>60.0</td>\n",
              "      <td>9550</td>\n",
              "      <td>Pave</td>\n",
              "      <td>NaN</td>\n",
              "      <td>IR1</td>\n",
              "      <td>Lvl</td>\n",
              "      <td>AllPub</td>\n",
              "      <td>Corner</td>\n",
              "      <td>Gtl</td>\n",
              "      <td>Crawfor</td>\n",
              "      <td>Norm</td>\n",
              "      <td>Norm</td>\n",
              "      <td>1Fam</td>\n",
              "      <td>2Story</td>\n",
              "      <td>7</td>\n",
              "      <td>5</td>\n",
              "      <td>1915</td>\n",
              "      <td>1970</td>\n",
              "      <td>Gable</td>\n",
              "      <td>CompShg</td>\n",
              "      <td>Wd Sdng</td>\n",
              "      <td>Wd Shng</td>\n",
              "      <td>None</td>\n",
              "      <td>0.0</td>\n",
              "      <td>TA</td>\n",
              "      <td>TA</td>\n",
              "      <td>BrkTil</td>\n",
              "      <td>TA</td>\n",
              "      <td>Gd</td>\n",
              "      <td>No</td>\n",
              "      <td>ALQ</td>\n",
              "      <td>216</td>\n",
              "      <td>Unf</td>\n",
              "      <td>0</td>\n",
              "      <td>540</td>\n",
              "      <td>756</td>\n",
              "      <td>GasA</td>\n",
              "      <td>Gd</td>\n",
              "      <td>Y</td>\n",
              "      <td>SBrkr</td>\n",
              "      <td>961</td>\n",
              "      <td>756</td>\n",
              "      <td>0</td>\n",
              "      <td>1717</td>\n",
              "      <td>1</td>\n",
              "      <td>0</td>\n",
              "      <td>1</td>\n",
              "      <td>0</td>\n",
              "      <td>3</td>\n",
              "      <td>1</td>\n",
              "      <td>Gd</td>\n",
              "      <td>7</td>\n",
              "      <td>Typ</td>\n",
              "      <td>1</td>\n",
              "      <td>Gd</td>\n",
              "      <td>Detchd</td>\n",
              "      <td>1998.0</td>\n",
              "      <td>Unf</td>\n",
              "      <td>3</td>\n",
              "      <td>642</td>\n",
              "      <td>TA</td>\n",
              "      <td>TA</td>\n",
              "      <td>Y</td>\n",
              "      <td>0</td>\n",
              "      <td>35</td>\n",
              "      <td>272</td>\n",
              "      <td>0</td>\n",
              "      <td>0</td>\n",
              "      <td>0</td>\n",
              "      <td>NaN</td>\n",
              "      <td>NaN</td>\n",
              "      <td>NaN</td>\n",
              "      <td>0</td>\n",
              "      <td>2</td>\n",
              "      <td>2006</td>\n",
              "      <td>WD</td>\n",
              "      <td>Abnorml</td>\n",
              "      <td>140000</td>\n",
              "    </tr>\n",
              "    <tr>\n",
              "      <th>5</th>\n",
              "      <td>60</td>\n",
              "      <td>RL</td>\n",
              "      <td>84.0</td>\n",
              "      <td>14260</td>\n",
              "      <td>Pave</td>\n",
              "      <td>NaN</td>\n",
              "      <td>IR1</td>\n",
              "      <td>Lvl</td>\n",
              "      <td>AllPub</td>\n",
              "      <td>FR2</td>\n",
              "      <td>Gtl</td>\n",
              "      <td>NoRidge</td>\n",
              "      <td>Norm</td>\n",
              "      <td>Norm</td>\n",
              "      <td>1Fam</td>\n",
              "      <td>2Story</td>\n",
              "      <td>8</td>\n",
              "      <td>5</td>\n",
              "      <td>2000</td>\n",
              "      <td>2000</td>\n",
              "      <td>Gable</td>\n",
              "      <td>CompShg</td>\n",
              "      <td>VinylSd</td>\n",
              "      <td>VinylSd</td>\n",
              "      <td>BrkFace</td>\n",
              "      <td>350.0</td>\n",
              "      <td>Gd</td>\n",
              "      <td>TA</td>\n",
              "      <td>PConc</td>\n",
              "      <td>Gd</td>\n",
              "      <td>TA</td>\n",
              "      <td>Av</td>\n",
              "      <td>GLQ</td>\n",
              "      <td>655</td>\n",
              "      <td>Unf</td>\n",
              "      <td>0</td>\n",
              "      <td>490</td>\n",
              "      <td>1145</td>\n",
              "      <td>GasA</td>\n",
              "      <td>Ex</td>\n",
              "      <td>Y</td>\n",
              "      <td>SBrkr</td>\n",
              "      <td>1145</td>\n",
              "      <td>1053</td>\n",
              "      <td>0</td>\n",
              "      <td>2198</td>\n",
              "      <td>1</td>\n",
              "      <td>0</td>\n",
              "      <td>2</td>\n",
              "      <td>1</td>\n",
              "      <td>4</td>\n",
              "      <td>1</td>\n",
              "      <td>Gd</td>\n",
              "      <td>9</td>\n",
              "      <td>Typ</td>\n",
              "      <td>1</td>\n",
              "      <td>TA</td>\n",
              "      <td>Attchd</td>\n",
              "      <td>2000.0</td>\n",
              "      <td>RFn</td>\n",
              "      <td>3</td>\n",
              "      <td>836</td>\n",
              "      <td>TA</td>\n",
              "      <td>TA</td>\n",
              "      <td>Y</td>\n",
              "      <td>192</td>\n",
              "      <td>84</td>\n",
              "      <td>0</td>\n",
              "      <td>0</td>\n",
              "      <td>0</td>\n",
              "      <td>0</td>\n",
              "      <td>NaN</td>\n",
              "      <td>NaN</td>\n",
              "      <td>NaN</td>\n",
              "      <td>0</td>\n",
              "      <td>12</td>\n",
              "      <td>2008</td>\n",
              "      <td>WD</td>\n",
              "      <td>Normal</td>\n",
              "      <td>250000</td>\n",
              "    </tr>\n",
              "  </tbody>\n",
              "</table>\n",
              "</div>"
            ],
            "text/plain": [
              "    MSSubClass MSZoning  LotFrontage  LotArea Street Alley LotShape  \\\n",
              "Id                                                                    \n",
              "1           60       RL         65.0     8450   Pave   NaN      Reg   \n",
              "2           20       RL         80.0     9600   Pave   NaN      Reg   \n",
              "3           60       RL         68.0    11250   Pave   NaN      IR1   \n",
              "4           70       RL         60.0     9550   Pave   NaN      IR1   \n",
              "5           60       RL         84.0    14260   Pave   NaN      IR1   \n",
              "\n",
              "   LandContour Utilities LotConfig LandSlope Neighborhood Condition1  \\\n",
              "Id                                                                     \n",
              "1          Lvl    AllPub    Inside       Gtl      CollgCr       Norm   \n",
              "2          Lvl    AllPub       FR2       Gtl      Veenker      Feedr   \n",
              "3          Lvl    AllPub    Inside       Gtl      CollgCr       Norm   \n",
              "4          Lvl    AllPub    Corner       Gtl      Crawfor       Norm   \n",
              "5          Lvl    AllPub       FR2       Gtl      NoRidge       Norm   \n",
              "\n",
              "   Condition2 BldgType HouseStyle  OverallQual  OverallCond  YearBuilt  \\\n",
              "Id                                                                       \n",
              "1        Norm     1Fam     2Story            7            5       2003   \n",
              "2        Norm     1Fam     1Story            6            8       1976   \n",
              "3        Norm     1Fam     2Story            7            5       2001   \n",
              "4        Norm     1Fam     2Story            7            5       1915   \n",
              "5        Norm     1Fam     2Story            8            5       2000   \n",
              "\n",
              "    YearRemodAdd RoofStyle RoofMatl Exterior1st Exterior2nd MasVnrType  \\\n",
              "Id                                                                       \n",
              "1           2003     Gable  CompShg     VinylSd     VinylSd    BrkFace   \n",
              "2           1976     Gable  CompShg     MetalSd     MetalSd       None   \n",
              "3           2002     Gable  CompShg     VinylSd     VinylSd    BrkFace   \n",
              "4           1970     Gable  CompShg     Wd Sdng     Wd Shng       None   \n",
              "5           2000     Gable  CompShg     VinylSd     VinylSd    BrkFace   \n",
              "\n",
              "    MasVnrArea ExterQual ExterCond Foundation BsmtQual BsmtCond BsmtExposure  \\\n",
              "Id                                                                             \n",
              "1        196.0        Gd        TA      PConc       Gd       TA           No   \n",
              "2          0.0        TA        TA     CBlock       Gd       TA           Gd   \n",
              "3        162.0        Gd        TA      PConc       Gd       TA           Mn   \n",
              "4          0.0        TA        TA     BrkTil       TA       Gd           No   \n",
              "5        350.0        Gd        TA      PConc       Gd       TA           Av   \n",
              "\n",
              "   BsmtFinType1  BsmtFinSF1 BsmtFinType2  BsmtFinSF2  BsmtUnfSF  TotalBsmtSF  \\\n",
              "Id                                                                             \n",
              "1           GLQ         706          Unf           0        150          856   \n",
              "2           ALQ         978          Unf           0        284         1262   \n",
              "3           GLQ         486          Unf           0        434          920   \n",
              "4           ALQ         216          Unf           0        540          756   \n",
              "5           GLQ         655          Unf           0        490         1145   \n",
              "\n",
              "   Heating HeatingQC CentralAir Electrical  1stFlrSF  2ndFlrSF  LowQualFinSF  \\\n",
              "Id                                                                             \n",
              "1     GasA        Ex          Y      SBrkr       856       854             0   \n",
              "2     GasA        Ex          Y      SBrkr      1262         0             0   \n",
              "3     GasA        Ex          Y      SBrkr       920       866             0   \n",
              "4     GasA        Gd          Y      SBrkr       961       756             0   \n",
              "5     GasA        Ex          Y      SBrkr      1145      1053             0   \n",
              "\n",
              "    GrLivArea  BsmtFullBath  BsmtHalfBath  FullBath  HalfBath  BedroomAbvGr  \\\n",
              "Id                                                                            \n",
              "1        1710             1             0         2         1             3   \n",
              "2        1262             0             1         2         0             3   \n",
              "3        1786             1             0         2         1             3   \n",
              "4        1717             1             0         1         0             3   \n",
              "5        2198             1             0         2         1             4   \n",
              "\n",
              "    KitchenAbvGr KitchenQual  TotRmsAbvGrd Functional  Fireplaces FireplaceQu  \\\n",
              "Id                                                                              \n",
              "1              1          Gd             8        Typ           0         NaN   \n",
              "2              1          TA             6        Typ           1          TA   \n",
              "3              1          Gd             6        Typ           1          TA   \n",
              "4              1          Gd             7        Typ           1          Gd   \n",
              "5              1          Gd             9        Typ           1          TA   \n",
              "\n",
              "   GarageType  GarageYrBlt GarageFinish  GarageCars  GarageArea GarageQual  \\\n",
              "Id                                                                           \n",
              "1      Attchd       2003.0          RFn           2         548         TA   \n",
              "2      Attchd       1976.0          RFn           2         460         TA   \n",
              "3      Attchd       2001.0          RFn           2         608         TA   \n",
              "4      Detchd       1998.0          Unf           3         642         TA   \n",
              "5      Attchd       2000.0          RFn           3         836         TA   \n",
              "\n",
              "   GarageCond PavedDrive  WoodDeckSF  OpenPorchSF  EnclosedPorch  3SsnPorch  \\\n",
              "Id                                                                            \n",
              "1          TA          Y           0           61              0          0   \n",
              "2          TA          Y         298            0              0          0   \n",
              "3          TA          Y           0           42              0          0   \n",
              "4          TA          Y           0           35            272          0   \n",
              "5          TA          Y         192           84              0          0   \n",
              "\n",
              "    ScreenPorch  PoolArea PoolQC Fence MiscFeature  MiscVal  MoSold  YrSold  \\\n",
              "Id                                                                            \n",
              "1             0         0    NaN   NaN         NaN        0       2    2008   \n",
              "2             0         0    NaN   NaN         NaN        0       5    2007   \n",
              "3             0         0    NaN   NaN         NaN        0       9    2008   \n",
              "4             0         0    NaN   NaN         NaN        0       2    2006   \n",
              "5             0         0    NaN   NaN         NaN        0      12    2008   \n",
              "\n",
              "   SaleType SaleCondition  SalePrice  \n",
              "Id                                    \n",
              "1        WD        Normal     208500  \n",
              "2        WD        Normal     181500  \n",
              "3        WD        Normal     223500  \n",
              "4        WD       Abnorml     140000  \n",
              "5        WD        Normal     250000  "
            ]
          },
          "metadata": {
            "tags": []
          },
          "execution_count": 7
        }
      ]
    },
    {
      "cell_type": "code",
      "metadata": {
        "id": "gQMB_MdLmCul"
      },
      "source": [
        "col_to_use = [\"YearRemodAdd\", \"YrSold\", \"GrLivArea\", \"Alley\", \"MSZoning\", \"BsmtCond\", \"Street\", \"OverallQual\", \"SalePrice\"]\n",
        "\n",
        "df_train = df_train[col_to_use].copy()"
      ],
      "execution_count": null,
      "outputs": []
    },
    {
      "cell_type": "code",
      "metadata": {
        "id": "SWIh1DXfja4W",
        "colab": {
          "base_uri": "https://localhost:8080/",
          "height": 326
        },
        "outputId": "5d813e3f-3159-40d0-d5bc-1518b6bae384"
      },
      "source": [
        "df_train.head(10).T"
      ],
      "execution_count": null,
      "outputs": [
        {
          "output_type": "execute_result",
          "data": {
            "text/html": [
              "<div>\n",
              "<style scoped>\n",
              "    .dataframe tbody tr th:only-of-type {\n",
              "        vertical-align: middle;\n",
              "    }\n",
              "\n",
              "    .dataframe tbody tr th {\n",
              "        vertical-align: top;\n",
              "    }\n",
              "\n",
              "    .dataframe thead th {\n",
              "        text-align: right;\n",
              "    }\n",
              "</style>\n",
              "<table border=\"1\" class=\"dataframe\">\n",
              "  <thead>\n",
              "    <tr style=\"text-align: right;\">\n",
              "      <th>Id</th>\n",
              "      <th>1</th>\n",
              "      <th>2</th>\n",
              "      <th>3</th>\n",
              "      <th>4</th>\n",
              "      <th>5</th>\n",
              "      <th>6</th>\n",
              "      <th>7</th>\n",
              "      <th>8</th>\n",
              "      <th>9</th>\n",
              "      <th>10</th>\n",
              "    </tr>\n",
              "  </thead>\n",
              "  <tbody>\n",
              "    <tr>\n",
              "      <th>YearRemodAdd</th>\n",
              "      <td>2003</td>\n",
              "      <td>1976</td>\n",
              "      <td>2002</td>\n",
              "      <td>1970</td>\n",
              "      <td>2000</td>\n",
              "      <td>1995</td>\n",
              "      <td>2005</td>\n",
              "      <td>1973</td>\n",
              "      <td>1950</td>\n",
              "      <td>1950</td>\n",
              "    </tr>\n",
              "    <tr>\n",
              "      <th>YrSold</th>\n",
              "      <td>2008</td>\n",
              "      <td>2007</td>\n",
              "      <td>2008</td>\n",
              "      <td>2006</td>\n",
              "      <td>2008</td>\n",
              "      <td>2009</td>\n",
              "      <td>2007</td>\n",
              "      <td>2009</td>\n",
              "      <td>2008</td>\n",
              "      <td>2008</td>\n",
              "    </tr>\n",
              "    <tr>\n",
              "      <th>GrLivArea</th>\n",
              "      <td>1710</td>\n",
              "      <td>1262</td>\n",
              "      <td>1786</td>\n",
              "      <td>1717</td>\n",
              "      <td>2198</td>\n",
              "      <td>1362</td>\n",
              "      <td>1694</td>\n",
              "      <td>2090</td>\n",
              "      <td>1774</td>\n",
              "      <td>1077</td>\n",
              "    </tr>\n",
              "    <tr>\n",
              "      <th>Alley</th>\n",
              "      <td>NaN</td>\n",
              "      <td>NaN</td>\n",
              "      <td>NaN</td>\n",
              "      <td>NaN</td>\n",
              "      <td>NaN</td>\n",
              "      <td>NaN</td>\n",
              "      <td>NaN</td>\n",
              "      <td>NaN</td>\n",
              "      <td>NaN</td>\n",
              "      <td>NaN</td>\n",
              "    </tr>\n",
              "    <tr>\n",
              "      <th>MSZoning</th>\n",
              "      <td>RL</td>\n",
              "      <td>RL</td>\n",
              "      <td>RL</td>\n",
              "      <td>RL</td>\n",
              "      <td>RL</td>\n",
              "      <td>RL</td>\n",
              "      <td>RL</td>\n",
              "      <td>RL</td>\n",
              "      <td>RM</td>\n",
              "      <td>RL</td>\n",
              "    </tr>\n",
              "    <tr>\n",
              "      <th>BsmtCond</th>\n",
              "      <td>TA</td>\n",
              "      <td>TA</td>\n",
              "      <td>TA</td>\n",
              "      <td>Gd</td>\n",
              "      <td>TA</td>\n",
              "      <td>TA</td>\n",
              "      <td>TA</td>\n",
              "      <td>TA</td>\n",
              "      <td>TA</td>\n",
              "      <td>TA</td>\n",
              "    </tr>\n",
              "    <tr>\n",
              "      <th>Street</th>\n",
              "      <td>Pave</td>\n",
              "      <td>Pave</td>\n",
              "      <td>Pave</td>\n",
              "      <td>Pave</td>\n",
              "      <td>Pave</td>\n",
              "      <td>Pave</td>\n",
              "      <td>Pave</td>\n",
              "      <td>Pave</td>\n",
              "      <td>Pave</td>\n",
              "      <td>Pave</td>\n",
              "    </tr>\n",
              "    <tr>\n",
              "      <th>OverallQual</th>\n",
              "      <td>7</td>\n",
              "      <td>6</td>\n",
              "      <td>7</td>\n",
              "      <td>7</td>\n",
              "      <td>8</td>\n",
              "      <td>5</td>\n",
              "      <td>8</td>\n",
              "      <td>7</td>\n",
              "      <td>7</td>\n",
              "      <td>5</td>\n",
              "    </tr>\n",
              "    <tr>\n",
              "      <th>SalePrice</th>\n",
              "      <td>208500</td>\n",
              "      <td>181500</td>\n",
              "      <td>223500</td>\n",
              "      <td>140000</td>\n",
              "      <td>250000</td>\n",
              "      <td>143000</td>\n",
              "      <td>307000</td>\n",
              "      <td>200000</td>\n",
              "      <td>129900</td>\n",
              "      <td>118000</td>\n",
              "    </tr>\n",
              "  </tbody>\n",
              "</table>\n",
              "</div>"
            ],
            "text/plain": [
              "Id                1       2       3       4       5       6       7       8   \\\n",
              "YearRemodAdd    2003    1976    2002    1970    2000    1995    2005    1973   \n",
              "YrSold          2008    2007    2008    2006    2008    2009    2007    2009   \n",
              "GrLivArea       1710    1262    1786    1717    2198    1362    1694    2090   \n",
              "Alley            NaN     NaN     NaN     NaN     NaN     NaN     NaN     NaN   \n",
              "MSZoning          RL      RL      RL      RL      RL      RL      RL      RL   \n",
              "BsmtCond          TA      TA      TA      Gd      TA      TA      TA      TA   \n",
              "Street          Pave    Pave    Pave    Pave    Pave    Pave    Pave    Pave   \n",
              "OverallQual        7       6       7       7       8       5       8       7   \n",
              "SalePrice     208500  181500  223500  140000  250000  143000  307000  200000   \n",
              "\n",
              "Id                9       10  \n",
              "YearRemodAdd    1950    1950  \n",
              "YrSold          2008    2008  \n",
              "GrLivArea       1774    1077  \n",
              "Alley            NaN     NaN  \n",
              "MSZoning          RM      RL  \n",
              "BsmtCond          TA      TA  \n",
              "Street          Pave    Pave  \n",
              "OverallQual        7       5  \n",
              "SalePrice     129900  118000  "
            ]
          },
          "metadata": {
            "tags": []
          },
          "execution_count": 9
        }
      ]
    },
    {
      "cell_type": "code",
      "metadata": {
        "id": "rsXErxiVja4Y",
        "colab": {
          "base_uri": "https://localhost:8080/",
          "height": 110
        },
        "outputId": "5ba6ce6a-5e92-450d-f432-4dcd3fab9fce"
      },
      "source": [
        "df_train[df_train[\"YearRemodAdd\"] > df_train[\"YrSold\"]][[\"YearRemodAdd\", \"YrSold\"]]"
      ],
      "execution_count": null,
      "outputs": [
        {
          "output_type": "execute_result",
          "data": {
            "text/html": [
              "<div>\n",
              "<style scoped>\n",
              "    .dataframe tbody tr th:only-of-type {\n",
              "        vertical-align: middle;\n",
              "    }\n",
              "\n",
              "    .dataframe tbody tr th {\n",
              "        vertical-align: top;\n",
              "    }\n",
              "\n",
              "    .dataframe thead th {\n",
              "        text-align: right;\n",
              "    }\n",
              "</style>\n",
              "<table border=\"1\" class=\"dataframe\">\n",
              "  <thead>\n",
              "    <tr style=\"text-align: right;\">\n",
              "      <th></th>\n",
              "      <th>YearRemodAdd</th>\n",
              "      <th>YrSold</th>\n",
              "    </tr>\n",
              "    <tr>\n",
              "      <th>Id</th>\n",
              "      <th></th>\n",
              "      <th></th>\n",
              "    </tr>\n",
              "  </thead>\n",
              "  <tbody>\n",
              "    <tr>\n",
              "      <th>524</th>\n",
              "      <td>2008</td>\n",
              "      <td>2007</td>\n",
              "    </tr>\n",
              "  </tbody>\n",
              "</table>\n",
              "</div>"
            ],
            "text/plain": [
              "     YearRemodAdd  YrSold\n",
              "Id                       \n",
              "524          2008    2007"
            ]
          },
          "metadata": {
            "tags": []
          },
          "execution_count": 11
        }
      ]
    },
    {
      "cell_type": "code",
      "metadata": {
        "scrolled": true,
        "id": "a1Q8da0Lja4Z",
        "colab": {
          "base_uri": "https://localhost:8080/"
        },
        "outputId": "78cb2246-a39e-4fd3-a802-a4272c4a8d43"
      },
      "source": [
        "df_train.info()"
      ],
      "execution_count": null,
      "outputs": [
        {
          "output_type": "stream",
          "text": [
            "<class 'pandas.core.frame.DataFrame'>\n",
            "Int64Index: 1460 entries, 1 to 1460\n",
            "Data columns (total 9 columns):\n",
            " #   Column        Non-Null Count  Dtype \n",
            "---  ------        --------------  ----- \n",
            " 0   YearRemodAdd  1460 non-null   int64 \n",
            " 1   YrSold        1460 non-null   int64 \n",
            " 2   GrLivArea     1460 non-null   int64 \n",
            " 3   Alley         91 non-null     object\n",
            " 4   MSZoning      1460 non-null   object\n",
            " 5   BsmtCond      1423 non-null   object\n",
            " 6   Street        1460 non-null   object\n",
            " 7   OverallQual   1460 non-null   int64 \n",
            " 8   SalePrice     1460 non-null   int64 \n",
            "dtypes: int64(5), object(4)\n",
            "memory usage: 114.1+ KB\n"
          ],
          "name": "stdout"
        }
      ]
    },
    {
      "cell_type": "markdown",
      "metadata": {
        "id": "RGFtqsIbja4a"
      },
      "source": [
        "## Dealing with Outliers"
      ]
    },
    {
      "cell_type": "code",
      "metadata": {
        "scrolled": true,
        "id": "QsM3BXPxja4a",
        "colab": {
          "base_uri": "https://localhost:8080/",
          "height": 282
        },
        "outputId": "933d6c34-6b08-4fbd-e39b-d515b8b2ed01"
      },
      "source": [
        "fig, ax = plt.subplots()\n",
        "ax.scatter(x = df_train['GrLivArea'], y = df_train['SalePrice'])\n",
        "plt.ylabel('SalePrice', fontsize=13)\n",
        "plt.xlabel('GrLivArea', fontsize=13)\n",
        "plt.show()"
      ],
      "execution_count": null,
      "outputs": [
        {
          "output_type": "display_data",
          "data": {
            "image/png": "[encoded data removed]",
            "text/plain": [
              "<Figure size 432x288 with 1 Axes>"
            ]
          },
          "metadata": {
            "tags": [],
            "needs_background": "light"
          }
        }
      ]
    },
    {
      "cell_type": "code",
      "metadata": {
        "id": "3aMKWrIWja4b"
      },
      "source": [
        "#Deleting outliers\n",
        "\n",
        "df_train = df_train.drop(df_train[(df_train['GrLivArea']>4000) & (df_train['SalePrice']<300000)].index)"
      ],
      "execution_count": null,
      "outputs": []
    },
    {
      "cell_type": "code",
      "metadata": {
        "id": "TcgBy-8Gja4b",
        "colab": {
          "base_uri": "https://localhost:8080/",
          "height": 282
        },
        "outputId": "a863ebd5-27ef-4579-cb94-05e69269422a"
      },
      "source": [
        "#Check the graphic again\n",
        "fig, ax = plt.subplots()\n",
        "ax.scatter(df_train['GrLivArea'], df_train['SalePrice'])\n",
        "plt.ylabel('SalePrice', fontsize=13)\n",
        "plt.xlabel('GrLivArea', fontsize=13)\n",
        "plt.show()"
      ],
      "execution_count": null,
      "outputs": [
        {
          "output_type": "display_data",
          "data": {
            "image/png": "[encoded data removed]",
            "text/plain": [
              "<Figure size 432x288 with 1 Axes>"
            ]
          },
          "metadata": {
            "tags": [],
            "needs_background": "light"
          }
        }
      ]
    },
    {
      "cell_type": "code",
      "metadata": {
        "scrolled": true,
        "id": "IyUpkqJHja4c",
        "colab": {
          "base_uri": "https://localhost:8080/"
        },
        "outputId": "85475692-ea76-4230-9ee7-0cb2cbd94fc3"
      },
      "source": [
        "print(\"Training Set Shape:\", df_train.shape)"
      ],
      "execution_count": null,
      "outputs": [
        {
          "output_type": "stream",
          "text": [
            "Training Set Shape: (1458, 9)\n"
          ],
          "name": "stdout"
        }
      ]
    },
    {
      "cell_type": "code",
      "metadata": {
        "id": "KB8jRFdjja4d"
      },
      "source": [
        "df_target = df_train['SalePrice'].copy()"
      ],
      "execution_count": null,
      "outputs": []
    },
    {
      "cell_type": "markdown",
      "metadata": {
        "id": "4wqLt9CPja4d"
      },
      "source": [
        "## Dealing with missing values\n"
      ]
    },
    {
      "cell_type": "code",
      "metadata": {
        "scrolled": true,
        "id": "nzWU1sslja4e",
        "colab": {
          "base_uri": "https://localhost:8080/"
        },
        "outputId": "227bc180-5181-4921-f531-7ffa2bf9681a"
      },
      "source": [
        "df_train.isnull().sum().sort_values(ascending = False)"
      ],
      "execution_count": null,
      "outputs": [
        {
          "output_type": "execute_result",
          "data": {
            "text/plain": [
              "Alley           1367\n",
              "BsmtCond          37\n",
              "SalePrice          0\n",
              "OverallQual        0\n",
              "Street             0\n",
              "MSZoning           0\n",
              "GrLivArea          0\n",
              "YrSold             0\n",
              "YearRemodAdd       0\n",
              "dtype: int64"
            ]
          },
          "metadata": {
            "tags": []
          },
          "execution_count": 17
        }
      ]
    },
    {
      "cell_type": "code",
      "metadata": {
        "scrolled": false,
        "id": "9LhEZaTwja4e"
      },
      "source": [
        "# Some lot frontage not given\n",
        "\n",
        "# Some lot frontage not given\n",
        "values = {\n",
        "          \"BsmtCond\": \"None\",           \n",
        "          }\n",
        "\n",
        "df_train.fillna(value=values, inplace=True)"
      ],
      "execution_count": null,
      "outputs": []
    },
    {
      "cell_type": "code",
      "metadata": {
        "id": "-WKxc_QPpoVp"
      },
      "source": [
        "del df_train['Alley']"
      ],
      "execution_count": null,
      "outputs": []
    },
    {
      "cell_type": "code",
      "metadata": {
        "id": "9gPK6O1xja4f",
        "colab": {
          "base_uri": "https://localhost:8080/"
        },
        "outputId": "327b130d-50aa-453e-9842-987702c34d0e"
      },
      "source": [
        "#check for null values\n",
        "df_train.isnull().sum().sort_values(ascending = False)"
      ],
      "execution_count": null,
      "outputs": [
        {
          "output_type": "execute_result",
          "data": {
            "text/plain": [
              "SalePrice       0\n",
              "OverallQual     0\n",
              "Street          0\n",
              "BsmtCond        0\n",
              "MSZoning        0\n",
              "GrLivArea       0\n",
              "YrSold          0\n",
              "YearRemodAdd    0\n",
              "dtype: int64"
            ]
          },
          "metadata": {
            "tags": []
          },
          "execution_count": 20
        }
      ]
    },
    {
      "cell_type": "markdown",
      "metadata": {
        "id": "GRfPP-43ja4g"
      },
      "source": [
        "## Feature Engineering"
      ]
    },
    {
      "cell_type": "code",
      "metadata": {
        "id": "O8yymCdQja4g"
      },
      "source": [
        "#Create feature indicating age of house after renovation\n",
        "df_train['HouseAge'] = df_train['YrSold'] - df_train['YearRemodAdd']"
      ],
      "execution_count": null,
      "outputs": []
    },
    {
      "cell_type": "code",
      "metadata": {
        "id": "71Upi3g0ja4g",
        "colab": {
          "base_uri": "https://localhost:8080/"
        },
        "outputId": "ba8a5451-6850-4667-86da-4c4e37ec6d2a"
      },
      "source": [
        "# Change convert all low ages to zero \n",
        "df_train['HouseAge'][df_train['HouseAge'] < 0] = 0"
      ],
      "execution_count": null,
      "outputs": [
        {
          "output_type": "stream",
          "text": [
            "/usr/local/lib/python3.6/dist-packages/ipykernel_launcher.py:2: SettingWithCopyWarning: \n",
            "A value is trying to be set on a copy of a slice from a DataFrame\n",
            "\n",
            "See the caveats in the documentation: https://pandas.pydata.org/pandas-docs/stable/user_guide/indexing.html#returning-a-view-versus-a-copy\n",
            "  \n"
          ],
          "name": "stderr"
        }
      ]
    },
    {
      "cell_type": "code",
      "metadata": {
        "colab": {
          "base_uri": "https://localhost:8080/"
        },
        "id": "Uiw0RMWQ11XE",
        "outputId": "e9e53dda-a425-4da6-8114-078079562e1d"
      },
      "source": [
        "df_train['Street']"
      ],
      "execution_count": null,
      "outputs": [
        {
          "output_type": "execute_result",
          "data": {
            "text/plain": [
              "Id\n",
              "1       Pave\n",
              "2       Pave\n",
              "3       Pave\n",
              "4       Pave\n",
              "5       Pave\n",
              "        ... \n",
              "1456    Pave\n",
              "1457    Pave\n",
              "1458    Pave\n",
              "1459    Pave\n",
              "1460    Pave\n",
              "Name: Street, Length: 1458, dtype: object"
            ]
          },
          "metadata": {
            "tags": []
          },
          "execution_count": 24
        }
      ]
    },
    {
      "cell_type": "code",
      "metadata": {
        "id": "0_eootg2ja4h"
      },
      "source": [
        "# Convert some categorial vatiables to numerical where there is order\n",
        "\n",
        "    replacement_str = {\"Grvl\": 1, \"Pave\": 2}\n",
        "\n",
        "    df_train = df_train.replace({\n",
        "                            'Street': replacement_str,\n",
        "                            })"
      ],
      "execution_count": null,
      "outputs": []
    },
    {
      "cell_type": "code",
      "metadata": {
        "colab": {
          "base_uri": "https://localhost:8080/"
        },
        "id": "Uy47sEjS3Gky",
        "outputId": "1bacc8dd-b860-4b38-93be-bd48ccb724d4"
      },
      "source": [
        "df_train[\"OverallQual\"].unique()"
      ],
      "execution_count": null,
      "outputs": [
        {
          "output_type": "execute_result",
          "data": {
            "text/plain": [
              "array([ 7,  6,  8,  5,  9,  4, 10,  3,  1,  2])"
            ]
          },
          "metadata": {
            "tags": []
          },
          "execution_count": 27
        }
      ]
    },
    {
      "cell_type": "code",
      "metadata": {
        "id": "OQjFq5k7ja4h"
      },
      "source": [
        "# Create new features\n",
        "# 1* Simplifications of existing features\n",
        "df_train[\"SimplOverallQual\"] = df_train.OverallQual.replace({1 : 1, 2 : 1, 3 : 1, # bad\n",
        "                                                       4 : 2, 5 : 2, 6 : 2, # average\n",
        "                                                       7 : 3, 8 : 3, 9 : 3, 10 : 3 # good\n",
        "                                                      })"
      ],
      "execution_count": null,
      "outputs": []
    },
    {
      "cell_type": "code",
      "metadata": {
        "id": "mnR6PNTKja4k",
        "colab": {
          "base_uri": "https://localhost:8080/"
        },
        "outputId": "c2673674-7333-49c1-b2fd-5fce8d24a603"
      },
      "source": [
        "#Divide features into numerical and categorical features\n",
        "\n",
        "df_train_num = df_train.select_dtypes(include = [np.number])\n",
        "df_train_num.columns\n",
        "#df_train_cat = df_train.select_dtypes(include = ['object'])"
      ],
      "execution_count": null,
      "outputs": [
        {
          "output_type": "execute_result",
          "data": {
            "text/plain": [
              "Index(['YearRemodAdd', 'YrSold', 'GrLivArea', 'Street', 'OverallQual',\n",
              "       'SalePrice', 'HouseAge', 'SimplOverallQual'],\n",
              "      dtype='object')"
            ]
          },
          "metadata": {
            "tags": []
          },
          "execution_count": 29
        }
      ]
    },
    {
      "cell_type": "code",
      "metadata": {
        "colab": {
          "base_uri": "https://localhost:8080/"
        },
        "id": "HaSn37oel1JL",
        "outputId": "c4b83f0c-4a5c-4bdb-cfb4-f4d0231911c1"
      },
      "source": [
        "df_train.shape"
      ],
      "execution_count": null,
      "outputs": [
        {
          "output_type": "execute_result",
          "data": {
            "text/plain": [
              "(1458, 10)"
            ]
          },
          "metadata": {
            "tags": []
          },
          "execution_count": 30
        }
      ]
    },
    {
      "cell_type": "code",
      "metadata": {
        "id": "aS1F3IRBja4l"
      },
      "source": [
        "# Create feature interactions among numerical variables\n",
        "num_col_len = len(df_train_num.columns)\n",
        "\n",
        "for i in range(num_col_len-1):\n",
        "    col1 = df_train_num.columns[i]\n",
        "    #for j in range(i+1, num_col_len):\n",
        "    for j in range(i+1, num_col_len):\n",
        "        col2 = df_train_num.columns[j]\n",
        "        df_train[f\"{col1}_{col2}\"] = df_train[col1]*df_train[col2]"
      ],
      "execution_count": null,
      "outputs": []
    },
    {
      "cell_type": "code",
      "metadata": {
        "scrolled": true,
        "id": "8-GGB5MIja4l",
        "colab": {
          "base_uri": "https://localhost:8080/"
        },
        "outputId": "53b56b4d-dfd5-4dc3-e0fd-3b99eb5774e7"
      },
      "source": [
        "df_train.shape"
      ],
      "execution_count": null,
      "outputs": [
        {
          "output_type": "execute_result",
          "data": {
            "text/plain": [
              "(1458, 38)"
            ]
          },
          "metadata": {
            "tags": []
          },
          "execution_count": 32
        }
      ]
    },
    {
      "cell_type": "markdown",
      "metadata": {
        "id": "Sc-uTOf9ja4m"
      },
      "source": [
        "## LabelEncoding of Categorical Variables"
      ]
    },
    {
      "cell_type": "markdown",
      "metadata": {
        "id": "7xRuXCS5ja4m"
      },
      "source": [
        "- Decided not to create dummy variables as that would increase the number of features which is at present large \n",
        "- 1637 features already without encodings, for 2917 examples."
      ]
    },
    {
      "cell_type": "code",
      "metadata": {
        "id": "X5aaoRuLja4m"
      },
      "source": [
        "df_le = df_train.copy()\n",
        "\n",
        "from sklearn.preprocessing import LabelEncoder\n",
        "from sklearn import preprocessing\n",
        "le = LabelEncoder()\n",
        "\n",
        "for i in range(0,df_le.shape[1]):\n",
        "    if df_le.dtypes[i]=='object':\n",
        "        df_le[df_le.columns[i]] = le.fit_transform(df_le[df_le.columns[i]])"
      ],
      "execution_count": null,
      "outputs": []
    },
    {
      "cell_type": "code",
      "metadata": {
        "id": "uQINbKrJja4m",
        "colab": {
          "base_uri": "https://localhost:8080/"
        },
        "outputId": "c9cf3393-ed26-4a88-9806-bbc46d49fe35"
      },
      "source": [
        "# Separate back into training and test set\n",
        "df_train = df_le.iloc[0:1458, :]\n",
        "print(\"Training Set Shape:\", df_train.shape)"
      ],
      "execution_count": null,
      "outputs": [
        {
          "output_type": "stream",
          "text": [
            "Training Set Shape: (1458, 38)\n"
          ],
          "name": "stdout"
        }
      ]
    },
    {
      "cell_type": "code",
      "metadata": {
        "colab": {
          "base_uri": "https://localhost:8080/",
          "height": 245
        },
        "id": "af5tIRi9r3h1",
        "outputId": "b68db849-b0af-4f42-ef9e-c1427638b7b8"
      },
      "source": [
        "df_train.head()"
      ],
      "execution_count": null,
      "outputs": [
        {
          "output_type": "execute_result",
          "data": {
            "text/html": [
              "<div>\n",
              "<style scoped>\n",
              "    .dataframe tbody tr th:only-of-type {\n",
              "        vertical-align: middle;\n",
              "    }\n",
              "\n",
              "    .dataframe tbody tr th {\n",
              "        vertical-align: top;\n",
              "    }\n",
              "\n",
              "    .dataframe thead th {\n",
              "        text-align: right;\n",
              "    }\n",
              "</style>\n",
              "<table border=\"1\" class=\"dataframe\">\n",
              "  <thead>\n",
              "    <tr style=\"text-align: right;\">\n",
              "      <th></th>\n",
              "      <th>YearRemodAdd</th>\n",
              "      <th>YrSold</th>\n",
              "      <th>GrLivArea</th>\n",
              "      <th>MSZoning</th>\n",
              "      <th>BsmtCond</th>\n",
              "      <th>Street</th>\n",
              "      <th>OverallQual</th>\n",
              "      <th>SalePrice</th>\n",
              "      <th>HouseAge</th>\n",
              "      <th>SimplOverallQual</th>\n",
              "      <th>YearRemodAdd_YrSold</th>\n",
              "      <th>YearRemodAdd_GrLivArea</th>\n",
              "      <th>YearRemodAdd_Street</th>\n",
              "      <th>YearRemodAdd_OverallQual</th>\n",
              "      <th>YearRemodAdd_SalePrice</th>\n",
              "      <th>YearRemodAdd_HouseAge</th>\n",
              "      <th>YearRemodAdd_SimplOverallQual</th>\n",
              "      <th>YrSold_GrLivArea</th>\n",
              "      <th>YrSold_Street</th>\n",
              "      <th>YrSold_OverallQual</th>\n",
              "      <th>YrSold_SalePrice</th>\n",
              "      <th>YrSold_HouseAge</th>\n",
              "      <th>YrSold_SimplOverallQual</th>\n",
              "      <th>GrLivArea_Street</th>\n",
              "      <th>GrLivArea_OverallQual</th>\n",
              "      <th>GrLivArea_SalePrice</th>\n",
              "      <th>GrLivArea_HouseAge</th>\n",
              "      <th>GrLivArea_SimplOverallQual</th>\n",
              "      <th>Street_OverallQual</th>\n",
              "      <th>Street_SalePrice</th>\n",
              "      <th>Street_HouseAge</th>\n",
              "      <th>Street_SimplOverallQual</th>\n",
              "      <th>OverallQual_SalePrice</th>\n",
              "      <th>OverallQual_HouseAge</th>\n",
              "      <th>OverallQual_SimplOverallQual</th>\n",
              "      <th>SalePrice_HouseAge</th>\n",
              "      <th>SalePrice_SimplOverallQual</th>\n",
              "      <th>HouseAge_SimplOverallQual</th>\n",
              "    </tr>\n",
              "    <tr>\n",
              "      <th>Id</th>\n",
              "      <th></th>\n",
              "      <th></th>\n",
              "      <th></th>\n",
              "      <th></th>\n",
              "      <th></th>\n",
              "      <th></th>\n",
              "      <th></th>\n",
              "      <th></th>\n",
              "      <th></th>\n",
              "      <th></th>\n",
              "      <th></th>\n",
              "      <th></th>\n",
              "      <th></th>\n",
              "      <th></th>\n",
              "      <th></th>\n",
              "      <th></th>\n",
              "      <th></th>\n",
              "      <th></th>\n",
              "      <th></th>\n",
              "      <th></th>\n",
              "      <th></th>\n",
              "      <th></th>\n",
              "      <th></th>\n",
              "      <th></th>\n",
              "      <th></th>\n",
              "      <th></th>\n",
              "      <th></th>\n",
              "      <th></th>\n",
              "      <th></th>\n",
              "      <th></th>\n",
              "      <th></th>\n",
              "      <th></th>\n",
              "      <th></th>\n",
              "      <th></th>\n",
              "      <th></th>\n",
              "      <th></th>\n",
              "      <th></th>\n",
              "      <th></th>\n",
              "    </tr>\n",
              "  </thead>\n",
              "  <tbody>\n",
              "    <tr>\n",
              "      <th>1</th>\n",
              "      <td>2003</td>\n",
              "      <td>2008</td>\n",
              "      <td>1710</td>\n",
              "      <td>3</td>\n",
              "      <td>4</td>\n",
              "      <td>2</td>\n",
              "      <td>7</td>\n",
              "      <td>208500</td>\n",
              "      <td>5</td>\n",
              "      <td>3</td>\n",
              "      <td>4022024</td>\n",
              "      <td>3425130</td>\n",
              "      <td>4006</td>\n",
              "      <td>14021</td>\n",
              "      <td>417625500</td>\n",
              "      <td>10015</td>\n",
              "      <td>6009</td>\n",
              "      <td>3433680</td>\n",
              "      <td>4016</td>\n",
              "      <td>14056</td>\n",
              "      <td>418668000</td>\n",
              "      <td>10040</td>\n",
              "      <td>6024</td>\n",
              "      <td>3420</td>\n",
              "      <td>11970</td>\n",
              "      <td>356535000</td>\n",
              "      <td>8550</td>\n",
              "      <td>5130</td>\n",
              "      <td>14</td>\n",
              "      <td>417000</td>\n",
              "      <td>10</td>\n",
              "      <td>6</td>\n",
              "      <td>1459500</td>\n",
              "      <td>35</td>\n",
              "      <td>21</td>\n",
              "      <td>1042500</td>\n",
              "      <td>625500</td>\n",
              "      <td>15</td>\n",
              "    </tr>\n",
              "    <tr>\n",
              "      <th>2</th>\n",
              "      <td>1976</td>\n",
              "      <td>2007</td>\n",
              "      <td>1262</td>\n",
              "      <td>3</td>\n",
              "      <td>4</td>\n",
              "      <td>2</td>\n",
              "      <td>6</td>\n",
              "      <td>181500</td>\n",
              "      <td>31</td>\n",
              "      <td>2</td>\n",
              "      <td>3965832</td>\n",
              "      <td>2493712</td>\n",
              "      <td>3952</td>\n",
              "      <td>11856</td>\n",
              "      <td>358644000</td>\n",
              "      <td>61256</td>\n",
              "      <td>3952</td>\n",
              "      <td>2532834</td>\n",
              "      <td>4014</td>\n",
              "      <td>12042</td>\n",
              "      <td>364270500</td>\n",
              "      <td>62217</td>\n",
              "      <td>4014</td>\n",
              "      <td>2524</td>\n",
              "      <td>7572</td>\n",
              "      <td>229053000</td>\n",
              "      <td>39122</td>\n",
              "      <td>2524</td>\n",
              "      <td>12</td>\n",
              "      <td>363000</td>\n",
              "      <td>62</td>\n",
              "      <td>4</td>\n",
              "      <td>1089000</td>\n",
              "      <td>186</td>\n",
              "      <td>12</td>\n",
              "      <td>5626500</td>\n",
              "      <td>363000</td>\n",
              "      <td>62</td>\n",
              "    </tr>\n",
              "    <tr>\n",
              "      <th>3</th>\n",
              "      <td>2002</td>\n",
              "      <td>2008</td>\n",
              "      <td>1786</td>\n",
              "      <td>3</td>\n",
              "      <td>4</td>\n",
              "      <td>2</td>\n",
              "      <td>7</td>\n",
              "      <td>223500</td>\n",
              "      <td>6</td>\n",
              "      <td>3</td>\n",
              "      <td>4020016</td>\n",
              "      <td>3575572</td>\n",
              "      <td>4004</td>\n",
              "      <td>14014</td>\n",
              "      <td>447447000</td>\n",
              "      <td>12012</td>\n",
              "      <td>6006</td>\n",
              "      <td>3586288</td>\n",
              "      <td>4016</td>\n",
              "      <td>14056</td>\n",
              "      <td>448788000</td>\n",
              "      <td>12048</td>\n",
              "      <td>6024</td>\n",
              "      <td>3572</td>\n",
              "      <td>12502</td>\n",
              "      <td>399171000</td>\n",
              "      <td>10716</td>\n",
              "      <td>5358</td>\n",
              "      <td>14</td>\n",
              "      <td>447000</td>\n",
              "      <td>12</td>\n",
              "      <td>6</td>\n",
              "      <td>1564500</td>\n",
              "      <td>42</td>\n",
              "      <td>21</td>\n",
              "      <td>1341000</td>\n",
              "      <td>670500</td>\n",
              "      <td>18</td>\n",
              "    </tr>\n",
              "    <tr>\n",
              "      <th>4</th>\n",
              "      <td>1970</td>\n",
              "      <td>2006</td>\n",
              "      <td>1717</td>\n",
              "      <td>3</td>\n",
              "      <td>1</td>\n",
              "      <td>2</td>\n",
              "      <td>7</td>\n",
              "      <td>140000</td>\n",
              "      <td>36</td>\n",
              "      <td>3</td>\n",
              "      <td>3951820</td>\n",
              "      <td>3382490</td>\n",
              "      <td>3940</td>\n",
              "      <td>13790</td>\n",
              "      <td>275800000</td>\n",
              "      <td>70920</td>\n",
              "      <td>5910</td>\n",
              "      <td>3444302</td>\n",
              "      <td>4012</td>\n",
              "      <td>14042</td>\n",
              "      <td>280840000</td>\n",
              "      <td>72216</td>\n",
              "      <td>6018</td>\n",
              "      <td>3434</td>\n",
              "      <td>12019</td>\n",
              "      <td>240380000</td>\n",
              "      <td>61812</td>\n",
              "      <td>5151</td>\n",
              "      <td>14</td>\n",
              "      <td>280000</td>\n",
              "      <td>72</td>\n",
              "      <td>6</td>\n",
              "      <td>980000</td>\n",
              "      <td>252</td>\n",
              "      <td>21</td>\n",
              "      <td>5040000</td>\n",
              "      <td>420000</td>\n",
              "      <td>108</td>\n",
              "    </tr>\n",
              "    <tr>\n",
              "      <th>5</th>\n",
              "      <td>2000</td>\n",
              "      <td>2008</td>\n",
              "      <td>2198</td>\n",
              "      <td>3</td>\n",
              "      <td>4</td>\n",
              "      <td>2</td>\n",
              "      <td>8</td>\n",
              "      <td>250000</td>\n",
              "      <td>8</td>\n",
              "      <td>3</td>\n",
              "      <td>4016000</td>\n",
              "      <td>4396000</td>\n",
              "      <td>4000</td>\n",
              "      <td>16000</td>\n",
              "      <td>500000000</td>\n",
              "      <td>16000</td>\n",
              "      <td>6000</td>\n",
              "      <td>4413584</td>\n",
              "      <td>4016</td>\n",
              "      <td>16064</td>\n",
              "      <td>502000000</td>\n",
              "      <td>16064</td>\n",
              "      <td>6024</td>\n",
              "      <td>4396</td>\n",
              "      <td>17584</td>\n",
              "      <td>549500000</td>\n",
              "      <td>17584</td>\n",
              "      <td>6594</td>\n",
              "      <td>16</td>\n",
              "      <td>500000</td>\n",
              "      <td>16</td>\n",
              "      <td>6</td>\n",
              "      <td>2000000</td>\n",
              "      <td>64</td>\n",
              "      <td>24</td>\n",
              "      <td>2000000</td>\n",
              "      <td>750000</td>\n",
              "      <td>24</td>\n",
              "    </tr>\n",
              "  </tbody>\n",
              "</table>\n",
              "</div>"
            ],
            "text/plain": [
              "    YearRemodAdd  YrSold  GrLivArea  MSZoning  BsmtCond  Street  OverallQual  \\\n",
              "Id                                                                             \n",
              "1           2003    2008       1710         3         4       2            7   \n",
              "2           1976    2007       1262         3         4       2            6   \n",
              "3           2002    2008       1786         3         4       2            7   \n",
              "4           1970    2006       1717         3         1       2            7   \n",
              "5           2000    2008       2198         3         4       2            8   \n",
              "\n",
              "    SalePrice  HouseAge  SimplOverallQual  YearRemodAdd_YrSold  \\\n",
              "Id                                                               \n",
              "1      208500         5                 3              4022024   \n",
              "2      181500        31                 2              3965832   \n",
              "3      223500         6                 3              4020016   \n",
              "4      140000        36                 3              3951820   \n",
              "5      250000         8                 3              4016000   \n",
              "\n",
              "    YearRemodAdd_GrLivArea  YearRemodAdd_Street  YearRemodAdd_OverallQual  \\\n",
              "Id                                                                          \n",
              "1                  3425130                 4006                     14021   \n",
              "2                  2493712                 3952                     11856   \n",
              "3                  3575572                 4004                     14014   \n",
              "4                  3382490                 3940                     13790   \n",
              "5                  4396000                 4000                     16000   \n",
              "\n",
              "    YearRemodAdd_SalePrice  YearRemodAdd_HouseAge  \\\n",
              "Id                                                  \n",
              "1                417625500                  10015   \n",
              "2                358644000                  61256   \n",
              "3                447447000                  12012   \n",
              "4                275800000                  70920   \n",
              "5                500000000                  16000   \n",
              "\n",
              "    YearRemodAdd_SimplOverallQual  YrSold_GrLivArea  YrSold_Street  \\\n",
              "Id                                                                   \n",
              "1                            6009           3433680           4016   \n",
              "2                            3952           2532834           4014   \n",
              "3                            6006           3586288           4016   \n",
              "4                            5910           3444302           4012   \n",
              "5                            6000           4413584           4016   \n",
              "\n",
              "    YrSold_OverallQual  YrSold_SalePrice  YrSold_HouseAge  \\\n",
              "Id                                                          \n",
              "1                14056         418668000            10040   \n",
              "2                12042         364270500            62217   \n",
              "3                14056         448788000            12048   \n",
              "4                14042         280840000            72216   \n",
              "5                16064         502000000            16064   \n",
              "\n",
              "    YrSold_SimplOverallQual  GrLivArea_Street  GrLivArea_OverallQual  \\\n",
              "Id                                                                     \n",
              "1                      6024              3420                  11970   \n",
              "2                      4014              2524                   7572   \n",
              "3                      6024              3572                  12502   \n",
              "4                      6018              3434                  12019   \n",
              "5                      6024              4396                  17584   \n",
              "\n",
              "    GrLivArea_SalePrice  GrLivArea_HouseAge  GrLivArea_SimplOverallQual  \\\n",
              "Id                                                                        \n",
              "1             356535000                8550                        5130   \n",
              "2             229053000               39122                        2524   \n",
              "3             399171000               10716                        5358   \n",
              "4             240380000               61812                        5151   \n",
              "5             549500000               17584                        6594   \n",
              "\n",
              "    Street_OverallQual  Street_SalePrice  Street_HouseAge  \\\n",
              "Id                                                          \n",
              "1                   14            417000               10   \n",
              "2                   12            363000               62   \n",
              "3                   14            447000               12   \n",
              "4                   14            280000               72   \n",
              "5                   16            500000               16   \n",
              "\n",
              "    Street_SimplOverallQual  OverallQual_SalePrice  OverallQual_HouseAge  \\\n",
              "Id                                                                         \n",
              "1                         6                1459500                    35   \n",
              "2                         4                1089000                   186   \n",
              "3                         6                1564500                    42   \n",
              "4                         6                 980000                   252   \n",
              "5                         6                2000000                    64   \n",
              "\n",
              "    OverallQual_SimplOverallQual  SalePrice_HouseAge  \\\n",
              "Id                                                     \n",
              "1                             21             1042500   \n",
              "2                             12             5626500   \n",
              "3                             21             1341000   \n",
              "4                             21             5040000   \n",
              "5                             24             2000000   \n",
              "\n",
              "    SalePrice_SimplOverallQual  HouseAge_SimplOverallQual  \n",
              "Id                                                         \n",
              "1                       625500                         15  \n",
              "2                       363000                         62  \n",
              "3                       670500                         18  \n",
              "4                       420000                        108  \n",
              "5                       750000                         24  "
            ]
          },
          "metadata": {
            "tags": []
          },
          "execution_count": 176
        }
      ]
    },
    {
      "cell_type": "markdown",
      "metadata": {
        "id": "85vYZn_Oja4n"
      },
      "source": [
        "## Saving the Data"
      ]
    },
    {
      "cell_type": "markdown",
      "metadata": {
        "id": "5w_2SV1gja4n"
      },
      "source": [
        "Tried using feather, but got errors of dependencies between pip and anaconda during installation. So I'll use pickle instead"
      ]
    },
    {
      "cell_type": "code",
      "metadata": {
        "id": "ue0Xt9amja4n"
      },
      "source": [
        "# Saving to pickle file\n",
        "df_train.to_pickle(\"data/house-train.pkl\")\n",
        "df_target.to_pickle(\"data/house-train-target.pkl\")"
      ],
      "execution_count": null,
      "outputs": []
    },
    {
      "cell_type": "code",
      "metadata": {
        "id": "Sj_OjB5Oja4n"
      },
      "source": [
        "# To unpiclke\n",
        "#df_train = pd.read_pickle(\"data/house-train.pkl\")\n",
        "#df_test = pd.read_pickle(\"data/house-test.pkl\")\n",
        "#df_target = pd.read_pickle(\"data/house-train-target.pkl\")"
      ],
      "execution_count": null,
      "outputs": []
    },
    {
      "cell_type": "markdown",
      "metadata": {
        "id": "0rJe80O6ja4n"
      },
      "source": [
        "Thank you"
      ]
    }
  ]
}