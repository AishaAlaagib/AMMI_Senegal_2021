{
  "nbformat": 4,
  "nbformat_minor": 0,
  "metadata": {
    "colab": {
      "name": "AMMI_Bootcamp1_day8_Exercise.ipynb",
      "provenance": []
    },
    "kernelspec": {
      "name": "python3",
      "display_name": "Python 3"
    }
  },
  "cells": [
    {
      "cell_type": "code",
      "metadata": {
        "id": "mRElPFcL_gxa"
      },
      "source": [
        "import numpy as np\n",
        "import matplotlib.pyplot as plt\n",
        "import pandas as pd"
      ],
      "execution_count": null,
      "outputs": []
    },
    {
      "cell_type": "code",
      "metadata": {
        "colab": {
          "base_uri": "https://localhost:8080/"
        },
        "id": "BoiS9bKF_ePC",
        "outputId": "62314710-244d-441d-beb4-97ebfede33e0"
      },
      "source": [
        "# instructions to follow:\n",
        "\n",
        "# check your email for the dataset (csv file)\n",
        "\n",
        "# upload it to your drive\n",
        "\n",
        "# check online how to mount your drive in colab\n",
        "\n",
        "# mount your drive \n",
        "\n",
        "# check your current directory using the command 'pwd'\n",
        "\n",
        "# use the command 'cd' to specify the location of your uploaded dataset\n",
        "\n",
        "# confirm that by using the 'ls' command\n",
        "\n",
        "# Read the data using pandas\n",
        "\n",
        "# Solve the excercises below\n",
        "\n",
        "# Deadline is midnight today"
      ],
      "execution_count": null,
      "outputs": [
        {
          "output_type": "stream",
          "text": [
            "/content/drive/MyDrive/AMMI_Se\n"
          ],
          "name": "stdout"
        }
      ]
    },
    {
      "cell_type": "code",
      "metadata": {
        "colab": {
          "base_uri": "https://localhost:8080/"
        },
        "id": "Szq4g5q8Ygds",
        "outputId": "8fe586ba-70bf-4752-88c0-45987c412227"
      },
      "source": [
        "! ls"
      ],
      "execution_count": null,
      "outputs": [
        {
          "output_type": "stream",
          "text": [
            "drive  sample_data\n"
          ],
          "name": "stdout"
        }
      ]
    },
    {
      "cell_type": "markdown",
      "metadata": {
        "id": "nArDEV-_at6Y"
      },
      "source": [
        "#*Exercise 1:* \n",
        "Read Total profit of all months and show it using a line plot\n",
        "\n",
        "Total profit data provided for each month. Generated line plot must include the following properties: –\n",
        "\n",
        "* X label name = Month Number\n",
        "* Y label name = Total profit\n",
        "* The line plot graph should look like this.\n",
        "\n",
        "![](https://pynative.com/wp-content/uploads/2019/01/matplotlib_and_pandas_exercise_1_plot_company_profit.png)"
      ]
    },
    {
      "cell_type": "markdown",
      "metadata": {
        "id": "aKLT1lC4Zmt-"
      },
      "source": [
        "# *Exercise Question 2:* \n",
        "Get Total profit of all months and show line plot with the following Style properties\n",
        "Generated line plot must include following Style properties: –\n",
        "\n",
        "* Line Style dotted and Line-color should be red\n",
        "* Show legend at the lower right location.\n",
        "* X label name = Month Number\n",
        "* Y label name = Sold units number\n",
        "* Add a circle marker.\n",
        "* Line marker color as read\n",
        "* Line width should be 3\n",
        "The line plot graph should look like this.\n",
        "\n",
        "![](https://pynative.com/wp-content/uploads/2019/01/matplotlib_and_pandas_exercise_2_plot_style_properties.png)"
      ]
    },
    {
      "cell_type": "markdown",
      "metadata": {
        "id": "CNXdxQbobmjk"
      },
      "source": [
        "# *Exercise Question 3: Read all product sales data and show it  using a multiline pl*\n",
        "\n",
        "Display the number of units sold per month for each product using multiline plots. (i.e., Separate Plotline for each product ).\n",
        "\n",
        "The graph should look like this.\n",
        "\n",
        "![](https://pynative.com/wp-content/uploads/2019/01/matplotlib_and_pandas_exercise_3_multiline_plots.png)"
      ]
    },
    {
      "cell_type": "code",
      "metadata": {
        "colab": {
          "base_uri": "https://localhost:8080/"
        },
        "id": "4P_SZBym6Qxh",
        "outputId": "329f0efe-71f1-40b4-a2e4-0427d86749dd"
      },
      "source": [
        "from google.colab import drive\n",
        "drive.mount('/content/drive')"
      ],
      "execution_count": null,
      "outputs": [
        {
          "output_type": "stream",
          "text": [
            "Mounted at /content/drive\n"
          ],
          "name": "stdout"
        }
      ]
    },
    {
      "cell_type": "markdown",
      "metadata": {
        "id": "vjVYmgC8casH"
      },
      "source": [
        "#*Exercise Question 4: Read toothpaste sales data of each month and show it using a scatter plot*\n",
        "\n",
        "Also, add a grid in the plot. gridline style should “–“.\n",
        "\n",
        "The scatter plot should look like this.\n",
        "\n",
        "![](https://pynative.com/wp-content/uploads/2019/01/matplotlib_and_pandas_exercise_4_show_scatter_plot.png)"
      ]
    },
    {
      "cell_type": "markdown",
      "metadata": {
        "id": "Hv8f4mXHcpze"
      },
      "source": [
        "#*Exercise Question 5: Read face cream and facewash product sales data and show it using the bar chart*\n",
        "\n",
        "The bar chart should display the number of units sold per month for each product. Add a separate bar for each product in the same chart.\n",
        "\n",
        "The bar chart should look like this.\n",
        "\n",
        "![](https://pynative.com/wp-content/uploads/2019/01/matplotlib_panadas_exercise_5_show_bar_chart.png)"
      ]
    },
    {
      "cell_type": "markdown",
      "metadata": {
        "id": "wxVlkIxVdGoc"
      },
      "source": [
        "#*Exercise Question 6: Read the total profit of each month and show it using the histogram to see most common profit ranges*\n",
        "\n",
        "The histogram should look like this.\n",
        "\n",
        "![](https://pynative.com/wp-content/uploads/2019/01/matplotlib_panadas_exercise_7_histogram.png)"
      ]
    },
    {
      "cell_type": "markdown",
      "metadata": {
        "id": "UcdJITzadkKB"
      },
      "source": [
        "#*Exercise Question 7: Read Bathing soap facewash of all months and display it using the Subplot*\n",
        "The Subplot should look like this.\n",
        "\n",
        "![](https://pynative.com/wp-content/uploads/2019/01/matplotlib_pandas_exercise_9_show_sub_plot.png)\n",
        "\n"
      ]
    },
    {
      "cell_type": "markdown",
      "metadata": {
        "id": "3APe6O32eAUQ"
      },
      "source": [
        "#*Exercise Question 8: Read all product sales data and show it using the stack plot*\n",
        "\n",
        "The Stack plot should look like this.\n",
        "\n",
        "![](https://pynative.com/wp-content/uploads/2019/01/matplotbib_pandas_exercise10_show_stack_plot.png)"
      ]
    },
    {
      "cell_type": "code",
      "metadata": {
        "id": "-FIxYuLkeQXg"
      },
      "source": [
        ""
      ],
      "execution_count": null,
      "outputs": []
    }
  ]
}