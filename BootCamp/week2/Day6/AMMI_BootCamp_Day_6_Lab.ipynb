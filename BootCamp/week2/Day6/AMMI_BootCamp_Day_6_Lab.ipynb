{
  "nbformat": 4,
  "nbformat_minor": 0,
  "metadata": {
    "colab": {
      "name": "AMMI_BootCamp_Day_6_Lab.ipynb",
      "provenance": [],
      "collapsed_sections": []
    },
    "kernelspec": {
      "name": "python3",
      "display_name": "Python 3"
    }
  },
  "cells": [
    {
      "cell_type": "markdown",
      "metadata": {
        "id": "OMEZwkVfuAQw"
      },
      "source": [
        "<a href='https://aims-senegal.org/'> <img src='http://sn.nexteinstein.org/wp-content/uploads/sites/12/2016/07/aims_senegal.jpg' /></a>"
      ]
    },
    {
      "cell_type": "code",
      "metadata": {
        "id": "gmHCp3XmxPuD"
      },
      "source": [
        "# run this cell first\n",
        "import numpy as np"
      ],
      "execution_count": null,
      "outputs": []
    },
    {
      "cell_type": "markdown",
      "metadata": {
        "id": "rrfzDGdlzNsp"
      },
      "source": [
        "\n",
        "\n",
        "---\n",
        "\n",
        "\n",
        "\n",
        "---\n",
        "\n",
        "\n",
        "\n",
        "---\n",
        "\n"
      ]
    },
    {
      "cell_type": "markdown",
      "metadata": {
        "id": "HphSexHJFi1T"
      },
      "source": [
        "# Exercise A:\n",
        "\n",
        "\n"
      ]
    },
    {
      "cell_type": "markdown",
      "metadata": {
        "id": "Y_OjrWqbGTyq"
      },
      "source": [
        "### 1- Construct a Ndarray  of shape (3, 2) filled with **8**, Then set element (0, 1) to 10, and element (1, 0) to 100"
      ]
    },
    {
      "cell_type": "code",
      "metadata": {
        "id": "EYrWwRP5GJJv"
      },
      "source": [
        "################################################################################\n",
        "#                              START OF YOUR CODE                                #\n",
        "################################################################################\n",
        "\n",
        "\n",
        "#your code should be here\n",
        "\n",
        " \n",
        "################################################################################\n",
        "#                              END OF YOUR CODE                                #\n",
        "################################################################################"
      ],
      "execution_count": null,
      "outputs": []
    },
    {
      "cell_type": "markdown",
      "metadata": {
        "id": "AhNeVAJeGVwS"
      },
      "source": [
        "### 2- Create a 64-bit floating-point Ndarray of shape (6,) (six-element vector) filled with evenly-spaced values between 10 and 20. "
      ]
    },
    {
      "cell_type": "code",
      "metadata": {
        "id": "RxTXO9H6Goc0"
      },
      "source": [
        "################################################################################\n",
        "#                              START OF YOUR CODE                                #\n",
        "################################################################################\n",
        "\n",
        "\n",
        "#your code should be here\n",
        " \n",
        "################################################################################\n",
        "#                              END OF YOUR CODE                                #\n",
        "################################################################################"
      ],
      "execution_count": null,
      "outputs": []
    },
    {
      "cell_type": "markdown",
      "metadata": {
        "id": "JKVAKcUSGq4G"
      },
      "source": [
        "### 3- Create a vector with values ranging from 10 to 49"
      ]
    },
    {
      "cell_type": "code",
      "metadata": {
        "id": "xo6Jeuk_HcRJ"
      },
      "source": [
        "################################################################################\n",
        "#                              START OF YOUR CODE                                #\n",
        "################################################################################\n",
        "\n",
        "\n",
        "#your code should be here\n",
        " \n",
        "################################################################################\n",
        "#                              END OF YOUR CODE                                #\n",
        "################################################################################"
      ],
      "execution_count": null,
      "outputs": []
    },
    {
      "cell_type": "markdown",
      "metadata": {
        "id": "o9TGRU4SHmXC"
      },
      "source": [
        "### 4- Create a 3x3 matrix with values ranging from 0 to 8"
      ]
    },
    {
      "cell_type": "code",
      "metadata": {
        "id": "9zLNT9s5HegE"
      },
      "source": [
        "################################################################################\n",
        "#                              START OF YOUR CODE                                #\n",
        "################################################################################\n",
        "\n",
        "\n",
        "#your code should be here\n",
        " \n",
        "################################################################################\n",
        "#                              END OF YOUR CODE                                #\n",
        "################################################################################"
      ],
      "execution_count": null,
      "outputs": []
    },
    {
      "cell_type": "markdown",
      "metadata": {
        "id": "cBO_WV_UH6S0"
      },
      "source": [
        "### 5- Create a 10x10 array with random values and print the trace value and the mean values of each row"
      ]
    },
    {
      "cell_type": "code",
      "metadata": {
        "id": "YUYulMHjH_Nu"
      },
      "source": [
        "################################################################################\n",
        "#                              START OF YOUR CODE                                #\n",
        "################################################################################\n",
        "\n",
        "\n",
        "#your code should be here\n",
        " \n",
        "################################################################################\n",
        "#                              END OF YOUR CODE                                #\n",
        "################################################################################"
      ],
      "execution_count": null,
      "outputs": []
    },
    {
      "cell_type": "markdown",
      "metadata": {
        "id": "stsLWALeIy2E"
      },
      "source": [
        "### 6- Create a Ndarray array of size (5, 5) with all **1** on the borders and all **0** in the inside\n"
      ]
    },
    {
      "cell_type": "code",
      "metadata": {
        "id": "oo1o0TIVJH91"
      },
      "source": [
        "################################################################################\n",
        "#                              START OF YOUR CODE                                #\n",
        "################################################################################\n",
        "\n",
        "\n",
        "#your code should be here\n",
        " \n",
        "################################################################################\n",
        "#                              END OF YOUR CODE                                #\n",
        "################################################################################"
      ],
      "execution_count": null,
      "outputs": []
    },
    {
      "cell_type": "markdown",
      "metadata": {
        "id": "b2RIrBwHNW0T"
      },
      "source": [
        "### 7- Create random vector of size 10 and replace the maximum value by 0"
      ]
    },
    {
      "cell_type": "code",
      "metadata": {
        "id": "_XeAoZQXNc0q"
      },
      "source": [
        "################################################################################\n",
        "#                              START OF YOUR CODE                                #\n",
        "################################################################################\n",
        "\n",
        "\n",
        "#your code should be here\n",
        " \n",
        "################################################################################\n",
        "#                              END OF YOUR CODE                                #\n",
        "################################################################################"
      ],
      "execution_count": null,
      "outputs": []
    },
    {
      "cell_type": "markdown",
      "metadata": {
        "id": "ugzcoy0MJW6t"
      },
      "source": [
        "### 8- Normalize a 5x5 random matrix\n",
        "Hint: subtract the mean and devide by the standard deviation"
      ]
    },
    {
      "cell_type": "code",
      "metadata": {
        "id": "7RoQFsPdJ3k1"
      },
      "source": [
        "################################################################################\n",
        "#                              START OF YOUR CODE                                #\n",
        "################################################################################\n",
        "\n",
        "\n",
        "#your code should be here\n",
        " \n",
        "################################################################################\n",
        "#                              END OF YOUR CODE                                #\n",
        "################################################################################"
      ],
      "execution_count": null,
      "outputs": []
    },
    {
      "cell_type": "markdown",
      "metadata": {
        "id": "iiOCoeT2JXZc"
      },
      "source": [
        "### 9- Create a random 5x2 matrix representing cartesian coordinates and print an array **\"polar\"** with same shape representing the converted polar coordinates.\n",
        "\n",
        "Hints:\n",
        "\n",
        "X represent the first column.\n",
        "\n",
        "Y represent the second column.\n",
        "\n",
        "Compute:\n",
        "\n",
        "$$ R = \\sqrt{X^2 + Y^2} $$\n",
        "\n",
        "$$ T = \\arctan{(Y, X)} $$\n"
      ]
    },
    {
      "cell_type": "code",
      "metadata": {
        "id": "TbUE_U-xMXV8"
      },
      "source": [
        "################################################################################\n",
        "#                              START OF YOUR CODE                                #\n",
        "################################################################################\n",
        "\n",
        "\n",
        "#your code should be here\n",
        " \n",
        "################################################################################\n",
        "#                              END OF YOUR CODE                                #\n",
        "################################################################################"
      ],
      "execution_count": null,
      "outputs": []
    },
    {
      "cell_type": "markdown",
      "metadata": {
        "id": "Hf8qYHpwjwEM"
      },
      "source": [
        "\n",
        "\n",
        "---\n",
        "\n",
        "\n",
        "\n",
        "---\n",
        "\n",
        "\n",
        "\n",
        "---\n",
        "\n"
      ]
    },
    {
      "cell_type": "markdown",
      "metadata": {
        "id": "VcrY3EvaeElV"
      },
      "source": [
        "### 10- Write a function that normalizes the columns of a matrix. It should compute the mean and standard deviation of each column, then subtract the mean and divide by the standard deviation for each element in the column. \n",
        "\n",
        "Example:\n",
        "```\n",
        "x = [[ 0,  30,  600],\n",
        "     [ 1,  10,  200],\n",
        "     [-1,  20,  400]]\n",
        "```\n",
        "- The first column has mean 0 and std 1\n",
        "- The second column has mean 20 and std 10\n",
        "- The third column has mean 400 and std 200\n",
        "\n",
        "After normalizing the columns, the result should be:\n",
        "```\n",
        "y = [[ 0,  1,  1],\n",
        "     [ 1, -1, -1],\n",
        "     [-1,  0,  0]]\n",
        "```\n",
        "\n",
        "Your implementation should not use any loops; instead you should use reduction and broadcasting operations."
      ]
    },
    {
      "cell_type": "code",
      "metadata": {
        "id": "1Hw72yb3eGiG"
      },
      "source": [
        "\n",
        "\n",
        "################################################################################\n",
        "#                              START OF YOUR CODE                                #\n",
        "################################################################################\n",
        "def normalize_columns(x):\n",
        "\n",
        "  # x: (input) Ndarray of shape (N, M) (don't modefy it: use copy())\n",
        "  # y: (return) Ndarray of shape (N, M) normalized by the columns\n",
        "  \n",
        "  #your code should be here\n",
        " \n",
        "################################################################################\n",
        "#                              END OF YOUR CODE                                #\n",
        "################################################################################"
      ],
      "execution_count": null,
      "outputs": []
    },
    {
      "cell_type": "code",
      "metadata": {
        "id": "AhMuCL9AfcFH"
      },
      "source": [
        "x0 = np.array([[0., 30., 600.], [1., 10., 200.], [-1., 20., 400.]])\n",
        "y0 = normalize_columns(x0)\n",
        "print('Here is x0:')\n",
        "print(x0)\n",
        "print('Here is y0:')\n",
        "print(y0)\n",
        "assert y0.tolist() == [[0., 1.224744871391589, 1.224744871391589], [1.224744871391589, -1.224744871391589, -1.224744871391589], [-1.224744871391589, 0., 0.]]\n",
        "assert x0.tolist() == [[0., 30., 600.], [1., 10., 200.], [-1., 20., 400.]]"
      ],
      "execution_count": null,
      "outputs": []
    },
    {
      "cell_type": "markdown",
      "metadata": {
        "id": "lnq9TiIcjtfo"
      },
      "source": [
        "\n",
        "\n",
        "---\n",
        "\n",
        "\n",
        "\n",
        "---\n",
        "\n",
        "\n",
        "\n",
        "---\n",
        "\n"
      ]
    },
    {
      "cell_type": "markdown",
      "metadata": {
        "id": "5cgmy-NcMnVQ"
      },
      "source": [
        "### 11- creates a function that returns a matrix of **one-hot vectors** from a list of Python integers. A one-hot vector for an integer $n$ is a vector that has a one in its $n$th slot, and zeros in all other slots. One-hot vectors are commonly used to represent categorical variables in machine learning models.\n",
        "\n",
        "### For example, given a list `[1, 4, 3, 2]` of integers, your function should produce the tensor:\n",
        "\n",
        "```\n",
        "[[0 1 0 0 0],\n",
        " [0 0 0 0 1],\n",
        " [0 0 0 1 0],\n",
        " [0 0 1 0 0]]\n",
        "```\n",
        "\n",
        "### Here the first row corresponds to the first element of the list: it has a one at index 1, and zeros at all other indices. The second row corresponds to the second element of the list: it has a one at index 4, and zeros at all other indices. The other rows follow the same pattern. "
      ]
    },
    {
      "cell_type": "code",
      "metadata": {
        "id": "PVF3dD8_M_iv"
      },
      "source": [
        "################################################################################\n",
        "#                              START OF YOUR CODE                                #\n",
        "################################################################################\n",
        "def make_one_hot(x):\n",
        "\n",
        "  #x: (input) A list of n ints\n",
        "  \n",
        "  #your code should be here\n",
        " \n",
        "################################################################################\n",
        "#                              END OF YOUR CODE                                #\n",
        "################################################################################"
      ],
      "execution_count": null,
      "outputs": []
    },
    {
      "cell_type": "markdown",
      "metadata": {
        "id": "YmeIDy2fZxw0"
      },
      "source": [
        "Run the following cell to check your implementation, you must see 'all checks pass!' message"
      ]
    },
    {
      "cell_type": "code",
      "metadata": {
        "id": "CGmylzqIM-hd"
      },
      "source": [
        "def check_one_hot(x, y):\n",
        "  C = y.shape[1]\n",
        "  for i, n in enumerate(x):\n",
        "    if n >= C: return False\n",
        "    for j in range(C):\n",
        "      expected = 1.0 if j == n else 0.0\n",
        "      if y[i, j].item() != expected: return False\n",
        "  return True\n",
        "      \n",
        "x0 = [1, 4, 3, 2]\n",
        "y0 = make_one_hot(x0)\n",
        "print('Here is y0:')\n",
        "print(y0)\n",
        "assert check_one_hot(x0, y0), 'y0 is wrong'\n",
        "\n",
        "x1 = [1, 3, 5, 7, 6, 2]\n",
        "y1 = make_one_hot(x1)\n",
        "print('\\nHere is y1:')\n",
        "print(y1)\n",
        "assert check_one_hot(x1, y1), 'y1 is wrong'\n",
        "\n",
        "print('all checks pass!')"
      ],
      "execution_count": null,
      "outputs": []
    },
    {
      "cell_type": "markdown",
      "metadata": {
        "id": "oEwW4WoiJI3Q"
      },
      "source": [
        "\n",
        "\n",
        "---\n",
        "\n",
        "\n",
        "\n",
        "---\n",
        "\n",
        "\n",
        "\n",
        "---\n",
        "\n"
      ]
    },
    {
      "cell_type": "markdown",
      "metadata": {
        "id": "RQKJ1ge2uCyC"
      },
      "source": [
        "# Exercise B:\n",
        "\n",
        "### Maximum Likelihood\n",
        "Find the maximum likelihood estimation of parameters $\\boldsymbol\\theta$.\n",
        "\n",
        "Given:\n",
        "\n",
        "$$\n",
        "\\boldsymbol X \\in\\mathbb{R}^{N\\times D} \\quad \\boldsymbol y  \\in\\mathbb{R}^N\n",
        "$$\n",
        "\n",
        "Steps to follow:\n",
        "\n",
        "\n",
        "1.   Initialize Ndarray **X** from a normal distribution with shapes: N = 10 and D = 5.\n",
        "2.   Initialize Ndarray **y** with all ones with shape N = 10 and reshape it to have the shape (N, 1).\n",
        "3.   Compute the maximum likelihood estimation of parameters $\\boldsymbol\\theta$ following the equation and assign it to a variable called **theta**\n",
        "\n",
        "$$\n",
        "\\boldsymbol\\theta = (\\boldsymbol X^T\\boldsymbol X)^{-1}\\boldsymbol X^T\\boldsymbol y\\in\\mathbb{R}^D\n",
        "$$\n",
        "\n",
        "4. print the value of **theta**\n",
        "\n",
        "Hint: check the inverse method from the linear algebra module in Numpy"
      ]
    },
    {
      "cell_type": "code",
      "metadata": {
        "id": "rxshu5NIuBva"
      },
      "source": [
        "################################################################################\n",
        "# TODO: Compute the maximum likelihood estimation of parameters theta\n",
        "#       following the equation\n",
        "################################################################################\n",
        "\n",
        "\n",
        "#your code should be here\n",
        "\n",
        " \n",
        "################################################################################\n",
        "#                              END OF YOUR CODE                                #\n",
        "################################################################################"
      ],
      "execution_count": null,
      "outputs": []
    },
    {
      "cell_type": "markdown",
      "metadata": {
        "id": "3wzi6tdVzPwt"
      },
      "source": [
        "\n",
        "\n",
        "---\n",
        "\n",
        "\n",
        "\n",
        "---\n",
        "\n",
        "\n",
        "\n",
        "---\n",
        "\n"
      ]
    },
    {
      "cell_type": "markdown",
      "metadata": {
        "id": "ty0GckhNlpwf"
      },
      "source": [
        "# Exercise B:\n",
        "\n",
        "### The Log Likelihood\n",
        "\n",
        "Find the log likelihood estimation for input X, label y, parameterized by $\\boldsymbol\\theta$.\n",
        "\n",
        "Given:\n",
        "\n",
        "$$\n",
        "\\boldsymbol X \\in\\mathbb{R}^{N\\times D} \\quad \\boldsymbol y  \\in\\mathbb{R}^N \\quad \\boldsymbol \\theta  \\in\\mathbb{R}^D\n",
        "$$\n",
        "\n",
        "steps to follow:\n",
        "\n",
        "1.   Initialize Ndarray **X** from a normal distribution with shapes: N = 10 and D = 5.\n",
        "2.   Initialize Ndarray **y** with all ones with shape N = 10 and reshape it to have the shape (N, 1).\n",
        "3.   Initialize Ndarray **theta** randomly with shape D = 5 and reshape it to have the shape (D, 1).\n",
        "4.   Compute the the probability of a all data points $(\\boldsymbol x, y)$ being of class 1, given by\n",
        "\n",
        "$$p(y = 1 | \\boldsymbol X, \\boldsymbol\\theta) = 1.0/(1.0+\\exp(- \\boldsymbol X \\boldsymbol \\theta))$$\n",
        "\n",
        "5. compute the log Likelihood, given by:\n",
        "$$\\log p(\\boldsymbol y|\\boldsymbol X, \\boldsymbol\\theta) = \\sum_i y_i * \\log (p(y = 1 | \\boldsymbol x, \\boldsymbol\\theta) + (1 - y_i) * \\log ( 1 - p(y = 1 | \\boldsymbol x, \\boldsymbol\\theta))$$\n",
        "\n",
        "6. print the log Likelihood"
      ]
    },
    {
      "cell_type": "code",
      "metadata": {
        "id": "5sm7MTZcoAmH"
      },
      "source": [
        "################################################################################\n",
        "# TODO: Compute the log likelihood \n",
        "#    \n",
        "################################################################################\n",
        "\n",
        "\n",
        "#your code should be here\n",
        "\n",
        "X = np.random.randn(10, 5)\n",
        "y = np.ones((10,1))\n",
        "theta = np.random.random((5, 1))\n",
        "\n",
        "p = 1.0/(1 + np.exp(-X @ theta))\n",
        "L = np.sum(y*np.log(p) + (1 - y)*np.log(1 - p))\n",
        "\n",
        "print(L)\n",
        " \n",
        "################################################################################\n",
        "#                              END OF YOUR CODE                                #\n",
        "################################################################################"
      ],
      "execution_count": null,
      "outputs": []
    },
    {
      "cell_type": "code",
      "metadata": {
        "id": "ZDtoN3IViqoa"
      },
      "source": [
        "import numpy as np"
      ],
      "execution_count": null,
      "outputs": []
    },
    {
      "cell_type": "code",
      "metadata": {
        "colab": {
          "base_uri": "https://localhost:8080/",
          "height": 196
        },
        "id": "koWkXHbpiL4R",
        "outputId": "22add089-9029-424b-8980-066b4a8f1dce"
      },
      "source": [
        "A = np.arange(9).reshape(3,3)\n",
        "\n",
        "B = [2, 1, 0]\n",
        "\n",
        "print(A[np.arange(4), B])"
      ],
      "execution_count": null,
      "outputs": [
        {
          "output_type": "error",
          "ename": "IndexError",
          "evalue": "ignored",
          "traceback": [
            "\u001b[0;31m---------------------------------------------------------------------------\u001b[0m",
            "\u001b[0;31mIndexError\u001b[0m                                Traceback (most recent call last)",
            "\u001b[0;32m<ipython-input-50-9335b1fc3f4e>\u001b[0m in \u001b[0;36m<module>\u001b[0;34m()\u001b[0m\n\u001b[1;32m      3\u001b[0m \u001b[0mB\u001b[0m \u001b[0;34m=\u001b[0m \u001b[0;34m[\u001b[0m\u001b[0;36m2\u001b[0m\u001b[0;34m,\u001b[0m \u001b[0;36m1\u001b[0m\u001b[0;34m,\u001b[0m \u001b[0;36m0\u001b[0m\u001b[0;34m]\u001b[0m\u001b[0;34m\u001b[0m\u001b[0;34m\u001b[0m\u001b[0m\n\u001b[1;32m      4\u001b[0m \u001b[0;34m\u001b[0m\u001b[0m\n\u001b[0;32m----> 5\u001b[0;31m \u001b[0mprint\u001b[0m\u001b[0;34m(\u001b[0m\u001b[0mA\u001b[0m\u001b[0;34m[\u001b[0m\u001b[0mnp\u001b[0m\u001b[0;34m.\u001b[0m\u001b[0marange\u001b[0m\u001b[0;34m(\u001b[0m\u001b[0;36m4\u001b[0m\u001b[0;34m)\u001b[0m\u001b[0;34m,\u001b[0m \u001b[0mB\u001b[0m\u001b[0;34m]\u001b[0m\u001b[0;34m)\u001b[0m\u001b[0;34m\u001b[0m\u001b[0;34m\u001b[0m\u001b[0m\n\u001b[0m",
            "\u001b[0;31mIndexError\u001b[0m: shape mismatch: indexing arrays could not be broadcast together with shapes (4,) (3,) "
          ]
        }
      ]
    },
    {
      "cell_type": "code",
      "metadata": {
        "colab": {
          "base_uri": "https://localhost:8080/"
        },
        "id": "T3nbc3dmk5Wt",
        "outputId": "6c8e9f71-2a07-4e57-e7ec-aa87dfa771e2"
      },
      "source": [
        "B"
      ],
      "execution_count": null,
      "outputs": [
        {
          "output_type": "execute_result",
          "data": {
            "text/plain": [
              "array([[1, 2, 2, 0],\n",
              "       [3, 4, 1, 2]])"
            ]
          },
          "metadata": {
            "tags": []
          },
          "execution_count": 18
        }
      ]
    },
    {
      "cell_type": "markdown",
      "metadata": {
        "id": "J00hTXvtctYr"
      },
      "source": [
        "\n",
        "```\n",
        "A = [[1  2  2  3],\n",
        "     [4  5  0  1]]\n",
        "```\n",
        "\n",
        "```\n",
        "B = [[9  10]\n",
        "    [14 15]]\n",
        "```\n",
        "### Which of the following options will return B:"
      ]
    }
  ]
}