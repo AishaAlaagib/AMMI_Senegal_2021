{
  "nbformat": 4,
  "nbformat_minor": 0,
  "metadata": {
    "colab": {
      "name": "Data Structure - Students Version",
      "provenance": [],
      "collapsed_sections": [
        "W9QI9FzZK4LA",
        "8B3E0vMgRN0R",
        "0zfe7hj5V3tF",
        "1o_8Cne8kUpq",
        "sHR_2EwBYZ63",
        "745PFX5mZSdQ",
        "oW3rEpVrYzR0",
        "mew2LY7gid3L",
        "HrKgmZi2rsCY",
        "GzsVFFuYKi5i",
        "ntrv6TG_kK43",
        "aTWzm8YqOq_G",
        "I_M8SXShauRQ",
        "Mze-jctfo4en",
        "CrLB0QwGqOyY"
      ]
    },
    "kernelspec": {
      "display_name": "Python 3",
      "name": "python3"
    }
  },
  "cells": [
    {
      "cell_type": "markdown",
      "metadata": {
        "id": "W9QI9FzZK4LA"
      },
      "source": [
        "# Data-Structures"
      ]
    },
    {
      "cell_type": "markdown",
      "metadata": {
        "id": "yHsvxf_fNr3s"
      },
      "source": [
        "# Content\n",
        "\n",
        "* Abstract data types\n",
        "* Data Structures\n",
        "* Classes and Objects - Brief Introduction\n",
        "* Builtin Data structures\n",
        "  * Lists\n",
        "  * tuples\n",
        "  * Sets\n",
        "  * Dictionaries\n",
        "* Implementing data structures\n",
        "  * Queues\n",
        "  * Stacks\n",
        "  * Linked Lists\n",
        "* Immutable vs Mutable\n",
        "* Space Time Complexity analysis\n"
      ]
    },
    {
      "cell_type": "markdown",
      "metadata": {
        "id": "8B3E0vMgRN0R"
      },
      "source": [
        "## Abstruct data type(ADT)\n",
        "* A logical definition of data type as a theoretical model\n",
        "* Specification of possible types data, possible operations on the data, and the behavior of those operations\n",
        "* ADT is implementation independent i.e the same ADT will have different types of Implementations\n",
        "\n",
        "\n",
        "E.g Stack ADT, list ADT, Queue ADT, Priority Queue ADT, etc.\n",
        "\n",
        "\n",
        "## Data structures\n",
        "* Are concrete/practical implementation of ADTs\n",
        "\n",
        "E.g Python lists, python deque implementation of queue, etc.\n",
        "\n"
      ]
    },
    {
      "cell_type": "markdown",
      "metadata": {
        "id": "0zfe7hj5V3tF"
      },
      "source": [
        "## Brief Introduction to Classes and Objects\n",
        "\n",
        "### Classes\n",
        "\n",
        "* Are prototype/blueprint of objects\n",
        "* Defines attributes and methods of objects\n",
        "* State of the object is represented by the attributes\n",
        "* Behaviour of the objects is defined by the methods\n",
        "\n",
        "### Class Definition syntax"
      ]
    },
    {
      "cell_type": "code",
      "metadata": {
        "id": "WxyiaBEZV2H7"
      },
      "source": [
        "class AnimalClass1:\n",
        "  pass\n",
        "class AnimalClass2:\n",
        "  name = \"Cat\"\n",
        "class AnimalClass3:\n",
        "  def __init__(self, name):\n",
        "    self.name = name\n",
        "class AnimalClass4:\n",
        "  def __init__(self, name, sound):\n",
        "    self.name = name\n",
        "    self.sound = sound\n",
        "  def make_sound(self):\n",
        "    print(self.sound)\n"
      ],
      "execution_count": null,
      "outputs": []
    },
    {
      "cell_type": "code",
      "metadata": {
        "id": "-GxJJuRDUcHy"
      },
      "source": [
        "class Animal:\n",
        "  def __init__(self, name, sound):\n",
        "    self.name = name\n",
        "    self.sound = sound\n",
        "\n",
        "  def make_sound(self):\n",
        "    print(self.sound)"
      ],
      "execution_count": null,
      "outputs": []
    },
    {
      "cell_type": "code",
      "metadata": {
        "colab": {
          "base_uri": "https://localhost:8080/"
        },
        "id": "sk57rK34Ug1m",
        "outputId": "aed84893-75f6-40fa-f102-52c3f2f4548b"
      },
      "source": [
        "animal = Animal(\"Dog\", \"Wow\")\n",
        "print(animal.name)\n",
        "\n",
        "cat = Animal(\"Cat\", \"Meow\")\n",
        "print(cat.name)"
      ],
      "execution_count": null,
      "outputs": [
        {
          "output_type": "stream",
          "text": [
            "Dog\n",
            "Cat\n"
          ],
          "name": "stdout"
        }
      ]
    },
    {
      "cell_type": "code",
      "metadata": {
        "colab": {
          "base_uri": "https://localhost:8080/"
        },
        "id": "jFbF4OT8VX60",
        "outputId": "64f55cf6-ec4f-44bf-c8c4-2963b16e60a0"
      },
      "source": [
        "cat.make_sound()"
      ],
      "execution_count": null,
      "outputs": [
        {
          "output_type": "stream",
          "text": [
            "Meow\n"
          ],
          "name": "stdout"
        }
      ]
    },
    {
      "cell_type": "markdown",
      "metadata": {
        "id": "1o_8Cne8kUpq"
      },
      "source": [
        "\n",
        "\n",
        "### Objects"
      ]
    },
    {
      "cell_type": "markdown",
      "metadata": {
        "id": "T1qDf-3bXvCw"
      },
      "source": [
        "* Are instances of the object\n",
        "* Classes define the type of the objects and objects are realization of those classes\n",
        "* The same class can be used to creat different objects, "
      ]
    },
    {
      "cell_type": "markdown",
      "metadata": {
        "id": "sHR_2EwBYZ63"
      },
      "source": [
        "#### Syntax to create an object"
      ]
    },
    {
      "cell_type": "code",
      "metadata": {
        "colab": {
          "base_uri": "https://localhost:8080/"
        },
        "id": "cAmnh73iYZAW",
        "outputId": "171d1b00-e71d-4ffe-9c67-4434efa01189"
      },
      "source": [
        "animal = AnimalClass4(\"Cat\", \"Meow\")\n",
        "animal.make_sound()"
      ],
      "execution_count": null,
      "outputs": [
        {
          "output_type": "stream",
          "text": [
            "Meow\n"
          ],
          "name": "stdout"
        }
      ]
    },
    {
      "cell_type": "markdown",
      "metadata": {
        "id": "745PFX5mZSdQ"
      },
      "source": [
        "### Python's builtin Data structures\n",
        "### Lists\n",
        "* Python's builtin Implementation of List ADT\n",
        "* Are ordered collection of items\n",
        "* Dynamic size\n",
        "* Mutable\n",
        "* More materials on lists\n",
        "  * [Lists and Tuples in Python](https://realpython.com/python-lists-tuples/)\n",
        "* More on implemenatation of lists in python\n",
        "  * [Python list implementation](https://www.laurentluce.com/posts/python-list-implementation/)\n",
        "  * [How are lists implemented in CPython?](https://docs.python.org/3/faq/design.html#id20)\n",
        "* Are indexable(Python uses zero based indices) \n",
        "* Time complexity\n",
        "  * Accessing item by indexing\n",
        "  * Checking existance of item \n",
        "  * Adding item to the end\n",
        "  * Adding item at arbitrary place\n",
        "  \n",
        "  "
      ]
    },
    {
      "cell_type": "code",
      "metadata": {
        "colab": {
          "base_uri": "https://localhost:8080/"
        },
        "id": "kIMMdkzQWPY2",
        "outputId": "3f45b1cb-359e-421d-a1c9-0dfeefc699b1"
      },
      "source": [
        "l = [x for x in range(1,4)]\n",
        "l"
      ],
      "execution_count": null,
      "outputs": [
        {
          "output_type": "execute_result",
          "data": {
            "text/plain": [
              "[1, 2, 3]"
            ]
          },
          "metadata": {
            "tags": []
          },
          "execution_count": 12
        }
      ]
    },
    {
      "cell_type": "code",
      "metadata": {
        "id": "G0AfoDhxW9Zb"
      },
      "source": [
        "l.append(8)"
      ],
      "execution_count": null,
      "outputs": []
    },
    {
      "cell_type": "code",
      "metadata": {
        "id": "OY2dl__DXAGE"
      },
      "source": [
        "l.insert(0, \"zero\")"
      ],
      "execution_count": null,
      "outputs": []
    },
    {
      "cell_type": "code",
      "metadata": {
        "colab": {
          "base_uri": "https://localhost:8080/"
        },
        "id": "7lH921cdXNaL",
        "outputId": "89e8d994-5d7b-4db4-c865-5d519a160180"
      },
      "source": [
        "l"
      ],
      "execution_count": null,
      "outputs": [
        {
          "output_type": "execute_result",
          "data": {
            "text/plain": [
              "['zero', 1, 2, 3, 8]"
            ]
          },
          "metadata": {
            "tags": []
          },
          "execution_count": 16
        }
      ]
    },
    {
      "cell_type": "code",
      "metadata": {
        "id": "wSCDTEV4XUIC"
      },
      "source": [
        "l = l[1:]"
      ],
      "execution_count": null,
      "outputs": []
    },
    {
      "cell_type": "code",
      "metadata": {
        "colab": {
          "base_uri": "https://localhost:8080/"
        },
        "id": "yXOcm3FJWjGS",
        "outputId": "46d2a730-b52c-4f01-da82-61e1a0cb9979"
      },
      "source": [
        "sum(l[::])  "
      ],
      "execution_count": null,
      "outputs": [
        {
          "output_type": "execute_result",
          "data": {
            "text/plain": [
              "14"
            ]
          },
          "metadata": {
            "tags": []
          },
          "execution_count": 18
        }
      ]
    },
    {
      "cell_type": "code",
      "metadata": {
        "colab": {
          "base_uri": "https://localhost:8080/"
        },
        "id": "WhvJ6-0LWjIp",
        "outputId": "d5139c26-18cc-40e3-b1b6-913fadfad82e"
      },
      "source": [
        "l"
      ],
      "execution_count": null,
      "outputs": [
        {
          "output_type": "execute_result",
          "data": {
            "text/plain": [
              "[1, 2, 3, 8]"
            ]
          },
          "metadata": {
            "tags": []
          },
          "execution_count": 20
        }
      ]
    },
    {
      "cell_type": "code",
      "metadata": {
        "colab": {
          "base_uri": "https://localhost:8080/"
        },
        "id": "61uQZqRcWjLp",
        "outputId": "eaddd4e5-76c9-47c0-ee83-f41fe02ddda9"
      },
      "source": [
        "l.index(8)"
      ],
      "execution_count": null,
      "outputs": [
        {
          "output_type": "execute_result",
          "data": {
            "text/plain": [
              "3"
            ]
          },
          "metadata": {
            "tags": []
          },
          "execution_count": 21
        }
      ]
    },
    {
      "cell_type": "code",
      "metadata": {
        "colab": {
          "base_uri": "https://localhost:8080/"
        },
        "id": "nCCRX_w9WjSm",
        "outputId": "b15c24ba-0fa9-4237-dc81-c2ce578bef95"
      },
      "source": [
        "9 in l"
      ],
      "execution_count": null,
      "outputs": [
        {
          "output_type": "execute_result",
          "data": {
            "text/plain": [
              "False"
            ]
          },
          "metadata": {
            "tags": []
          },
          "execution_count": 26
        }
      ]
    },
    {
      "cell_type": "code",
      "metadata": {
        "colab": {
          "base_uri": "https://localhost:8080/"
        },
        "id": "VLVUTGRzbysi",
        "outputId": "811da173-e76f-492d-b1c1-7ed58be86307"
      },
      "source": [
        "list_1 = list() # Creating empty list\n",
        "list_2 = [10, 20, 30, 40] # Anthor way to create list\n",
        "print(\"The first element of list_2 is\", list_2[0]) # accessing the first element of the list\n",
        "list_1.append(10) # adding 10 to the list items. \n",
        "\n",
        "list_1.append(20) # adding 10 to the list items. \n",
        "list_1.append(10) # adding 10 to the list items. \n",
        "print(\"list_1 after append 10, 20 and 10\", list_1)\n",
        "list_2.remove(20)\n",
        "print(\"list_2 after removing 20\", list_2)\n",
        "\n",
        "list_1.extend(list_2) # Adding all elements from the list_2 to list_1\n",
        "print(\"list_1 after extending list_2\")\n",
        "\n",
        "list_3 = [\"cat\", \"dog\"]\n",
        "list_4 = list_1 + list_3 # List concatenation\n",
        "print(\"list_4\", list_4)"
      ],
      "execution_count": null,
      "outputs": [
        {
          "output_type": "stream",
          "text": [
            "The first element of list_2 is 10\n",
            "list_1 after append 10, 20 and 10 [10, 20, 10]\n",
            "list_2 after removing 20 [10, 30, 40]\n",
            "list_1 after extending list_2\n",
            "list_4 [10, 20, 10, 10, 30, 40, 'cat', 'dog']\n"
          ],
          "name": "stdout"
        }
      ]
    },
    {
      "cell_type": "code",
      "metadata": {
        "id": "aY1ODG-jeCpL"
      },
      "source": [
        ""
      ],
      "execution_count": null,
      "outputs": []
    },
    {
      "cell_type": "markdown",
      "metadata": {
        "id": "xjW4yo3JeDTo"
      },
      "source": [
        "\n",
        "<font  color=\"olive\"> <b> Question 1</b><br/>\n",
        " Dot product of vectors\n",
        "Vectors are mathematical objects that are often used to represent the inputs to neural networks. One way to view the vectors is as list of items. Complete the following code to compute dot product of two vectors. Dot product is defined the following equation:-\n",
        "</font>\n",
        "\n",
        "$$\n",
        "x.y = <x, y> = x^Ty = \\sum_{i}^n x_iy_i\n",
        "$$\n",
        "\n",
        "<font  color=\"olive\"> \n",
        "Assume that only lists are passed to the function and they also contain only numeric datatype.\n",
        "\n",
        "</font>"
      ]
    },
    {
      "cell_type": "code",
      "metadata": {
        "id": "j-4NM9l6ery2"
      },
      "source": [
        "def dot_prod(vec_1, vec_2):\n",
        "  \"\"\"\n",
        "  Computer dot product of two vectors. The vectors are list of numbers\n",
        "  and have same length, i.e len(vec_1) == len(vec_2). \n",
        "  Parameters\n",
        "  ----------\n",
        "  vec_1 : list\n",
        "    The first vector\n",
        "  vec_2: list\n",
        "    The second vector\n",
        "  Returns\n",
        "  -------\n",
        "  float\n",
        "    The dot product of the vec_1 and vec_2\n",
        "\n",
        "  Examples\n",
        "  --------\n",
        "  >>> dot_prod([1, 2], [3, 4])\n",
        "  11\n",
        "  >>> dot_prod([1, 3, 4], [0, 1, 0])\n",
        "  3\n",
        "  \"\"\"\n",
        "\n",
        "  output = 0\n",
        "  ##### WRITE YOUR CODE HERE #####\n",
        "  for i in range(len(vec_1)):\n",
        "    output += (vec_1[i]* vec_2[i])\n",
        "  #### END CODE ####\n",
        "  # output = 0\n",
        "  # for k,v in zip(vec_1,vec_2):\n",
        "  #   output += k*v  \n",
        "  return output;\n",
        "\n",
        "  \n"
      ],
      "execution_count": null,
      "outputs": []
    },
    {
      "cell_type": "code",
      "metadata": {
        "colab": {
          "base_uri": "https://localhost:8080/"
        },
        "id": "p_K1L1g7gIp9",
        "outputId": "0db0ca72-d037-49cc-cac3-03bb5eaa7a05"
      },
      "source": [
        "dot_prod([1, 2, 3], [6, 8, 0])"
      ],
      "execution_count": null,
      "outputs": [
        {
          "output_type": "execute_result",
          "data": {
            "text/plain": [
              "22"
            ]
          },
          "metadata": {
            "tags": []
          },
          "execution_count": 32
        }
      ]
    },
    {
      "cell_type": "markdown",
      "metadata": {
        "id": "Yudfup1xgxza"
      },
      "source": [
        "\n",
        "<font  color=\"olive\"> <b> Question 2 $^{to\\ be\\ submitted}$</b><br/>\n",
        "Write a function to compute the squared norm of a vector. You can make the same assumption about vectors as in question 1.\n",
        "Squared norm of a vector $\\mathbf{x}$ is give by the following equation\n",
        "</font>\n",
        "$$\n",
        "  \\left|\\mathbf{x}\\right|^2 = \\sum_i^n x_i^2\n",
        "$$\n",
        "<font  color=\"olive\">\n",
        "You are allowed to use the `dot_prod` function you defined above.\n",
        "</font>\n"
      ]
    },
    {
      "cell_type": "code",
      "metadata": {
        "id": "l6jdROoCm18e"
      },
      "source": [
        "def squared_norm(vec):\n",
        "  \"\"\"\n",
        "  Compute the squared norm of vector. \n",
        "  Parameters\n",
        "  ----------\n",
        "  vec : list\n",
        "    The vector\n",
        "  \n",
        "  Returns\n",
        "  -------\n",
        "  float\n",
        "    The squared norm of the vector\n",
        "\n",
        "  Examples\n",
        "  --------\n",
        "  >>> squared_norm([1, 2])\n",
        "  5\n",
        "  >>> squared_norm([1, 3, 4])\n",
        "  26\n",
        "  \"\"\"\n",
        "\n",
        "  output = None\n",
        "  ##### WRITE YOUR CODE HERE #####\n",
        "\n",
        "  #### END CODE ####\n",
        "\n",
        "  \n",
        "  return output;\n",
        "\n"
      ],
      "execution_count": null,
      "outputs": []
    },
    {
      "cell_type": "code",
      "metadata": {
        "colab": {
          "base_uri": "https://localhost:8080/"
        },
        "id": "kaNAatUTndmt",
        "outputId": "e3bb5afa-b065-452b-e63a-f48f597aab6b"
      },
      "source": [
        "squared_norm([1, 3, 4])"
      ],
      "execution_count": null,
      "outputs": [
        {
          "output_type": "execute_result",
          "data": {
            "text/plain": [
              "26"
            ]
          },
          "metadata": {
            "tags": []
          },
          "execution_count": 25
        }
      ]
    },
    {
      "cell_type": "markdown",
      "metadata": {
        "id": "oW3rEpVrYzR0"
      },
      "source": [
        "### Nested Lists\n",
        "Arrays in machine learning are often in high dimensional. E.g Matrix, RGB image, Video.\n",
        "\n",
        "Matrix can be represented list of rows and each row of the matrix is also another list. This is an example of nested list. \n",
        "```python\n",
        "matrix = [\n",
        "          [1, 2],\n",
        "          [3, 4]\n",
        "        ]\n",
        "```\n",
        "With nested list we can use multiple level of indexing. For example to access 3 in the above matrix we can use the following the following snipt of code.\n",
        "\n",
        "```python\n",
        "matrix[1][0]\n",
        "```\n",
        "\n",
        "Nested for loop can be used to iterate over rows and columns of each rows.\n",
        "\n",
        "```python\n",
        "for i in range(len(matrix)):\n",
        "  for j in range(len(matirx[i])):\n",
        "    print(matrix[i][j])\n",
        "```"
      ]
    },
    {
      "cell_type": "code",
      "metadata": {
        "id": "-xX9PLcZf3sl"
      },
      "source": [
        "l = [3, 4]"
      ],
      "execution_count": null,
      "outputs": []
    },
    {
      "cell_type": "markdown",
      "metadata": {
        "id": "eT2tVNaSdWjo"
      },
      "source": [
        "<font  color=\"olive\"> <b> Question 3</b><br/>\n",
        "Create a function to add two matrix defined by nested list. Assume both matrices have the same number of rows and columns.\n",
        "</font>"
      ]
    },
    {
      "cell_type": "code",
      "metadata": {
        "id": "Fhclzl4PdU7c"
      },
      "source": [
        "\n",
        "def add_matrix(matrix_1, matrix_2):\n",
        "  \"\"\"\n",
        "  Adds two matrix\n",
        "  Parameters\n",
        "  ----------\n",
        "  matrix_1 : list\n",
        "    A matrix defined by nested list \n",
        "  matrix_2 : list\n",
        "    A matrix defined by nested list \n",
        "  Returns\n",
        "  -------\n",
        "  list\n",
        "    A matrix, sum of the two matrices.\n",
        "\n",
        "  Examples\n",
        "  --------\n",
        "  >>> add_matrix([[1, 2], [2, 3]], [[4, 1], [5, 0]])\n",
        "  [[5, 3], [7, 3]]\n",
        "\n",
        "  \"\"\"\n",
        "  output = None\n",
        "  ##### WRITE YOUR CODE HERE #####\n",
        "\n",
        "  #### END CODE ####\n",
        "\n",
        "  \n",
        "  return output;\n"
      ],
      "execution_count": null,
      "outputs": []
    },
    {
      "cell_type": "code",
      "metadata": {
        "colab": {
          "base_uri": "https://localhost:8080/"
        },
        "id": "WYZ7SJlTYJSl",
        "outputId": "6198e8bc-d27e-48ef-ca63-930013e5bf1f"
      },
      "source": [
        "add_matrix([[1, 2], [2, 3]], [[4, 1], [5, 0]])"
      ],
      "execution_count": null,
      "outputs": [
        {
          "output_type": "execute_result",
          "data": {
            "text/plain": [
              "[[5, 3], [7, 3]]"
            ]
          },
          "metadata": {
            "tags": []
          },
          "execution_count": 27
        }
      ]
    },
    {
      "cell_type": "markdown",
      "metadata": {
        "id": "mew2LY7gid3L"
      },
      "source": [
        "\n",
        "### tuples\n",
        "* Similar to lists but with some difference\n",
        "* Are ordered collection of items\n",
        "* fixed size\n",
        "* Immutable\n",
        "* More materials on tuples\n",
        "  * [Lists and Tuples in Python](https://realpython.com/python-lists-tuples/)\n",
        "\n",
        "\n"
      ]
    },
    {
      "cell_type": "code",
      "metadata": {
        "id": "iDQwFvDpmCGo"
      },
      "source": [
        "l = [2, 3, 3]"
      ],
      "execution_count": null,
      "outputs": []
    },
    {
      "cell_type": "code",
      "metadata": {
        "colab": {
          "base_uri": "https://localhost:8080/"
        },
        "id": "GY4gvdeqmWqs",
        "outputId": "64cb190f-f692-4c7b-c5ba-33ee8195c39a"
      },
      "source": [
        "l.append(5)\n",
        "l"
      ],
      "execution_count": null,
      "outputs": [
        {
          "output_type": "execute_result",
          "data": {
            "text/plain": [
              "[2, 3, 3, 5]"
            ]
          },
          "metadata": {
            "tags": []
          },
          "execution_count": 5
        }
      ]
    },
    {
      "cell_type": "code",
      "metadata": {
        "id": "4_WomXyGmgfS"
      },
      "source": [
        "l[2] = 4"
      ],
      "execution_count": null,
      "outputs": []
    },
    {
      "cell_type": "code",
      "metadata": {
        "colab": {
          "base_uri": "https://localhost:8080/"
        },
        "id": "ZELl0wvdml1z",
        "outputId": "32e83cad-c80a-4f7b-d5f2-bf48f1083017"
      },
      "source": [
        "l"
      ],
      "execution_count": null,
      "outputs": [
        {
          "output_type": "execute_result",
          "data": {
            "text/plain": [
              "[2, 3, 4, 5]"
            ]
          },
          "metadata": {
            "tags": []
          },
          "execution_count": 7
        }
      ]
    },
    {
      "cell_type": "code",
      "metadata": {
        "id": "zfneJWYimqeW"
      },
      "source": [
        "l.remove(5)"
      ],
      "execution_count": null,
      "outputs": []
    },
    {
      "cell_type": "code",
      "metadata": {
        "id": "61gBV4G4mtVw"
      },
      "source": [
        "t = (1, 3, 3)\n",
        "t = tuple([1, 2, 3])"
      ],
      "execution_count": null,
      "outputs": []
    },
    {
      "cell_type": "code",
      "metadata": {
        "colab": {
          "base_uri": "https://localhost:8080/"
        },
        "id": "7XF5SwEtnNbW",
        "outputId": "9dde417f-67d5-418a-e6b6-d094c2e9d9a4"
      },
      "source": [
        "t[0]"
      ],
      "execution_count": null,
      "outputs": [
        {
          "output_type": "execute_result",
          "data": {
            "text/plain": [
              "1"
            ]
          },
          "metadata": {
            "tags": []
          },
          "execution_count": 12
        }
      ]
    },
    {
      "cell_type": "code",
      "metadata": {
        "colab": {
          "base_uri": "https://localhost:8080/",
          "height": 167
        },
        "id": "g7TCrSOnmtX4",
        "outputId": "fb195289-b842-423d-ba9f-19d36bba0aec"
      },
      "source": [
        "t[0] =7"
      ],
      "execution_count": null,
      "outputs": [
        {
          "output_type": "error",
          "ename": "TypeError",
          "evalue": "ignored",
          "traceback": [
            "\u001b[0;31m---------------------------------------------------------------------------\u001b[0m",
            "\u001b[0;31mTypeError\u001b[0m                                 Traceback (most recent call last)",
            "\u001b[0;32m<ipython-input-13-1e7cf5a53e82>\u001b[0m in \u001b[0;36m<module>\u001b[0;34m()\u001b[0m\n\u001b[0;32m----> 1\u001b[0;31m \u001b[0mt\u001b[0m\u001b[0;34m[\u001b[0m\u001b[0;36m0\u001b[0m\u001b[0;34m]\u001b[0m \u001b[0;34m=\u001b[0m\u001b[0;36m7\u001b[0m\u001b[0;34m\u001b[0m\u001b[0;34m\u001b[0m\u001b[0m\n\u001b[0m",
            "\u001b[0;31mTypeError\u001b[0m: 'tuple' object does not support item assignment"
          ]
        }
      ]
    },
    {
      "cell_type": "code",
      "metadata": {
        "id": "Lr46-yTImtah"
      },
      "source": [
        "t2 = (*t, 4)\n"
      ],
      "execution_count": null,
      "outputs": []
    },
    {
      "cell_type": "code",
      "metadata": {
        "id": "rjGjO2Otoleu"
      },
      "source": [
        "# t = (3, 3, 4)\n",
        "# f(3, 3, 4)\n",
        "# f(*t)"
      ],
      "execution_count": null,
      "outputs": []
    },
    {
      "cell_type": "code",
      "metadata": {
        "colab": {
          "base_uri": "https://localhost:8080/"
        },
        "id": "5kWAxKFdnwbr",
        "outputId": "d0188e32-73eb-4f31-9fc0-7f14fe485fa2"
      },
      "source": [
        "t2"
      ],
      "execution_count": null,
      "outputs": [
        {
          "output_type": "execute_result",
          "data": {
            "text/plain": [
              "(1, 2, 3, 4)"
            ]
          },
          "metadata": {
            "tags": []
          },
          "execution_count": 17
        }
      ]
    },
    {
      "cell_type": "code",
      "metadata": {
        "colab": {
          "base_uri": "https://localhost:8080/"
        },
        "id": "5ip-sVGDn8S9",
        "outputId": "3331696b-06c8-4501-a2e2-216b10b50f3d"
      },
      "source": [
        "l1 = [2, 3, 4]\n",
        "l2 = [3]\n",
        "l3 = l1 + l2\n",
        "print(l3)"
      ],
      "execution_count": null,
      "outputs": [
        {
          "output_type": "stream",
          "text": [
            "[2, 3, 4, 3]\n"
          ],
          "name": "stdout"
        }
      ]
    },
    {
      "cell_type": "code",
      "metadata": {
        "id": "RMtBjpxhoHqF"
      },
      "source": [
        "t3 = t + t2"
      ],
      "execution_count": null,
      "outputs": []
    },
    {
      "cell_type": "code",
      "metadata": {
        "colab": {
          "base_uri": "https://localhost:8080/"
        },
        "id": "IxVkt6rtoNue",
        "outputId": "d9412854-58e4-4353-8301-4420a2d2947b"
      },
      "source": [
        "print(\"t\", t)\n",
        "print(\"t2\", t2)\n",
        "print('t3', t3)"
      ],
      "execution_count": null,
      "outputs": [
        {
          "output_type": "stream",
          "text": [
            "t (1, 2, 3)\n",
            "t2 (1, 2, 3, 4)\n",
            "t3 (1, 2, 3, 1, 2, 3, 4)\n"
          ],
          "name": "stdout"
        }
      ]
    },
    {
      "cell_type": "code",
      "metadata": {
        "colab": {
          "base_uri": "https://localhost:8080/"
        },
        "id": "qo8ToU1poK1Z",
        "outputId": "fa5888d6-c4c3-4a12-8065-c3ec3f612b18"
      },
      "source": [
        "print(t3)"
      ],
      "execution_count": null,
      "outputs": [
        {
          "output_type": "stream",
          "text": [
            "(1, 2, 3, 1, 2, 3, 4)\n"
          ],
          "name": "stdout"
        }
      ]
    },
    {
      "cell_type": "code",
      "metadata": {
        "colab": {
          "base_uri": "https://localhost:8080/"
        },
        "id": "GFfVoqqaRNK2",
        "outputId": "37a2fc48-9d7a-42b7-e5da-1a66f0ccc6ad"
      },
      "source": [
        "\n",
        "t1 = (10, 20, 30, 40) # Creating tuple\n",
        "print(\"The first element of t1 is\", t1[0]) # accessing the first element of the tuple\n",
        "\n",
        "\n",
        "t2 = (\"cat\", \"dog\")\n",
        "t3 = t1 + t2 # tuple concatenation\n",
        "print(\"t3\", t3)"
      ],
      "execution_count": null,
      "outputs": [
        {
          "output_type": "stream",
          "text": [
            "The first element of t1 is 10\n",
            "t3 (10, 20, 30, 40, 'cat', 'dog')\n"
          ],
          "name": "stdout"
        }
      ]
    },
    {
      "cell_type": "code",
      "metadata": {
        "id": "MzrNkEdamFzk"
      },
      "source": [
        ""
      ],
      "execution_count": null,
      "outputs": []
    },
    {
      "cell_type": "code",
      "metadata": {
        "id": "OHHMGsjpmF2f"
      },
      "source": [
        ""
      ],
      "execution_count": null,
      "outputs": []
    },
    {
      "cell_type": "markdown",
      "metadata": {
        "id": "HrKgmZi2rsCY"
      },
      "source": [
        "#### Type conversion\n",
        "Lists and tuples are ordered items. Conversion from one to another is possible.\n",
        "\n",
        "```python\n",
        "l1 = [1, 2, 3]\n",
        "t1 = tuple(l1) # Convert list to tuple\n",
        "t2 = [2, 4, 1]\n",
        "l2 = list(t2) # Conver to tuple\n",
        "\n",
        "```"
      ]
    },
    {
      "cell_type": "markdown",
      "metadata": {
        "id": "GzsVFFuYKi5i"
      },
      "source": [
        "### Time complexity\n",
        "  * Accessing item by indexing\n",
        "  * Checking existance of item "
      ]
    },
    {
      "cell_type": "code",
      "metadata": {
        "id": "TrsE15Lsrp-n"
      },
      "source": [
        ""
      ],
      "execution_count": null,
      "outputs": []
    },
    {
      "cell_type": "markdown",
      "metadata": {
        "id": "vUjCqVKErRYM"
      },
      "source": [
        "<font  color=\"olive\"> <b> Question 4</b><br/>\n",
        "Let's now use tuples to represent vectors. It would be even very convenient to use tuples than list to create vectors becuase basically vectors are fixed length. \n",
        "\n",
        "\n",
        "Create function to add to vectors. The addition of two vectors is given by the following equation.\n",
        "</font>\n",
        "\n",
        "$$\n",
        "  z_i = (\\mathbf{x} + \\mathbf{y})_i = x_i + y_i \n",
        "$$"
      ]
    },
    {
      "cell_type": "code",
      "metadata": {
        "id": "jwnOu24crPh4"
      },
      "source": [
        "def add_vectors(vec_1, vec_2):\n",
        "  \"\"\"\n",
        "  Computer addition of two vectors. The vectors are tuples of numbers\n",
        "  and have same length, i.e len(vec_1) == len(vec_2). \n",
        "  Parameters\n",
        "  ----------\n",
        "  vec_1 : tuple\n",
        "    The first vector\n",
        "  vec_2: tuple\n",
        "    The second vector\n",
        "  Returns\n",
        "  -------\n",
        "  tuple\n",
        "    The summition of the vec_1 and vec_2\n",
        "\n",
        "  Examples\n",
        "  --------\n",
        "  >>> add_vectors((1, 2), (3, 4))\n",
        "  [4, 6]\n",
        "  >>> add_vectors((1, 3, 4), (0, 1, 0))\n",
        "  [1, 4, 4]\n",
        "  \"\"\"\n",
        "\n",
        "  output = None\n",
        "  ##### WRITE YOUR CODE HERE #####\n",
        "\n",
        "  #### END CODE ####\n",
        "\n",
        "  \n",
        "  return output;\n",
        "\n",
        "\n",
        "\n"
      ],
      "execution_count": null,
      "outputs": []
    },
    {
      "cell_type": "code",
      "metadata": {
        "id": "bv9KXUmlpnLD"
      },
      "source": [
        "a = [6, 8, 2, 3, 4]"
      ],
      "execution_count": null,
      "outputs": []
    },
    {
      "cell_type": "code",
      "metadata": {
        "colab": {
          "base_uri": "https://localhost:8080/"
        },
        "id": "TwuiWU3gpvhx",
        "outputId": "d86210c4-a516-4af0-abc1-5ea059d19f00"
      },
      "source": [
        "for i in a:\n",
        "  print(i)"
      ],
      "execution_count": null,
      "outputs": [
        {
          "output_type": "stream",
          "text": [
            "6\n",
            "8\n",
            "2\n",
            "3\n",
            "4\n"
          ],
          "name": "stdout"
        }
      ]
    },
    {
      "cell_type": "code",
      "metadata": {
        "colab": {
          "base_uri": "https://localhost:8080/"
        },
        "id": "-XSJa7Blt6lL",
        "outputId": "db41bd48-dbbd-451c-a249-caccefbb0c6c"
      },
      "source": [
        "s = set([6, 8, 2, 3, 4])\n",
        "print(s)"
      ],
      "execution_count": null,
      "outputs": [
        {
          "output_type": "stream",
          "text": [
            "{2, 3, 4, 6, 8}\n"
          ],
          "name": "stdout"
        }
      ]
    },
    {
      "cell_type": "markdown",
      "metadata": {
        "id": "Ead0Rrmdw1re"
      },
      "source": [
        "$$f(n) = n \\times f(n-1)$$"
      ]
    },
    {
      "cell_type": "code",
      "metadata": {
        "id": "CF2qNZarp78m"
      },
      "source": [
        ""
      ],
      "execution_count": null,
      "outputs": []
    },
    {
      "cell_type": "code",
      "metadata": {
        "id": "lU9x-3kyp7_U"
      },
      "source": [
        ""
      ],
      "execution_count": null,
      "outputs": []
    },
    {
      "cell_type": "code",
      "metadata": {
        "id": "YS_0TGwGp8Ce"
      },
      "source": [
        ""
      ],
      "execution_count": null,
      "outputs": []
    },
    {
      "cell_type": "code",
      "metadata": {
        "colab": {
          "base_uri": "https://localhost:8080/"
        },
        "id": "RiLhUyS-p8Fd",
        "outputId": "278090b9-aa4c-4ae8-8dfc-5f13bc2d9fef"
      },
      "source": [
        "l = [3, 3, 3, 5]\n",
        "print(l)"
      ],
      "execution_count": null,
      "outputs": [
        {
          "output_type": "stream",
          "text": [
            "[3, 3, 3, 5]\n"
          ],
          "name": "stdout"
        }
      ]
    },
    {
      "cell_type": "code",
      "metadata": {
        "colab": {
          "base_uri": "https://localhost:8080/"
        },
        "id": "1OQ4kbNdqNLN",
        "outputId": "067b218f-8aca-4a08-edf1-d25561338d11"
      },
      "source": [
        "s = set(l)\n",
        "print(s)"
      ],
      "execution_count": null,
      "outputs": [
        {
          "output_type": "stream",
          "text": [
            "{3, 5}\n"
          ],
          "name": "stdout"
        }
      ]
    },
    {
      "cell_type": "code",
      "metadata": {
        "id": "-VNn6QcnqNOw"
      },
      "source": [
        ""
      ],
      "execution_count": null,
      "outputs": []
    },
    {
      "cell_type": "code",
      "metadata": {
        "colab": {
          "base_uri": "https://localhost:8080/"
        },
        "id": "hsDK5IQ4uE19",
        "outputId": "1d4bafe3-bbeb-4d07-87b3-6d0e1dc4d1cb"
      },
      "source": [
        "add_vectors([1, 3, 4], [0, 1, 0])"
      ],
      "execution_count": null,
      "outputs": [
        {
          "output_type": "execute_result",
          "data": {
            "text/plain": [
              "(1, 4, 4)"
            ]
          },
          "metadata": {
            "tags": []
          },
          "execution_count": 46
        }
      ]
    },
    {
      "cell_type": "markdown",
      "metadata": {
        "id": "ntrv6TG_kK43"
      },
      "source": [
        "## Sets\n",
        "* Are Unordered collection of items\n",
        "* They are mutable\n",
        "* The elements of set are unique(No duplication)\n",
        "* More on Sets [here](https://realpython.com/python-sets/)"
      ]
    },
    {
      "cell_type": "code",
      "metadata": {
        "colab": {
          "base_uri": "https://localhost:8080/"
        },
        "id": "P1LDCdw9K3Oi",
        "outputId": "f9cfa2bd-667a-46ea-a622-50237f47b6a8"
      },
      "source": [
        "s1 = set() # Creating empty sets\n",
        "print(\"s1\", s1)\n",
        "s2 = set([1, 3, 4])\n",
        "print(\"s2\", s2)\n",
        "s3 = {1, 3, 4} \n",
        "print(\"s3\",s3)\n",
        "s4 = set((1, 3, 4))\n",
        "print(\"s4\", s4)"
      ],
      "execution_count": null,
      "outputs": [
        {
          "output_type": "stream",
          "text": [
            "s1 set()\n",
            "s2 {1, 3, 4}\n",
            "s3 {1, 3, 4}\n",
            "s4 {1, 3, 4}\n"
          ],
          "name": "stdout"
        }
      ]
    },
    {
      "cell_type": "markdown",
      "metadata": {
        "id": "xiSiQhwWv7Ny"
      },
      "source": [
        "## Set operations"
      ]
    },
    {
      "cell_type": "code",
      "metadata": {
        "id": "SyHmhmX3K7Hb"
      },
      "source": [
        "s3.add(5)\n",
        "s4.add(6)"
      ],
      "execution_count": null,
      "outputs": []
    },
    {
      "cell_type": "code",
      "metadata": {
        "colab": {
          "base_uri": "https://localhost:8080/"
        },
        "id": "xjt9_0BuxYkV",
        "outputId": "4ed34460-a67c-46f1-8bd1-760a4c241e65"
      },
      "source": [
        "dir(s3)"
      ],
      "execution_count": null,
      "outputs": [
        {
          "output_type": "execute_result",
          "data": {
            "text/plain": [
              "['__and__',\n",
              " '__class__',\n",
              " '__contains__',\n",
              " '__delattr__',\n",
              " '__dir__',\n",
              " '__doc__',\n",
              " '__eq__',\n",
              " '__format__',\n",
              " '__ge__',\n",
              " '__getattribute__',\n",
              " '__gt__',\n",
              " '__hash__',\n",
              " '__iand__',\n",
              " '__init__',\n",
              " '__init_subclass__',\n",
              " '__ior__',\n",
              " '__isub__',\n",
              " '__iter__',\n",
              " '__ixor__',\n",
              " '__le__',\n",
              " '__len__',\n",
              " '__lt__',\n",
              " '__ne__',\n",
              " '__new__',\n",
              " '__or__',\n",
              " '__rand__',\n",
              " '__reduce__',\n",
              " '__reduce_ex__',\n",
              " '__repr__',\n",
              " '__ror__',\n",
              " '__rsub__',\n",
              " '__rxor__',\n",
              " '__setattr__',\n",
              " '__sizeof__',\n",
              " '__str__',\n",
              " '__sub__',\n",
              " '__subclasshook__',\n",
              " '__xor__',\n",
              " 'add',\n",
              " 'clear',\n",
              " 'copy',\n",
              " 'difference',\n",
              " 'difference_update',\n",
              " 'discard',\n",
              " 'intersection',\n",
              " 'intersection_update',\n",
              " 'isdisjoint',\n",
              " 'issubset',\n",
              " 'issuperset',\n",
              " 'pop',\n",
              " 'remove',\n",
              " 'symmetric_difference',\n",
              " 'symmetric_difference_update',\n",
              " 'union',\n",
              " 'update']"
            ]
          },
          "metadata": {
            "tags": []
          },
          "execution_count": 64
        }
      ]
    },
    {
      "cell_type": "code",
      "metadata": {
        "id": "HUlT-b9LqfFP"
      },
      "source": [
        "### \n",
        "Create a set\n",
        "A = with [3, 3, 2, 4]\n",
        "B = with [2, 5, 8]"
      ],
      "execution_count": null,
      "outputs": []
    },
    {
      "cell_type": "code",
      "metadata": {
        "id": "y4TVkA8wsAEm"
      },
      "source": [
        ""
      ],
      "execution_count": null,
      "outputs": []
    },
    {
      "cell_type": "code",
      "metadata": {
        "id": "L0q4e88owpdG"
      },
      "source": [
        "A = set([1, 2, 3])\n",
        "B = set([2, 9, 10])"
      ],
      "execution_count": null,
      "outputs": []
    },
    {
      "cell_type": "code",
      "metadata": {
        "colab": {
          "base_uri": "https://localhost:8080/"
        },
        "id": "HGtVCcCAsA9G",
        "outputId": "0e5a9ba8-bbe1-4b59-957e-98342bfb2f95"
      },
      "source": [
        "\n",
        "A.union(B)\n"
      ],
      "execution_count": null,
      "outputs": [
        {
          "output_type": "execute_result",
          "data": {
            "text/plain": [
              "{1, 2, 3, 9, 10}"
            ]
          },
          "metadata": {
            "tags": []
          },
          "execution_count": 35
        }
      ]
    },
    {
      "cell_type": "code",
      "metadata": {
        "colab": {
          "base_uri": "https://localhost:8080/"
        },
        "id": "RDxRLjq2sBmL",
        "outputId": "d1a9c73c-62cb-44d0-ab97-5cd7bcb2bd20"
      },
      "source": [
        "A.intersection(B)\n"
      ],
      "execution_count": null,
      "outputs": [
        {
          "output_type": "execute_result",
          "data": {
            "text/plain": [
              "{2}"
            ]
          },
          "metadata": {
            "tags": []
          },
          "execution_count": 36
        }
      ]
    },
    {
      "cell_type": "code",
      "metadata": {
        "colab": {
          "base_uri": "https://localhost:8080/"
        },
        "id": "_Zwoy39hsBpJ",
        "outputId": "733f3c3b-74b6-4def-a47e-72ebcc89e26f"
      },
      "source": [
        "A - B # A/B"
      ],
      "execution_count": null,
      "outputs": [
        {
          "output_type": "execute_result",
          "data": {
            "text/plain": [
              "{1, 3}"
            ]
          },
          "metadata": {
            "tags": []
          },
          "execution_count": 37
        }
      ]
    },
    {
      "cell_type": "code",
      "metadata": {
        "colab": {
          "base_uri": "https://localhost:8080/"
        },
        "id": "hj1fwyd7sBs0",
        "outputId": "6a7ee61a-d6fe-4eba-e336-a82f58eaf8b3"
      },
      "source": [
        "A"
      ],
      "execution_count": null,
      "outputs": [
        {
          "output_type": "execute_result",
          "data": {
            "text/plain": [
              "{1, 2, 3}"
            ]
          },
          "metadata": {
            "tags": []
          },
          "execution_count": 38
        }
      ]
    },
    {
      "cell_type": "code",
      "metadata": {
        "colab": {
          "base_uri": "https://localhost:8080/"
        },
        "id": "dvHgGRZPvMlx",
        "outputId": "bd013f42-f105-4554-ce36-b9a7fc3c3bd1"
      },
      "source": [
        "B"
      ],
      "execution_count": null,
      "outputs": [
        {
          "output_type": "execute_result",
          "data": {
            "text/plain": [
              "{2, 9, 10}"
            ]
          },
          "metadata": {
            "tags": []
          },
          "execution_count": 39
        }
      ]
    },
    {
      "cell_type": "code",
      "metadata": {
        "colab": {
          "base_uri": "https://localhost:8080/"
        },
        "id": "ZIqdsd-8vMoZ",
        "outputId": "e04e0f9a-fb46-4f62-cd01-55e52d352d32"
      },
      "source": [
        "A.union(B)"
      ],
      "execution_count": null,
      "outputs": [
        {
          "output_type": "execute_result",
          "data": {
            "text/plain": [
              "{1, 2, 3, 9, 10}"
            ]
          },
          "metadata": {
            "tags": []
          },
          "execution_count": 40
        }
      ]
    },
    {
      "cell_type": "code",
      "metadata": {
        "colab": {
          "base_uri": "https://localhost:8080/"
        },
        "id": "2TRjpHauvOFM",
        "outputId": "9400f887-7ab2-4338-8764-7a0539739dc6"
      },
      "source": [
        "A| B "
      ],
      "execution_count": null,
      "outputs": [
        {
          "output_type": "execute_result",
          "data": {
            "text/plain": [
              "{1, 2, 3, 9, 10}"
            ]
          },
          "metadata": {
            "tags": []
          },
          "execution_count": 41
        }
      ]
    },
    {
      "cell_type": "code",
      "metadata": {
        "id": "J7vsrP_KvOIC"
      },
      "source": [
        "a = hash(\"hello\")"
      ],
      "execution_count": null,
      "outputs": []
    },
    {
      "cell_type": "code",
      "metadata": {
        "colab": {
          "base_uri": "https://localhost:8080/"
        },
        "id": "zGUm2VEIvMrQ",
        "outputId": "3c0a2c9d-e9c5-41db-d8be-31940e1ee6da"
      },
      "source": [
        "a"
      ],
      "execution_count": null,
      "outputs": [
        {
          "output_type": "execute_result",
          "data": {
            "text/plain": [
              "5123772242585073667"
            ]
          },
          "metadata": {
            "tags": []
          },
          "execution_count": 43
        }
      ]
    },
    {
      "cell_type": "code",
      "metadata": {
        "colab": {
          "base_uri": "https://localhost:8080/"
        },
        "id": "OTnSz1CKvCrl",
        "outputId": "2f917b89-552c-41a0-8a36-122b5cc67d7e"
      },
      "source": [
        "print(\"A v B = {}\".format(A | B)) # Union\n",
        "print(\"A n B = {}\".format(A & B)) # Intersection\n",
        "print(\"A / B = {}\".format(A - B)) # relative complement\n",
        "print(\"B / A = {}\".format(B - A)) # relative complement\n"
      ],
      "execution_count": null,
      "outputs": [
        {
          "output_type": "stream",
          "text": [
            "A v B = {1, 2, 3, 4, 5, 6, 8}\n",
            "A n B = {2, 3}\n",
            "A / B = {1, 5}\n",
            "B / A = {8, 4, 6}\n"
          ],
          "name": "stdout"
        }
      ]
    },
    {
      "cell_type": "code",
      "metadata": {
        "colab": {
          "base_uri": "https://localhost:8080/"
        },
        "id": "U6f-wTyNzwj3",
        "outputId": "2d0ee0c3-7038-479b-b0ea-67ed75641ff8"
      },
      "source": [
        "s3.difference(s4)"
      ],
      "execution_count": null,
      "outputs": [
        {
          "output_type": "execute_result",
          "data": {
            "text/plain": [
              "{5}"
            ]
          },
          "metadata": {
            "tags": []
          },
          "execution_count": 69
        }
      ]
    },
    {
      "cell_type": "markdown",
      "metadata": {
        "id": "RdbcbWPtKsh_"
      },
      "source": [
        "### Time complexity of set operations\n",
        "  * Accessing item by indexing\n",
        "  * Checking existance of item \n",
        "  * Adding item"
      ]
    },
    {
      "cell_type": "markdown",
      "metadata": {
        "id": "LM1D5WBOxrMU"
      },
      "source": [
        "<font  color=\"olive\"> <b> Question 5</b><br/>\n",
        "Write a function to find the elements of two sets that are in only in one of the sets. Using loop is not allowed. Use only operation on set. \n",
        "</font>"
      ]
    },
    {
      "cell_type": "code",
      "metadata": {
        "id": "rmuJFexIwHzr"
      },
      "source": [
        "def intersection_complement(set_a, set_b):\n",
        "  \"\"\"\n",
        "  Find set of items that are only in one of the sets.\n",
        "  Parameters\n",
        "  ----------\n",
        "  set_a : set\n",
        "    A set with elements zero ore more\n",
        "  set_b : set\n",
        "    A set with elements zero ore more\n",
        "  \n",
        "  \n",
        "  Returns\n",
        "  -------\n",
        "  set\n",
        "    Set containing elements which are in only one of the sets\n",
        "\n",
        "  Examples\n",
        "  --------\n",
        "  >>> intersection_complement({1, 2, 3}, {3, 4, 6})\n",
        "  {1, 2, 4, 6}\n",
        "  >>> intersection_complement(set(), {3, 4, 6})\n",
        "  {3, 4, 6}\n",
        "  \"\"\"\n",
        "\n",
        "  output = None\n",
        "  ##### WRITE YOUR CODE HERE #####\n",
        "\n",
        "  #### END CODE ####\n",
        "\n",
        "  \n",
        "  return output;\n",
        "\n",
        " \n",
        "\n"
      ],
      "execution_count": null,
      "outputs": []
    },
    {
      "cell_type": "code",
      "metadata": {
        "colab": {
          "base_uri": "https://localhost:8080/"
        },
        "id": "Q1VPz6h9ytJ5",
        "outputId": "0e0b3a7f-6394-4af1-c7c5-96b57e1149e0"
      },
      "source": [
        "intersection_complement({1, 2, 3}, {3, 4, 6})"
      ],
      "execution_count": null,
      "outputs": [
        {
          "output_type": "execute_result",
          "data": {
            "text/plain": [
              "{1, 2, 4, 6}"
            ]
          },
          "metadata": {
            "tags": []
          },
          "execution_count": 71
        }
      ]
    },
    {
      "cell_type": "code",
      "metadata": {
        "colab": {
          "base_uri": "https://localhost:8080/"
        },
        "id": "fFP9h7KSzs5T",
        "outputId": "15856dad-ea09-4c43-b833-828b7c3837af"
      },
      "source": [
        "intersection_complement(set(), {3, 4, 6})"
      ],
      "execution_count": null,
      "outputs": [
        {
          "output_type": "execute_result",
          "data": {
            "text/plain": [
              "{3, 4, 6}"
            ]
          },
          "metadata": {
            "tags": []
          },
          "execution_count": 72
        }
      ]
    },
    {
      "cell_type": "code",
      "metadata": {
        "id": "nADSpIcixkoE"
      },
      "source": [
        "a = set([3, 4, 2, 1, 0])"
      ],
      "execution_count": null,
      "outputs": []
    },
    {
      "cell_type": "code",
      "metadata": {
        "colab": {
          "base_uri": "https://localhost:8080/"
        },
        "id": "lph1BvI71cBq",
        "outputId": "9ee7fa1d-6e10-48f9-c7fa-f971add68939"
      },
      "source": [
        "for i in a:\n",
        "  print(i)"
      ],
      "execution_count": null,
      "outputs": [
        {
          "output_type": "stream",
          "text": [
            "0\n",
            "1\n",
            "2\n",
            "3\n",
            "4\n"
          ],
          "name": "stdout"
        }
      ]
    },
    {
      "cell_type": "code",
      "metadata": {
        "id": "ZmiLpF1i1rut"
      },
      "source": [
        ""
      ],
      "execution_count": null,
      "outputs": []
    },
    {
      "cell_type": "markdown",
      "metadata": {
        "id": "PI9EPVahMH8K"
      },
      "source": [
        "## Dictionaries\n",
        "\n",
        "* Collection of key, value pairs\n",
        "* A key is unique, but value could be diplicate.\n",
        "* Keys should be hashable.\n",
        "* More on Dictionaries [here](https://realpython.com/python-dicts/)"
      ]
    },
    {
      "cell_type": "code",
      "metadata": {
        "colab": {
          "base_uri": "https://localhost:8080/"
        },
        "id": "5EhoDjC3ZNYJ",
        "outputId": "4f69f78a-8e29-46d1-de85-37b6c148058a"
      },
      "source": [
        "d1 = {} # Creating empyt dictionary\n",
        "print(\"d1\", d1)\n",
        "d2 = dict() # Another way to create empty dictionary\n",
        "print(\"d2\", d2)\n",
        "d3 = {\"one\":1, \"two\":2, \"three\":3} # Creating dictionary with elements\n",
        "print(\"d3\", d3)\n",
        "d4 = dict(one=1, two=2, three=3) # The same as d3 but different intialization\n",
        "print(\"d4\", d4)\n",
        "d5 = dict([(\"one\", 1), (\"two\", 2), (\"three\", 3)]) # The same as d3 but different intialization\n",
        "print(\"d5\", d5)"
      ],
      "execution_count": null,
      "outputs": [
        {
          "output_type": "stream",
          "text": [
            "d1 {}\n",
            "d2 {}\n",
            "d3 {'one': 1, 'two': 2, 'three': 3}\n",
            "d4 {'one': 1, 'two': 2, 'three': 3}\n",
            "d5 {'one': 1, 'two': 2, 'three': 3}\n"
          ],
          "name": "stdout"
        }
      ]
    },
    {
      "cell_type": "markdown",
      "metadata": {
        "id": "WFl5LhC5KyaR"
      },
      "source": [
        "### Time complexity dictionaries\n",
        "  * Accessing item by indexing\n",
        "  * Checking existance of item \n",
        "    * Keys\n",
        "    * Values\n",
        "  * Adding item \n",
        "  "
      ]
    },
    {
      "cell_type": "code",
      "metadata": {
        "colab": {
          "base_uri": "https://localhost:8080/"
        },
        "id": "rSQko_IM3dzD",
        "outputId": "559a868d-6f33-408a-f48d-c2555bc0536e"
      },
      "source": [
        "d = {0:2, 9:10}\n",
        "print(d)"
      ],
      "execution_count": null,
      "outputs": [
        {
          "output_type": "stream",
          "text": [
            "{0: 2, 9: 10}\n"
          ],
          "name": "stdout"
        }
      ]
    },
    {
      "cell_type": "code",
      "metadata": {
        "id": "t-wrbMUp3iO2"
      },
      "source": [
        "d= {\"string\":0}"
      ],
      "execution_count": null,
      "outputs": []
    },
    {
      "cell_type": "code",
      "metadata": {
        "colab": {
          "base_uri": "https://localhost:8080/"
        },
        "id": "cgxu5_Vx3iRR",
        "outputId": "170b9a73-137c-4135-e245-7d0df511f94e"
      },
      "source": [
        "d[\"string\"]"
      ],
      "execution_count": null,
      "outputs": [
        {
          "output_type": "execute_result",
          "data": {
            "text/plain": [
              "0"
            ]
          },
          "metadata": {
            "tags": []
          },
          "execution_count": 51
        }
      ]
    },
    {
      "cell_type": "code",
      "metadata": {
        "id": "8PNDu7Df3iUG"
      },
      "source": [
        "d[\"string\"] = 10"
      ],
      "execution_count": null,
      "outputs": []
    },
    {
      "cell_type": "code",
      "metadata": {
        "colab": {
          "base_uri": "https://localhost:8080/"
        },
        "id": "ktOifKC13iXD",
        "outputId": "456cc958-a137-49a9-fc5d-1de7aca5c02f"
      },
      "source": [
        "d"
      ],
      "execution_count": null,
      "outputs": [
        {
          "output_type": "execute_result",
          "data": {
            "text/plain": [
              "{'string': 10}"
            ]
          },
          "metadata": {
            "tags": []
          },
          "execution_count": 53
        }
      ]
    },
    {
      "cell_type": "code",
      "metadata": {
        "colab": {
          "base_uri": "https://localhost:8080/"
        },
        "id": "AzxwAC9H3iay",
        "outputId": "420191f4-1402-43d4-f017-ea4c6d1eb179"
      },
      "source": [
        "d = {\"one\":1, \"two\":2, \"three\":3}\n",
        "for i in d:\n",
        "  print(i)"
      ],
      "execution_count": null,
      "outputs": [
        {
          "output_type": "stream",
          "text": [
            "one\n",
            "two\n",
            "three\n"
          ],
          "name": "stdout"
        }
      ]
    },
    {
      "cell_type": "code",
      "metadata": {
        "colab": {
          "base_uri": "https://localhost:8080/"
        },
        "id": "xFw3nZRE4C5v",
        "outputId": "5d74a720-d9d5-4192-e248-7f560d2b5d84"
      },
      "source": [
        "for i,v in d.items():\n",
        "  print(i, v)"
      ],
      "execution_count": null,
      "outputs": [
        {
          "output_type": "stream",
          "text": [
            "one 1\n",
            "two 2\n",
            "three 3\n"
          ],
          "name": "stdout"
        }
      ]
    },
    {
      "cell_type": "markdown",
      "metadata": {
        "id": "Uw_eIJ3NvSht"
      },
      "source": [
        "<font  color=\"olive\"> <b>Quick exercise on set builder</b><br/>\n",
        "</font>"
      ]
    },
    {
      "cell_type": "code",
      "metadata": {
        "id": "BaFB7QYnvSAH"
      },
      "source": [
        "s = {2, 3, 5}\n",
        "s = set([])\n",
        "\n",
        "d = {4:3, }\n",
        "d = dict()"
      ],
      "execution_count": null,
      "outputs": []
    },
    {
      "cell_type": "code",
      "metadata": {
        "id": "MAUcS5PC5Q_M"
      },
      "source": [
        "A = [\"KFC\", \"M\", \"X\", \"C\"]\n",
        "B = [\"C\", \"L\", \"V\"]\n"
      ],
      "execution_count": null,
      "outputs": []
    },
    {
      "cell_type": "code",
      "metadata": {
        "id": "66dx5gmP5b66"
      },
      "source": [
        "a = {A[i]:i for i in range(len(A))} \n",
        "b = {B[i]:i for i in range(len(B) )}"
      ],
      "execution_count": null,
      "outputs": []
    },
    {
      "cell_type": "code",
      "metadata": {
        "colab": {
          "base_uri": "https://localhost:8080/"
        },
        "id": "cUIiQmCI5b9-",
        "outputId": "e93d5a8a-2ee8-4efd-e934-f9d05f728fc4"
      },
      "source": [
        "for i in a:\n",
        "  print(\"{} in B: {}\".format(i, i in b))"
      ],
      "execution_count": null,
      "outputs": [
        {
          "output_type": "stream",
          "text": [
            "KFC in B: False\n",
            "M in B: False\n",
            "X in B: False\n",
            "C in B: True\n"
          ],
          "name": "stdout"
        }
      ]
    },
    {
      "cell_type": "code",
      "metadata": {
        "colab": {
          "base_uri": "https://localhost:8080/"
        },
        "id": "knY3sJse6lp6",
        "outputId": "3aa526cd-ad63-49dc-e0eb-c318c0d82b39"
      },
      "source": [
        "a_set  = set(A)\n",
        "b_set = set(B)\n",
        "for i in a_set:\n",
        "  print(\"i in B\", i in b_set)\n",
        "  "
      ],
      "execution_count": null,
      "outputs": [
        {
          "output_type": "stream",
          "text": [
            "i in B False\n",
            "i in B False\n",
            "i in B False\n",
            "i in B True\n"
          ],
          "name": "stdout"
        }
      ]
    },
    {
      "cell_type": "code",
      "metadata": {
        "id": "WSlk30pC7Fqm"
      },
      "source": [
        "# a = [3, 5, 2, 9]\n",
        "\n",
        "# Given a list return a dictionary where the keys \n",
        "# are elements of the list and the values are addition of\n",
        "# two to the keys. E.g if you have [3, 5] the output \n",
        "# should be {3:5, 5:7}\n",
        "def add_2(l):\n",
        "  # {3 => 5, 5 => 7}\n",
        "  # output = {i:i+2 for i in l}\n",
        "  # return output\n",
        "  output = {}\n",
        "  for i in l:\n",
        "    output[i] = i + 2"
      ],
      "execution_count": null,
      "outputs": []
    },
    {
      "cell_type": "markdown",
      "metadata": {
        "id": "aTWzm8YqOq_G"
      },
      "source": [
        "## Stacks\n",
        "\n",
        "* Stacks are abstract datatypes. \n",
        "* Python doesn't provide stack builtin implementations\n",
        "* Last In First Out ADT\n",
        "* Have the following operations\n",
        "  * Push: adds an element on top of the stack\n",
        "  * Pop: removes an element from the top of the stack<br/>\n",
        "  * empty: Checks if the stack is empty\n",
        "  <b>Optionally</b>\n",
        "  * Peek: To see the top elements\n",
        "  * Size: Retrieves the number of elements of the stack\n",
        "\n",
        "\n",
        "\n",
        "\n",
        "### Implementing stacks with list\n",
        "* `append()` method of list for push operation\n",
        "* `pop()` method of list for pop operation\n",
        "* indexing with last index for peek operation\n",
        "* list.__len__() == 0 for empty operation \n",
        "* list.__len__() for size operation\n"
      ]
    },
    {
      "cell_type": "code",
      "metadata": {
        "id": "yTk7z3X8g1Xi"
      },
      "source": [
        "stack = list()\n",
        "stack.append(\"one\") # Push operation\n",
        "element = stack.pop() # Pop operation\n",
        "print(\"element\", element)\n",
        "print(\"Is empty: \", len(stack)==0) # Empty operation\n",
        "print(\"Size\", len(stack))"
      ],
      "execution_count": null,
      "outputs": []
    },
    {
      "cell_type": "markdown",
      "metadata": {
        "id": "BgUjD36BM4Ct"
      },
      "source": [
        "Here we will create a class to represent stack. Don't worry if you don't know what class is and how to use it. All the following code will be clear, once you learn classes and object tomorrow. For know focus on the functions of the class."
      ]
    },
    {
      "cell_type": "code",
      "metadata": {
        "id": "nd_ltyduNJmw"
      },
      "source": [
        "class Stack(object):\n",
        "  def __init__(self):\n",
        "    self.__stack = list()\n",
        "  def push(self, element):\n",
        "    self.__stack.append(element)\n",
        "  def pop(self):\n",
        "    if self.empty():\n",
        "      raise StopIteration(\"Pop from empty stack!!!\")\n",
        "    return self.__stack.pop()\n",
        "  def empty(self):\n",
        "    return len(self.__stack) == 0\n",
        "  def size(self):\n",
        "    return len(self.__stack)"
      ],
      "execution_count": null,
      "outputs": []
    },
    {
      "cell_type": "code",
      "metadata": {
        "id": "al4NWXo7Pw_k"
      },
      "source": [
        "stack = Stack()"
      ],
      "execution_count": null,
      "outputs": []
    },
    {
      "cell_type": "code",
      "metadata": {
        "colab": {
          "background_save": true
        },
        "id": "I_SHhpk5TJEa"
      },
      "source": [
        "dir(stack)"
      ],
      "execution_count": null,
      "outputs": []
    },
    {
      "cell_type": "code",
      "metadata": {
        "id": "0gPPulnpP7mN"
      },
      "source": [
        "stack.push(1)\n",
        "stack.push(2)\n",
        "stack.push(3)\n",
        "print(stack.pop())\n",
        "stack.push(4)\n",
        "stack.push(5)\n",
        "print(stack.pop())\n"
      ],
      "execution_count": null,
      "outputs": []
    },
    {
      "cell_type": "code",
      "metadata": {
        "id": "5DY7O3RlP7sR"
      },
      "source": [
        "stack.pop()"
      ],
      "execution_count": null,
      "outputs": []
    },
    {
      "cell_type": "code",
      "metadata": {
        "id": "zvuZc6zXP7vH"
      },
      "source": [
        "stack.pop()"
      ],
      "execution_count": null,
      "outputs": []
    },
    {
      "cell_type": "code",
      "metadata": {
        "id": "VJUDUlx1R2TU"
      },
      "source": [
        "stack.pop()"
      ],
      "execution_count": null,
      "outputs": []
    },
    {
      "cell_type": "markdown",
      "metadata": {
        "id": "I_M8SXShauRQ"
      },
      "source": [
        "## Queues\n",
        "* Similar to stack\n",
        "* First In First Out(FIFO) ADT\n",
        "* Python provides [deque objects](https://docs.python.org/3/library/collections.html#collections.defaultdict), to implement queue\n",
        "\n"
      ]
    },
    {
      "cell_type": "markdown",
      "metadata": {
        "id": "Mze-jctfo4en"
      },
      "source": [
        "## Linked Lists\n",
        "\n",
        "* Another implementation of List ADT\n",
        "* Each element has reference to next element(which could be for tail)\n",
        "* Have two properties, head node and tail node\n",
        "\n",
        "\n",
        "<img src=\"https://upload.wikimedia.org/wikipedia/commons/b/bf/Linked_list_data_format.jpg\"/><br/>\n",
        "<b>fig src:[https://upload.wikimedia.org/wikipedia/commons/b/bf/Linked_list_data_format.jpg](https://upload.wikimedia.org/wikipedia/commons/b/bf/Linked_list_data_format.jpg)</b>"
      ]
    },
    {
      "cell_type": "markdown",
      "metadata": {
        "id": "A5mwpmlGSC-f"
      },
      "source": [
        "We will implement Queue the same way as we implemented Stack. But here we will use deque to instead of list. Deque are more effient[O(1)] to add item to the start index compared with list which requires  O(n) time complexity to add item to the start index."
      ]
    },
    {
      "cell_type": "markdown",
      "metadata": {
        "id": "CrLB0QwGqOyY"
      },
      "source": [
        "### Linked List - Node\n",
        "* Each element in linked list\n",
        "* Has two properties\n",
        "  * Value\n",
        "  * Next \n",
        "\n",
        "  \n",
        "### Implemeneting Linked List\n"
      ]
    },
    {
      "cell_type": "code",
      "metadata": {
        "id": "K8XfU2HzR_Hd"
      },
      "source": [
        "from collections import deque\n",
        "class Queue(object):\n",
        "  def __init__(self):\n",
        "    self.__q = deque()\n",
        "  def enque(self, item):\n",
        "    self.__q.append(item)\n",
        "  def deque(self):\n",
        "    try:\n",
        "      return self.__q.popleft()\n",
        "    except StopIteration as exp:\n",
        "      raise StopIteration(\"Poping from empty queue\")\n",
        "  "
      ],
      "execution_count": null,
      "outputs": []
    },
    {
      "cell_type": "markdown",
      "metadata": {
        "id": "VNR8OLXAl7e8"
      },
      "source": [
        "## Mutable vs Immutable \n",
        "### Mutable\n",
        "  * Are data structures that can be changed, after their creation\n",
        "  * Since their value can be changed they are not hashable"
      ]
    },
    {
      "cell_type": "code",
      "metadata": {
        "colab": {
          "base_uri": "https://localhost:8080/",
          "height": 212
        },
        "id": "5D7sOyBxl84d",
        "outputId": "8b8b49c5-511b-4ae6-dd78-a71e539c6f8c"
      },
      "source": [
        "s = set([\"One\", \"Two\"])\n",
        "s.add(\"Three\")\n",
        "print(\"s:\", s)\n",
        "another_set = set([1, s]) # This will not run because s is  immutable"
      ],
      "execution_count": null,
      "outputs": [
        {
          "output_type": "stream",
          "text": [
            "s: {'One', 'Three', 'Two'}\n"
          ],
          "name": "stdout"
        },
        {
          "output_type": "error",
          "ename": "TypeError",
          "evalue": "ignored",
          "traceback": [
            "\u001b[0;31m---------------------------------------------------------------------------\u001b[0m",
            "\u001b[0;31mTypeError\u001b[0m                                 Traceback (most recent call last)",
            "\u001b[0;32m<ipython-input-12-d9edf588dad8>\u001b[0m in \u001b[0;36m<module>\u001b[0;34m()\u001b[0m\n\u001b[1;32m      2\u001b[0m \u001b[0ms\u001b[0m\u001b[0;34m.\u001b[0m\u001b[0madd\u001b[0m\u001b[0;34m(\u001b[0m\u001b[0;34m\"Three\"\u001b[0m\u001b[0;34m)\u001b[0m\u001b[0;34m\u001b[0m\u001b[0;34m\u001b[0m\u001b[0m\n\u001b[1;32m      3\u001b[0m \u001b[0mprint\u001b[0m\u001b[0;34m(\u001b[0m\u001b[0;34m\"s:\"\u001b[0m\u001b[0;34m,\u001b[0m \u001b[0ms\u001b[0m\u001b[0;34m)\u001b[0m\u001b[0;34m\u001b[0m\u001b[0;34m\u001b[0m\u001b[0m\n\u001b[0;32m----> 4\u001b[0;31m \u001b[0manother_set\u001b[0m \u001b[0;34m=\u001b[0m \u001b[0mset\u001b[0m\u001b[0;34m(\u001b[0m\u001b[0;34m[\u001b[0m\u001b[0;36m1\u001b[0m\u001b[0;34m,\u001b[0m \u001b[0ms\u001b[0m\u001b[0;34m]\u001b[0m\u001b[0;34m)\u001b[0m \u001b[0;31m# This will not run because s is not mutable\u001b[0m\u001b[0;34m\u001b[0m\u001b[0;34m\u001b[0m\u001b[0m\n\u001b[0m",
            "\u001b[0;31mTypeError\u001b[0m: unhashable type: 'set'"
          ]
        }
      ]
    },
    {
      "cell_type": "markdown",
      "metadata": {
        "id": "R-NzeS1slPth"
      },
      "source": [
        "\n",
        "### Immutable \n",
        "\n",
        "  * The data structures that cannot be changed once they are created.\n",
        "  * They are hashable and can be used as elements of set and as keys of dictionaries\n",
        "  \n",
        " \n"
      ]
    },
    {
      "cell_type": "code",
      "metadata": {
        "id": "KoK7RuyGl6x1"
      },
      "source": [
        "t = tuple([\"One\", \"Two\"])\n",
        "\n",
        "s = set([1, t]) # This will run because t is  immutable"
      ],
      "execution_count": null,
      "outputs": []
    },
    {
      "cell_type": "code",
      "metadata": {
        "id": "9NpELs0xrXKv"
      },
      "source": [
        ""
      ],
      "execution_count": null,
      "outputs": []
    },
    {
      "cell_type": "markdown",
      "metadata": {
        "id": "8Mz68PBCrXnC"
      },
      "source": [
        "## Time and Space complexity analysis"
      ]
    },
    {
      "cell_type": "markdown",
      "metadata": {
        "id": "dTaPSJ6IKSam"
      },
      "source": [
        "<font color=\"olive\"> <b> Question 6</b><br/> Given an integer n write a function to retrieve the first n fibonacci sequence elements.</font>\n"
      ]
    },
    {
      "cell_type": "code",
      "metadata": {
        "id": "XvyBjRi6Kh9_"
      },
      "source": [
        "\n",
        "def fibonacci(n):\n",
        "  \"\"\"\n",
        "  The first n elements of fibonacci sequence.\n",
        "  Parameters\n",
        "  ----------\n",
        "  n : int\n",
        "    Number of fibonacci sequence elements to retrieve\n",
        "  Returns\n",
        "  -------\n",
        "  list\n",
        "    The first n fibonacci sequence elements\n",
        "  Examples\n",
        "  --------\n",
        "  >>> fibonacci(1)\n",
        "  [1]\n",
        "  >>> fibonacci(2)\n",
        "  [1, 1]\n",
        "  >>> fibonacci(6)\n",
        "  [1, 1, 2, 3, 5, 8]\n",
        "  \"\"\"\n",
        "  output = None\n",
        "  ##### WRITE YOUR CODE HERE #####\n",
        "\n",
        "  #### END CODE ####\n",
        "\n",
        "  \n",
        "  return output;\n"
      ],
      "execution_count": null,
      "outputs": []
    },
    {
      "cell_type": "code",
      "metadata": {
        "colab": {
          "base_uri": "https://localhost:8080/"
        },
        "id": "uL7bzXoMLiN5",
        "outputId": "2440f8e1-e2e9-40ac-f045-63c788d3a93c"
      },
      "source": [
        "fibonacci(6)"
      ],
      "execution_count": null,
      "outputs": [
        {
          "output_type": "execute_result",
          "data": {
            "text/plain": [
              "[1, 1, 2, 3, 5, 8]"
            ]
          },
          "metadata": {
            "tags": []
          },
          "execution_count": 12
        }
      ]
    },
    {
      "cell_type": "markdown",
      "metadata": {
        "id": "WoZ5EFwl9y4J"
      },
      "source": [
        "\n",
        "<font color=\"olive\"> <b> Question 7</b><br/>Write a function that accepts integer n as argument, it should return a dictionary with key of non-negative integers up to n and squares of the those integers as values. e.g for n == 3 the output should be {0:0, 1:1, 2:4, 3:9}</font>"
      ]
    },
    {
      "cell_type": "code",
      "metadata": {
        "id": "70piy99JlR7O"
      },
      "source": [
        "\n",
        "def squares(n):\n",
        "  \"\"\"\n",
        "  Squares of non negative integers numbers up to n\n",
        "  Parameters\n",
        "  ----------\n",
        "  n : int\n",
        "    The number which specifies the upper bound of the numbers to compute squares\n",
        "  Returns\n",
        "  -------\n",
        "  dict\n",
        "    Dictionary where the keys are numbers up to n and the values are the squares of those integers\n",
        "\n",
        "  Examples\n",
        "  --------\n",
        "  >>> squares(3)\n",
        "  {0:0, 1:1, 2:4, 3:9}\n",
        "  >>> squares(1)\n",
        "  {0:0, 1:1}\n",
        "  \"\"\"\n",
        "  output = None\n",
        "  ##### WRITE YOUR CODE HERE #####\n",
        "\n",
        "  #### END CODE ####\n",
        "\n",
        "  \n",
        "  return output;\n",
        "  "
      ],
      "execution_count": null,
      "outputs": []
    },
    {
      "cell_type": "markdown",
      "metadata": {
        "id": "0hguzTi-EVNB"
      },
      "source": [
        "<font color=\"olive\"> <b> Question 8</b><br/>Implement factorial function using recursion. Optimize the implementation for space complexity.</font>"
      ]
    },
    {
      "cell_type": "code",
      "metadata": {
        "id": "xjvFnUywDZvO"
      },
      "source": [
        "\n",
        "def factorial(n, mem = {}):\n",
        "  \"\"\"\n",
        "  Factorial of n with recursion.\n",
        "  Parameters\n",
        "  ----------\n",
        "  n : int\n",
        "    The number to compute factorial\n",
        "  mem : dict\n",
        "    The memory used to store previously computed factorial values\n",
        "  Returns\n",
        "  -------\n",
        "  int\n",
        "    The factorial of the n\n",
        "\n",
        "  Examples\n",
        "  --------\n",
        "  >>> factorial(0)\n",
        "  1\n",
        "  >>> factorial(3)\n",
        "  6\n",
        "  \"\"\"\n",
        "  output = None\n",
        "  ##### WRITE YOUR CODE HERE #####\n",
        "\n",
        "  #### END CODE ####\n",
        "\n",
        "  \n",
        "  return output;\n",
        "  \n"
      ],
      "execution_count": null,
      "outputs": []
    },
    {
      "cell_type": "markdown",
      "metadata": {
        "id": "J3Z7ylCeTMq4"
      },
      "source": [
        "<font  color=\"olive\"> <b> Question 9</b><br/></font>\n",
        "\n",
        "\n",
        "Here you are going to change the way python converts dictonaries to strings. In python if we have dictionary `{'one': 1, 'two': 2}`, calling the str method will convert this dictionary to `\"{'one': 1, 'two': 2}\"`. But we want to change this behavior.\n",
        "So if have `{'one': 1, 'two': 2}` dictionary, the model should output `\"{\\n\\t'one' => 1,\\n\\t'two' => 2\\n}\"`, so that printing the output would look like\n",
        "\n",
        "```bash\n",
        "{\n",
        "\t'one' => 1,\n",
        "\t'two' => 2\n",
        "}\n",
        "\n",
        "\n",
        "```\n",
        "\n",
        "for dictionary `{1:('a', 'b'), 2:('c', 'd')}` the output should be `\"{\\n\\t1 => ('a', 'b'),\\n\\t2 => ('c', 'd')\\n}\"`, so the printing would produce:-\n",
        "\n",
        "```bash\n",
        "{\n",
        "\t1 => ('a', 'b'),\n",
        "\t2 => ('c', 'd')\n",
        "}\n",
        "\n",
        "```\n",
        "\n",
        "for dictionary `{1:'a', 2:'b'}` the output should be `{\\n\\t1 => 'a',\\n\\t2 => 'b'\\n}`, so the printing would produce:-\n",
        "\n",
        "```bash\n",
        "{\n",
        "\t1 => 'a',\n",
        "\t2 => 'b'\n",
        "}\n",
        "\n",
        "```\n",
        "\n",
        "\n",
        "<font color=\"olive\">\n",
        "Write a function called `dict_str` it should accept dictionary and should return string representation of the dictionary in the new format discussed here.\n",
        "</font>"
      ]
    },
    {
      "cell_type": "code",
      "metadata": {
        "id": "nHJL2ATgFvNl"
      },
      "source": [
        "\n",
        "def dict_str(d):\n",
        "  \"\"\"\n",
        "  New string representation for dictionaries\n",
        "  Parameters\n",
        "  ----------\n",
        "  d : dict\n",
        "    The dictionary to compute string representation\n",
        "  Returns\n",
        "  -------\n",
        "  str\n",
        "    New string reprsentation for the dictionary\n",
        "\n",
        "  Examples\n",
        "  --------\n",
        "  >>> dict_str({'one': 1, 'two': 2})\n",
        "  \"{\\n\\t'one' => 1,\\n\\t'two' => 2\\n}\"\n",
        "  >>> dict_str({1:('a', 'b'), 2:('c', 'd')})\n",
        "  \"{\\n\\t1 => ('a', 'b'),\\n\\t2 => ('c', 'd')\\n}\"\n",
        "\n",
        "  \"\"\"\n",
        "  output = None\n",
        "  ##### WRITE YOUR CODE HERE #####\n",
        "\n",
        "  #### END CODE ####\n",
        "\n",
        "  \n",
        "  return output;"
      ],
      "execution_count": null,
      "outputs": []
    },
    {
      "cell_type": "markdown",
      "metadata": {
        "id": "_7WtFVIxIZSQ"
      },
      "source": [
        "<font  color=\"olive\"> <b> Question 10</b><br/>\n",
        "Create a function to reverse a list. The function should use O(1) memory regardless of the input list size. Using `reversed` function is not allowed.</font>"
      ]
    },
    {
      "cell_type": "code",
      "metadata": {
        "id": "VUlvSt06Ikyf"
      },
      "source": [
        "\n",
        "def reverse_list(l):\n",
        "  \"\"\"\n",
        "  Reverse a list \n",
        "  Parameters\n",
        "  ----------\n",
        "  l : list\n",
        "    A list to reverse the order\n",
        "  Returns\n",
        "  -------\n",
        "  list\n",
        "    New list with elements in reversed order\n",
        "\n",
        "  Examples\n",
        "  --------\n",
        "  >>> reverse_list([1])\n",
        "  [1]\n",
        "  >>> reverse_list([1, 2, 3, 4])\n",
        "  [4, 3, 2, 1]\n",
        "\n",
        "  \"\"\"\n",
        "  ##### WRITE YOUR CODE HERE #####\n",
        "\n",
        "  #### END CODE ####\n",
        "\n",
        "  \n",
        "  return l"
      ],
      "execution_count": null,
      "outputs": []
    },
    {
      "cell_type": "markdown",
      "metadata": {
        "id": "5yUHZIEPgNMS"
      },
      "source": [
        "<font  color=\"olive\"> <b> Question 11</b><br/>\n",
        "Write a function to remove duplicate elements from a list. The order might be changed. Do this exercise without using loops.\n",
        "\n",
        "</font>"
      ]
    },
    {
      "cell_type": "code",
      "metadata": {
        "id": "wM3jhqbugMJA"
      },
      "source": [
        "def remove_duplicate(l):\n",
        "  \"\"\"\n",
        "  Remove duplicate \n",
        "  Parameters\n",
        "  ----------\n",
        "  l : list\n",
        "    A list possibly containing duplicate elements\n",
        "  Returns\n",
        "  -------\n",
        "  list\n",
        "    A list containing only unique elements\n",
        "\n",
        "  Examples\n",
        "  --------\n",
        "  >>> remove_duplicate([1, 2, 2, 3, 4, 1])\n",
        "  [1, 2, 3, 4]\n",
        "  >>> remove_duplicate([1, 2, 3, 4])\n",
        "  [1, 2, 3, 4]\n",
        "\n",
        "  \"\"\"\n",
        "  output = None\n",
        "  ##### WRITE YOUR CODE HERE #####\n",
        "\n",
        "  #### END CODE ####\n",
        "\n",
        "  \n",
        "  return output;\n"
      ],
      "execution_count": null,
      "outputs": []
    },
    {
      "cell_type": "code",
      "metadata": {
        "id": "iCm5PVAAG9s0"
      },
      "source": [
        ""
      ],
      "execution_count": null,
      "outputs": []
    },
    {
      "cell_type": "markdown",
      "metadata": {
        "id": "je5RQmlFYJ3S"
      },
      "source": [
        "<font  color=\"olive\"> <b> Question 12</b><br/></font>\n",
        "Create a class to represent matrix with the following properties.\n",
        "\n",
        "* Initializer should accept three optional parameters\n",
        "    * rows => int: number of rows\n",
        "    * cols => int: number of columns of matrix\n",
        "    * matrix => list: nested list\n",
        "* If matrix parameter is None:\n",
        "   * The rows and cols should be given, if they are not given raise Exception.\n",
        "   * Create `__matrix` attribute of nested list with given number of rows and columns\n",
        "   \n",
        "   * All elements of the `__matrix` should be zero\n",
        "* If matrix paramter is not None\n",
        "  * Check if it is nested list, otherwise raise exception.\n",
        "  * You should check if the all inner lists have the same size and  numeric datatype\n",
        "  * Ignore the rows and cols parameters\n",
        "* Create `__rows` attribute to be the number of rows of `__matrix`\n",
        "* Create `__cols` attribute to be the number of columns of `__matrix`"
      ]
    },
    {
      "cell_type": "code",
      "metadata": {
        "id": "trQlA4jwIBiy"
      },
      "source": [
        ""
      ],
      "execution_count": null,
      "outputs": []
    }
  ]
}