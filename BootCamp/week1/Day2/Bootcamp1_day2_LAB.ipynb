{
  "nbformat": 4,
  "nbformat_minor": 0,
  "metadata": {
    "kernelspec": {
      "display_name": "Python 3",
      "language": "python",
      "name": "python3"
    },
    "language_info": {
      "codemirror_mode": {
        "name": "ipython",
        "version": 3
      },
      "file_extension": ".py",
      "mimetype": "text/x-python",
      "name": "python",
      "nbconvert_exporter": "python",
      "pygments_lexer": "ipython3",
      "version": "3.6.9"
    },
    "colab": {
      "name": "Bootcamp1_day2_LAB.ipynb",
      "provenance": [],
      "collapsed_sections": []
    }
  },
  "cells": [
    {
      "cell_type": "markdown",
      "metadata": {
        "id": "PngichRafW2i"
      },
      "source": [
        "# BootCamp1 - Day 2_LAB: Loops in Python"
      ]
    },
    {
      "cell_type": "markdown",
      "metadata": {
        "id": "Jj1V-fDffW2n"
      },
      "source": [
        "The next blocks of codes are some exercises innvolving conditional statements and loops. Codes won't be written in a function format. \n",
        "<b><p style=\"color:#FF0000\"> Note that no built-in function and libraries (string ...) are allowed !!! </p>"
      ]
    },
    {
      "cell_type": "markdown",
      "metadata": {
        "id": "c3MRNejYUFzk"
      },
      "source": [
        "## Exercise 1: Get the Length\n",
        "<b> \n",
        "Given a string, write a code to get the length of the string: The number of characters including spaces and ponctuations. \n",
        "\n",
        "Ps any built-in function is not allowed.\n",
        "\n",
        "Example:\n",
        "s = 'First exercise', your code should print: The length is: 14\n",
        "\n",
        "</b> \n"
      ]
    },
    {
      "cell_type": "code",
      "metadata": {
        "id": "xsfkOaqyUDtM"
      },
      "source": [
        "##### WRITE YOUR CODE HERE #####\n",
        "\n",
        "\n",
        "#### END CODE ####"
      ],
      "execution_count": null,
      "outputs": []
    },
    {
      "cell_type": "markdown",
      "metadata": {
        "id": "xda43N7_8nLD"
      },
      "source": [
        "## Exercise 2: Pairwise sum\n",
        "<b> \n",
        "Given two lists l1 and l2 of size 6, create a new list that contain the pairwise sum. \n",
        "\n",
        "Example: If we have l1 = [2, 3, 4] and l2 = [4, 5, 7], it should print l3 = [6, 8, 11]\n",
        "\n",
        "</b> \n"
      ]
    },
    {
      "cell_type": "code",
      "metadata": {
        "id": "B-KUjHYT84L-"
      },
      "source": [
        "##### WRITE YOUR CODE HERE #####\n",
        "\n",
        "\n",
        "\n",
        "\n",
        "#### END CODE ####"
      ],
      "execution_count": null,
      "outputs": []
    },
    {
      "cell_type": "code",
      "metadata": {
        "id": "M2kXr0HmORtX"
      },
      "source": [
        ""
      ],
      "execution_count": null,
      "outputs": []
    },
    {
      "cell_type": "markdown",
      "metadata": {
        "id": "YcEL8_shOVeq"
      },
      "source": [
        "## Exercise 3: Intersection of two lists\n",
        "<b> \n",
        "Given two lists l1 and l2 of , print the intersection of the two lists. Lists don't contain duplicates.\n",
        "\n",
        "Example: If we have l1 = [1, 3, 2, 4] and l2 = [3, 4, 5, 7], it should print : 3,4\n",
        "\n",
        "</b> \n"
      ]
    },
    {
      "cell_type": "code",
      "metadata": {
        "id": "r3_vfQGdRmqM"
      },
      "source": [
        "l1 = [1,2,3,4,5,6]\n",
        "l2 = [2,3,9,16,1]\n",
        "##### WRITE YOUR CODE HERE #####\n",
        "\n",
        "\n",
        "\n",
        "\n",
        "#### END CODE ####"
      ],
      "execution_count": null,
      "outputs": []
    },
    {
      "cell_type": "markdown",
      "metadata": {
        "id": "a1gT0sOSfW2o"
      },
      "source": [
        "## Exercise 4: Palindrome\n",
        "<b> Given a string s, check whether s is a palindrome. s is the palindrome if s is equal to its reverse. Ps: Use a loop, slicing operation is not allowed.</b>\n"
      ]
    },
    {
      "cell_type": "code",
      "metadata": {
        "id": "1ve3wjjjfW2o"
      },
      "source": [
        "s = 'abababa'\n",
        "\n",
        "##### WRITE YOUR CODE HERE #####\n",
        "\n",
        "\n",
        "\n",
        "\n",
        "#### END CODE ####"
      ],
      "execution_count": null,
      "outputs": []
    },
    {
      "cell_type": "markdown",
      "metadata": {
        "id": "BNFNRWJouk-L"
      },
      "source": [
        "## Exercise 5: Reverse a list\n",
        "<b> Given a list l, reverse l.\n",
        "Ex= [1,2,3,4,5] ==> [5,4,3,2,1]. In this case the operation has to be done in-place. Do not allow new memory space</b>\n"
      ]
    },
    {
      "cell_type": "code",
      "metadata": {
        "id": "cmxsQNPsug27"
      },
      "source": [
        "l = [1, 2, 4, 5]\n",
        "\n",
        "##### WRITE YOUR CODE HERE #####\n",
        "\n",
        "\n",
        "\n",
        "\n",
        "#### END CODE ####"
      ],
      "execution_count": null,
      "outputs": []
    },
    {
      "cell_type": "markdown",
      "metadata": {
        "id": "Q0CPS9JxfW2n"
      },
      "source": [
        "## Exercise 6: Reverse an integer\n",
        "<b>Given an integer n, print the reverse of n. Casting operations are not allowed.</b>"
      ]
    },
    {
      "cell_type": "code",
      "metadata": {
        "id": "833oBA4pfW2o"
      },
      "source": [
        "n = 12345\n",
        "\n",
        "##### WRITE YOUR CODE HERE #####\n",
        "\n",
        "\n",
        "\n",
        "\n",
        "#### END CODE ####"
      ],
      "execution_count": null,
      "outputs": []
    },
    {
      "cell_type": "code",
      "metadata": {
        "id": "ifeGEd1QfW2p"
      },
      "source": [
        ""
      ],
      "execution_count": null,
      "outputs": []
    },
    {
      "cell_type": "markdown",
      "metadata": {
        "id": "2ID5LFqbfW2p"
      },
      "source": [
        "## Exercise 7: Prime Number\n",
        "<b> Given an integer n, check whether n is a prime number. A number is a prime number if it is divisible only by 1 and itself.</b> </br>\n"
      ]
    },
    {
      "cell_type": "code",
      "metadata": {
        "id": "CvZI1flPfW2q"
      },
      "source": [
        "n = 23\n",
        "\n",
        "##### WRITE YOUR CODE HERE #####\n",
        "\n",
        "\n",
        "\n",
        "#### END CODE ####"
      ],
      "execution_count": null,
      "outputs": []
    },
    {
      "cell_type": "markdown",
      "metadata": {
        "id": "Y4flJQcQfW2p"
      },
      "source": [
        "## Exercise 8: Two sum\n",
        "<b> \n",
        "Given an integer n and a sorted list l, find two elements that sum up to n and their indexes. We can have many combinations but just output one of them.\n",
        "\n",
        "Example: l = [1,2,3,4], n = 5 ==> combination = 1,4\n",
        "</b> \n",
        "\n"
      ]
    },
    {
      "cell_type": "code",
      "metadata": {
        "id": "HhmQvE8q9Q9I"
      },
      "source": [
        "l = [1,2,3,4,5]\n",
        "n = 9\n",
        "##### WRITE YOUR CODE HERE #####\n",
        "\n",
        "\n",
        "\n",
        "#### END CODE ####"
      ],
      "execution_count": null,
      "outputs": []
    },
    {
      "cell_type": "markdown",
      "metadata": {
        "id": "PT_F7zEvfW2q"
      },
      "source": [
        "## Exercise 9: Power of Two\n",
        "<b> Given an integer n, check whether n is a power of two. </b>\n"
      ]
    },
    {
      "cell_type": "code",
      "metadata": {
        "id": "iD0p_Zz0fW2q"
      },
      "source": [
        "n = 25\n",
        "\n",
        "##### WRITE YOUR CODE HERE #####\n",
        "\n",
        "\n",
        "\n",
        "#### END CODE ####"
      ],
      "execution_count": null,
      "outputs": []
    },
    {
      "cell_type": "code",
      "metadata": {
        "id": "M7obOyFpfW2r"
      },
      "source": [
        ""
      ],
      "execution_count": null,
      "outputs": []
    }
  ]
}