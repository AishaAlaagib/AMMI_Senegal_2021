{
  "nbformat": 4,
  "nbformat_minor": 0,
  "metadata": {
    "kernelspec": {
      "display_name": "Python 3",
      "language": "python",
      "name": "python3"
    },
    "language_info": {
      "codemirror_mode": {
        "name": "ipython",
        "version": 3
      },
      "file_extension": ".py",
      "mimetype": "text/x-python",
      "name": "python",
      "nbconvert_exporter": "python",
      "pygments_lexer": "ipython3",
      "version": "3.6.9"
    },
    "colab": {
      "name": "Bootcamp1_day2_tutorial.ipynb",
      "provenance": [],
      "collapsed_sections": []
    }
  },
  "cells": [
    {
      "cell_type": "markdown",
      "metadata": {
        "id": "FQkmRyWpgRBW"
      },
      "source": [
        "# BootCamp1 -- Day 2 : Loops in Python"
      ]
    },
    {
      "cell_type": "code",
      "metadata": {
        "id": "v80L4mErBHeJ"
      },
      "source": [
        "from google.colab import drive\n",
        "drive.mount('/content/drive')"
      ],
      "execution_count": null,
      "outputs": []
    },
    {
      "cell_type": "markdown",
      "metadata": {
        "id": "1Yn5Rg9XgRBi"
      },
      "source": [
        "In this section we will go through general loops but in a Python way. It will be a reminder on situations where each of this loop should be used and according to a specific problem, which one is more suitable. \n",
        "This tutorial is mostly illustrative, we will explore some examples and another notebook with exercises (to submit) will be provided."
      ]
    },
    {
      "cell_type": "code",
      "metadata": {
        "colab": {
          "base_uri": "https://localhost:8080/"
        },
        "id": "Vw0FRF7HQLpT",
        "outputId": "741ea4c7-9a36-42ee-9d10-eb49e14bcc26"
      },
      "source": [
        "a = 4\n",
        "## print a\n",
        "print(a)"
      ],
      "execution_count": null,
      "outputs": [
        {
          "output_type": "stream",
          "text": [
            "4\n"
          ],
          "name": "stdout"
        }
      ]
    },
    {
      "cell_type": "code",
      "metadata": {
        "colab": {
          "base_uri": "https://localhost:8080/"
        },
        "id": "jtM78y06QW-p",
        "outputId": "9a0a4476-bc1f-49c7-ab38-7c93f91503b4"
      },
      "source": [
        "a = [2, 4]\n",
        "## print each element in a\n",
        "print(a[0])\n",
        "print(a[1])"
      ],
      "execution_count": null,
      "outputs": [
        {
          "output_type": "stream",
          "text": [
            "2\n",
            "4\n"
          ],
          "name": "stdout"
        }
      ]
    },
    {
      "cell_type": "code",
      "metadata": {
        "id": "oXLUzsikQWoN",
        "colab": {
          "base_uri": "https://localhost:8080/"
        },
        "outputId": "fb6a2063-ca3b-402a-ff20-0c07f82a148f"
      },
      "source": [
        "## what if the length of the list is very large ???\n",
        "a = list(range(1,100))\n",
        "for el in a:\n",
        "  print(el)"
      ],
      "execution_count": null,
      "outputs": [
        {
          "output_type": "stream",
          "text": [
            "1\n",
            "2\n",
            "3\n",
            "4\n",
            "5\n",
            "6\n",
            "7\n",
            "8\n",
            "9\n",
            "10\n",
            "11\n",
            "12\n",
            "13\n",
            "14\n",
            "15\n",
            "16\n",
            "17\n",
            "18\n",
            "19\n",
            "20\n",
            "21\n",
            "22\n",
            "23\n",
            "24\n",
            "25\n",
            "26\n",
            "27\n",
            "28\n",
            "29\n",
            "30\n",
            "31\n",
            "32\n",
            "33\n",
            "34\n",
            "35\n",
            "36\n",
            "37\n",
            "38\n",
            "39\n",
            "40\n",
            "41\n",
            "42\n",
            "43\n",
            "44\n",
            "45\n",
            "46\n",
            "47\n",
            "48\n",
            "49\n",
            "50\n",
            "51\n",
            "52\n",
            "53\n",
            "54\n",
            "55\n",
            "56\n",
            "57\n",
            "58\n",
            "59\n",
            "60\n",
            "61\n",
            "62\n",
            "63\n",
            "64\n",
            "65\n",
            "66\n",
            "67\n",
            "68\n",
            "69\n",
            "70\n",
            "71\n",
            "72\n",
            "73\n",
            "74\n",
            "75\n",
            "76\n",
            "77\n",
            "78\n",
            "79\n",
            "80\n",
            "81\n",
            "82\n",
            "83\n",
            "84\n",
            "85\n",
            "86\n",
            "87\n",
            "88\n",
            "89\n",
            "90\n",
            "91\n",
            "92\n",
            "93\n",
            "94\n",
            "95\n",
            "96\n",
            "97\n",
            "98\n",
            "99\n"
          ],
          "name": "stdout"
        }
      ]
    },
    {
      "cell_type": "code",
      "metadata": {
        "colab": {
          "base_uri": "https://localhost:8080/"
        },
        "id": "urJuRgoYQWcM",
        "outputId": "e735b237-f1de-411d-ba91-0f2549a5bc3a"
      },
      "source": [
        ""
      ],
      "execution_count": null,
      "outputs": [
        {
          "output_type": "stream",
          "text": [
            "[1, 4, 9, 16, 25, 36, 49, 64, 81, 100, 121, 144, 169, 196, 225, 256, 289, 324, 361, 400, 441, 484, 529, 576, 625, 676, 729, 784, 841, 900, 961, 1024, 1089, 1156, 1225, 1296, 1369, 1444, 1521, 1600, 1681, 1764, 1849, 1936, 2025, 2116, 2209, 2304, 2401, 2500, 2601, 2704, 2809, 2916, 3025, 3136, 3249, 3364, 3481, 3600, 3721, 3844, 3969, 4096, 4225, 4356, 4489, 4624, 4761, 4900, 5041, 5184, 5329, 5476, 5625, 5776, 5929, 6084, 6241, 6400, 6561, 6724, 6889, 7056, 7225, 7396, 7569, 7744, 7921, 8100, 8281, 8464, 8649, 8836, 9025, 9216, 9409, 9604, 9801]\n"
          ],
          "name": "stdout"
        }
      ]
    },
    {
      "cell_type": "markdown",
      "metadata": {
        "id": "eicnsHqLgRBj"
      },
      "source": [
        "## 1- Definition\n",
        "`Loops` in programming are used to execute a block of code that needs to be executed many times during the program."
      ]
    },
    {
      "cell_type": "markdown",
      "metadata": {
        "id": "ZNLakCvngRBj"
      },
      "source": [
        "## 2- Loops"
      ]
    },
    {
      "cell_type": "markdown",
      "metadata": {
        "id": "b4bLGKzzgRBk"
      },
      "source": [
        "### 2-1. \"For-Loops\""
      ]
    },
    {
      "cell_type": "markdown",
      "metadata": {
        "id": "6AKhS_xEgRBk"
      },
      "source": [
        "\n",
        "\n",
        "```\n",
        "# This is formatted as code\n",
        "```\n",
        "\n",
        "A `for-loop` allows you to iterate over a collection of items, and execute a block of code once for each iteration. Its general syntax is: <br><br>\n",
        "\n",
        "    for <var> in <iterable>:  \n",
        "        block of code"
      ]
    },
    {
      "cell_type": "markdown",
      "metadata": {
        "id": "YJePoWMygRBl"
      },
      "source": [
        "Example 1: we would like to compute the summation of values between a given interval. This is equivalent to the built-in function `sum()`. Before that, lets see what `range()` does in the next cell."
      ]
    },
    {
      "cell_type": "code",
      "metadata": {
        "colab": {
          "base_uri": "https://localhost:8080/"
        },
        "id": "-ouap0EW-TYI",
        "outputId": "084aff6e-6b6f-4e8d-8156-0f6b98338b29"
      },
      "source": [
        "print(list(range(10))) # print values from 0 to 10 (start values are inclusive)\n",
        "print(list(range(4,10))) # print values from 4 to 10 \n",
        "print(list(range(4,20, 2))) # print values from 4 to 20 in steps of 2\n",
        "print(list(range(10,0,-1))) # print values from 10 to 0 (reversed)"
      ],
      "execution_count": null,
      "outputs": [
        {
          "output_type": "stream",
          "text": [
            "[0, 1, 2, 3, 4, 5, 6, 7, 8, 9]\n",
            "[4, 5, 6, 7, 8, 9]\n",
            "[4, 6, 8, 10, 12, 14, 16, 18]\n",
            "[10, 9, 8, 7, 6, 5, 4, 3, 2, 1]\n"
          ],
          "name": "stdout"
        }
      ]
    },
    {
      "cell_type": "code",
      "metadata": {
        "id": "n4g-HqS2gRBl",
        "colab": {
          "base_uri": "https://localhost:8080/"
        },
        "outputId": "ffa017da-f925-4903-b146-dd7186ab3ff7"
      },
      "source": [
        "n = 10\n",
        "total = 0\n",
        "for i in range(n+1):\n",
        "    total = total + i # equivalent to:  total += i\n",
        "print('The sum is: ',total)\n",
        "print(total == sum(range(n+1)))"
      ],
      "execution_count": null,
      "outputs": [
        {
          "output_type": "stream",
          "text": [
            "The sum is:  55\n",
            "True\n"
          ],
          "name": "stdout"
        }
      ]
    },
    {
      "cell_type": "markdown",
      "metadata": {
        "id": "f2eugBZ2gRBn"
      },
      "source": [
        "Example 2: we would like to print all the even numbers in a list"
      ]
    },
    {
      "cell_type": "code",
      "metadata": {
        "id": "LBfPK_aIgRBn",
        "colab": {
          "base_uri": "https://localhost:8080/"
        },
        "outputId": "1aedde9d-5a16-485b-a454-b85974617026"
      },
      "source": [
        "l = [1, 2, 4, 3, 6, 9, 25, 32]\n",
        "for el in l:\n",
        "    if el % 2 == 0:\n",
        "        print(el, ' is an even number.')\n",
        "    else:\n",
        "        print(el, ' is an odd number.')"
      ],
      "execution_count": null,
      "outputs": [
        {
          "output_type": "stream",
          "text": [
            "1  is an odd number.\n",
            "2  is an even number.\n",
            "4  is an even number.\n",
            "3  is an odd number.\n",
            "6  is an even number.\n",
            "9  is an odd number.\n",
            "25  is an odd number.\n",
            "32  is an even number.\n"
          ],
          "name": "stdout"
        }
      ]
    },
    {
      "cell_type": "code",
      "metadata": {
        "id": "5zGcIJ6zl2Jr",
        "colab": {
          "base_uri": "https://localhost:8080/"
        },
        "outputId": "e42bc7c1-ae58-4ad3-ba3d-f9a7ee67c6f7"
      },
      "source": [
        "## please write a code that counts the number of odd numbers\n",
        "l = [1, 2, 4, 3, 6, 9, 25, 32]\n",
        "##### YOUR CODE HERE #####\n",
        "count = 0 \n",
        "for i in l:\n",
        "  if i % 2 != 0:\n",
        "    count +=1\n",
        "print(count)\n",
        "\n",
        "##### END CODE ########"
      ],
      "execution_count": null,
      "outputs": [
        {
          "output_type": "stream",
          "text": [
            "4\n"
          ],
          "name": "stdout"
        }
      ]
    },
    {
      "cell_type": "markdown",
      "metadata": {
        "id": "Gmt9bM_m5DIv"
      },
      "source": [
        "Example 3: We can use `enumerate` to count the number of runs in a loop. This is equivalent to setting an index eg. `i = 0` and incrementing at each step, `i += 1`. In this example, we use `zip` to match items in iterables as well as index them with `enumerate`"
      ]
    },
    {
      "cell_type": "code",
      "metadata": {
        "id": "elexdWbZlxk5",
        "colab": {
          "base_uri": "https://localhost:8080/"
        },
        "outputId": "b088f4be-7396-4304-a254-b7b4f5fab3a0"
      },
      "source": [
        "ls = [1, 2, 3, 4, 5, 6]\n",
        "for i in range(len(ls)):\n",
        "    print(i, ls[i])"
      ],
      "execution_count": null,
      "outputs": [
        {
          "output_type": "stream",
          "text": [
            "0 1\n",
            "1 2\n",
            "2 3\n",
            "3 4\n",
            "4 5\n",
            "5 6\n"
          ],
          "name": "stdout"
        }
      ]
    },
    {
      "cell_type": "code",
      "metadata": {
        "id": "lfcWT_I74wes",
        "colab": {
          "base_uri": "https://localhost:8080/"
        },
        "outputId": "6efb56bb-204d-473f-94ad-e90dc0729c51"
      },
      "source": [
        "first_names= ['Kobe', 'Michael', 'Lionel', 'Sadio', 'Lebron']\n",
        "last_names = ['Bryant', 'Jordan', 'Messi', 'Mane', 'James' ]\n",
        "for j,k in (zip(first_names, last_names)):\n",
        "    print(\"{} {}\".format(j, k))"
      ],
      "execution_count": null,
      "outputs": [
        {
          "output_type": "stream",
          "text": [
            "Kobe Bryant\n",
            "Michael Jordan\n",
            "Lionel Messi\n",
            "Sadio Mane\n",
            "Lebron James\n"
          ],
          "name": "stdout"
        }
      ]
    },
    {
      "cell_type": "code",
      "metadata": {
        "colab": {
          "base_uri": "https://localhost:8080/"
        },
        "id": "ngzTvtmznoLI",
        "outputId": "dc2a8640-95d2-469c-8adc-8b0430b10038"
      },
      "source": [
        "first_names= ['Kobe', 'Michael', 'Lionel', 'Sadio', 'Lebron']\n",
        "last_names = ['Bryant', 'Jordan', 'Messi', 'Mane', 'James' ]\n",
        "for i,(j,k) in enumerate(zip(first_names, last_names)):\n",
        "    print(\"{} - {} {}\".format(i, j, k))"
      ],
      "execution_count": null,
      "outputs": [
        {
          "output_type": "stream",
          "text": [
            "0 - Kobe Bryant\n",
            "1 - Michael Jordan\n",
            "2 - Lionel Messi\n",
            "3 - Sadio Mane\n",
            "4 - Lebron James\n"
          ],
          "name": "stdout"
        }
      ]
    },
    {
      "cell_type": "markdown",
      "metadata": {
        "id": "dIRObw7QEwPK"
      },
      "source": [
        "Example 4: Loops may also be **nested** in which case we have a one or more loops inside another loop."
      ]
    },
    {
      "cell_type": "code",
      "metadata": {
        "colab": {
          "base_uri": "https://localhost:8080/"
        },
        "id": "jBBvw7i1EucM",
        "outputId": "a9f93f88-c8d7-4206-c9e9-011e6a910ef4"
      },
      "source": [
        "for x in range(3):\n",
        "  for y in range(2):\n",
        "    print(x, y)"
      ],
      "execution_count": null,
      "outputs": [
        {
          "output_type": "stream",
          "text": [
            "0 0\n",
            "0 1\n",
            "1 0\n",
            "1 1\n",
            "2 0\n",
            "2 1\n"
          ],
          "name": "stdout"
        }
      ]
    },
    {
      "cell_type": "markdown",
      "metadata": {
        "id": "QsZQ3EfmgRBo"
      },
      "source": [
        "### 2-2. \"While-Loop\""
      ]
    },
    {
      "cell_type": "markdown",
      "metadata": {
        "id": "wwE3Icz4gRBo"
      },
      "source": [
        "A `while-loop` allows you to repeat a block of code under certain condition. We generally use this loop if we don't know the number of times to iterate beforehand. Its general syntax is:<br><br>\n",
        "`while <condition>:\n",
        "    block of code`"
      ]
    },
    {
      "cell_type": "markdown",
      "metadata": {
        "id": "8OnYRy1ygRBo"
      },
      "source": [
        "Example 5: we redo example 1 using a while loop this time."
      ]
    },
    {
      "cell_type": "code",
      "metadata": {
        "id": "NGV9N0BUgRBo",
        "colab": {
          "base_uri": "https://localhost:8080/"
        },
        "outputId": "2699eac5-7021-4066-f074-5cb80291ac9e"
      },
      "source": [
        "n = 10\n",
        "total = 0\n",
        "i = 1\n",
        "while i <= n:\n",
        "    total += i\n",
        "    i += 1\n",
        "print('The sum is: ', total)\n",
        "print(total == sum(range(n+1)))"
      ],
      "execution_count": null,
      "outputs": [
        {
          "output_type": "stream",
          "text": [
            "The sum is:  55\n",
            "True\n"
          ],
          "name": "stdout"
        }
      ]
    },
    {
      "cell_type": "markdown",
      "metadata": {
        "id": "CyPTT1prgRBp"
      },
      "source": [
        "Example 6: we look for the first number > n given a list and n"
      ]
    },
    {
      "cell_type": "code",
      "metadata": {
        "id": "DV-VB-lFgRBp",
        "colab": {
          "base_uri": "https://localhost:8080/"
        },
        "outputId": "6dc2bcf4-01f7-4baf-ea3c-a267138cf7ab"
      },
      "source": [
        "l = [10, 4, 45, 10, 34, 56]\n",
        "i = 0\n",
        "n = 10\n",
        "while i < len(l) and l[i]<=n:\n",
        "    i += 1\n",
        "print('The first number in the list greater than 10 is: ', l[i], ' after ', i+1,'/',len(l),'iterations.')"
      ],
      "execution_count": null,
      "outputs": [
        {
          "output_type": "stream",
          "text": [
            "The first number in the list greater than 10 is:  45  after  3 / 6 iterations.\n"
          ],
          "name": "stdout"
        }
      ]
    },
    {
      "cell_type": "code",
      "metadata": {
        "id": "7NTqkMO2qQFn"
      },
      "source": [
        "### Modify the code so that it displays a message if there is no such an element\n",
        "l = [1, 4, 45, 10, 34, 56]\n",
        "i = 0\n",
        "n = 100\n",
        "##### YOUR CODE HERE #####\n",
        "while i < len(l) and l[i]<=n:\n",
        "    i += 1\n",
        "\n",
        "if i< len(l):\n",
        "  print('The number is: ', l[i])\n",
        "else:\n",
        "  print('Not existing !')\n",
        "\n",
        "##### END CODE ########"
      ],
      "execution_count": null,
      "outputs": []
    },
    {
      "cell_type": "markdown",
      "metadata": {
        "id": "dDa8gKReFd4p"
      },
      "source": [
        "Example 5: We can set a stopping condition for the while loop and until the condition is satisfied, the loop does not end. Care must be taken to avoid *infinite loop* where the  block of code runs forever because the condition is never satisfied."
      ]
    },
    {
      "cell_type": "code",
      "metadata": {
        "id": "zUzsl7lQGQuZ"
      },
      "source": [
        "satisfied = False\n",
        "n = 5\n",
        "i = 0\n",
        "while not satisfied:\n",
        "  print(i)\n",
        "  if i >= n:\n",
        "    satisfied = True\n",
        "  i +=1\n"
      ],
      "execution_count": null,
      "outputs": []
    },
    {
      "cell_type": "markdown",
      "metadata": {
        "id": "2tfR8qvlgRBp"
      },
      "source": [
        "### 2.3. \"break, continue, & else\" clauses on loops"
      ]
    },
    {
      "cell_type": "markdown",
      "metadata": {
        "id": "fWl0RR9VgRBq"
      },
      "source": [
        "`break` clause can be used to stop iteration or exiting in a given loop.\n",
        "\n",
        "Example 6: looking for a number in a list"
      ]
    },
    {
      "cell_type": "code",
      "metadata": {
        "id": "CgNvTTzdgRBq",
        "colab": {
          "base_uri": "https://localhost:8080/"
        },
        "outputId": "40b89a3e-1a1c-40f6-dcdb-910d27e62edb"
      },
      "source": [
        "# breaking out of a loop early\n",
        "num = 3\n",
        "l = [1, 2, 3, 4, 5]\n",
        "for item in l:\n",
        "    if item == num:\n",
        "        print(item, \"found. break!\")\n",
        "        break\n",
        "    print(item, \"next iteration\")"
      ],
      "execution_count": null,
      "outputs": [
        {
          "output_type": "stream",
          "text": [
            "1 next iteration\n",
            "2 next iteration\n",
            "3 found. break!\n"
          ],
          "name": "stdout"
        }
      ]
    },
    {
      "cell_type": "markdown",
      "metadata": {
        "id": "YiZiu2QugRBq"
      },
      "source": [
        "`else` clause can be used at the end of any loop. It will be executed if the loop was not executed with a `break` clause."
      ]
    },
    {
      "cell_type": "code",
      "metadata": {
        "id": "cXr4ii69gRBr",
        "colab": {
          "base_uri": "https://localhost:8080/"
        },
        "outputId": "82efb6c6-788e-4a00-e614-d1daf7aa8a94"
      },
      "source": [
        "num = 10\n",
        "for item in [1, 2, 3, 4, 5]:\n",
        "    if item == num:\n",
        "        print(item, \"found. break!\")\n",
        "        break\n",
        "    print(item, \"next iteration\")\n",
        "else:\n",
        "    print('There is no ',num, ' in the list.' )"
      ],
      "execution_count": null,
      "outputs": [
        {
          "output_type": "stream",
          "text": [
            "1 next iteration\n",
            "2 next iteration\n",
            "3 next iteration\n",
            "4 next iteration\n",
            "5 next iteration\n",
            "There is no  10  in the list.\n"
          ],
          "name": "stdout"
        }
      ]
    },
    {
      "cell_type": "markdown",
      "metadata": {
        "id": "hjLSqCfRgRBs"
      },
      "source": [
        "`continue` clause can be used if we want to revisit the loop-statement.\n"
      ]
    },
    {
      "cell_type": "code",
      "metadata": {
        "id": "plvZkeN8gRBt",
        "colab": {
          "base_uri": "https://localhost:8080/"
        },
        "outputId": "e1975d89-ef8b-4797-c714-25d0caa06999"
      },
      "source": [
        "x = 1\n",
        "num = 2\n",
        "while x < 4:\n",
        "    print(\"x = \", x, \">> enter loop-body <<\")\n",
        "    if x == num:\n",
        "        print(\"x = \", x, \" found !!! continue...back to the top of the loop!\")\n",
        "        x += 1\n",
        "        continue\n",
        "    x += 1\n",
        "    print(\"reached end of loop-body--\")"
      ],
      "execution_count": null,
      "outputs": [
        {
          "output_type": "stream",
          "text": [
            "x =  1 >> enter loop-body <<\n",
            "reached end of loop-body--\n",
            "x =  2 >> enter loop-body <<\n",
            "x =  2  found !!! continue...back to the top of the loop!\n",
            "x =  3 >> enter loop-body <<\n",
            "reached end of loop-body--\n"
          ],
          "name": "stdout"
        }
      ]
    },
    {
      "cell_type": "markdown",
      "metadata": {
        "id": "5O2GrB8RgRBu"
      },
      "source": [
        "### Application 1: Reverse string\n",
        "\n",
        "<b>Given a string s, print the reverse of s using a for loop. <br>\n",
        "    <i>Ex: s='ammi' ==> 'imma' </i></b>"
      ]
    },
    {
      "cell_type": "code",
      "metadata": {
        "id": "0xSTvJ7fgRBu"
      },
      "source": [
        "s = \"this is the string I have to reverse\"\n",
        "##### WRITE YOUR CODE HERE #####\n",
        "\n",
        "\n",
        "\n",
        "#### END CODE ####"
      ],
      "execution_count": null,
      "outputs": []
    },
    {
      "cell_type": "markdown",
      "metadata": {
        "id": "GpGQOy-ugRBv"
      },
      "source": [
        "### Application 2: List Square\n",
        "<b>Given a list l, take each element to the power of two it. In this case the operation has to be done in-place. Do not allow new memory space.</b>"
      ]
    },
    {
      "cell_type": "code",
      "metadata": {
        "id": "YQS4_rqdgRBw",
        "colab": {
          "base_uri": "https://localhost:8080/"
        },
        "outputId": "e5128a7e-b516-4de7-8639-32ee58c11b9f"
      },
      "source": [
        "l = [1, 2, 3, 4 , 5, 6]\n",
        "##### WRITE YOUR CODE HERE #####\n",
        " \n",
        "\n",
        " \n",
        "#### END CODE ####"
      ],
      "execution_count": null,
      "outputs": [
        {
          "output_type": "stream",
          "text": [
            "[6, 5, 4, 3, 2, 1]\n"
          ],
          "name": "stdout"
        }
      ]
    },
    {
      "cell_type": "code",
      "metadata": {
        "id": "yOOT-rGruMLm"
      },
      "source": [
        ""
      ],
      "execution_count": null,
      "outputs": []
    }
  ]
}