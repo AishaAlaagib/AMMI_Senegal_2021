{
  "nbformat": 4,
  "nbformat_minor": 0,
  "metadata": {
    "colab": {
      "name": "Bootcamp1_day5_tutorials_complete.ipynb",
      "provenance": [],
      "collapsed_sections": []
    },
    "kernelspec": {
      "display_name": "Python 3",
      "name": "python3"
    }
  },
  "cells": [
    {
      "cell_type": "markdown",
      "metadata": {
        "id": "ov70EqtEJ0db"
      },
      "source": [
        "# Object-Oriented Programming with Python #"
      ]
    },
    {
      "cell_type": "markdown",
      "metadata": {
        "id": "7HIqoXzOJ-O5"
      },
      "source": [
        "Ex. A Lookahead! "
      ]
    },
    {
      "cell_type": "code",
      "metadata": {
        "colab": {
          "base_uri": "https://localhost:8080/"
        },
        "id": "YEb2lUWlsGYl",
        "outputId": "bab76f7a-1116-4267-dc06-4b73feb4f183"
      },
      "source": [
        "x = int() # A simple class\n",
        "print('type of x: ', type(x))\n",
        "print('value of x: ', x)"
      ],
      "execution_count": null,
      "outputs": [
        {
          "output_type": "stream",
          "text": [
            "type of x:  <class 'int'>\n",
            "value of x:  0\n"
          ],
          "name": "stdout"
        }
      ]
    },
    {
      "cell_type": "code",
      "metadata": {
        "id": "WVhxHphJf60T"
      },
      "source": [
        "x = 10"
      ],
      "execution_count": null,
      "outputs": []
    },
    {
      "cell_type": "code",
      "metadata": {
        "colab": {
          "base_uri": "https://localhost:8080/"
        },
        "id": "kk_guljwKYiQ",
        "outputId": "5a07c0b5-0047-49ee-c32b-03c915b35978"
      },
      "source": [
        "help(int)"
      ],
      "execution_count": null,
      "outputs": [
        {
          "output_type": "stream",
          "text": [
            "Help on class int in module builtins:\n",
            "\n",
            "class int(object)\n",
            " |  int(x=0) -> integer\n",
            " |  int(x, base=10) -> integer\n",
            " |  \n",
            " |  Convert a number or string to an integer, or return 0 if no arguments\n",
            " |  are given.  If x is a number, return x.__int__().  For floating point\n",
            " |  numbers, this truncates towards zero.\n",
            " |  \n",
            " |  If x is not a number or if base is given, then x must be a string,\n",
            " |  bytes, or bytearray instance representing an integer literal in the\n",
            " |  given base.  The literal can be preceded by '+' or '-' and be surrounded\n",
            " |  by whitespace.  The base defaults to 10.  Valid bases are 0 and 2-36.\n",
            " |  Base 0 means to interpret the base from the string as an integer literal.\n",
            " |  >>> int('0b100', base=0)\n",
            " |  4\n",
            " |  \n",
            " |  Methods defined here:\n",
            " |  \n",
            " |  __abs__(self, /)\n",
            " |      abs(self)\n",
            " |  \n",
            " |  __add__(self, value, /)\n",
            " |      Return self+value.\n",
            " |  \n",
            " |  __and__(self, value, /)\n",
            " |      Return self&value.\n",
            " |  \n",
            " |  __bool__(self, /)\n",
            " |      self != 0\n",
            " |  \n",
            " |  __ceil__(...)\n",
            " |      Ceiling of an Integral returns itself.\n",
            " |  \n",
            " |  __divmod__(self, value, /)\n",
            " |      Return divmod(self, value).\n",
            " |  \n",
            " |  __eq__(self, value, /)\n",
            " |      Return self==value.\n",
            " |  \n",
            " |  __float__(self, /)\n",
            " |      float(self)\n",
            " |  \n",
            " |  __floor__(...)\n",
            " |      Flooring an Integral returns itself.\n",
            " |  \n",
            " |  __floordiv__(self, value, /)\n",
            " |      Return self//value.\n",
            " |  \n",
            " |  __format__(...)\n",
            " |      default object formatter\n",
            " |  \n",
            " |  __ge__(self, value, /)\n",
            " |      Return self>=value.\n",
            " |  \n",
            " |  __getattribute__(self, name, /)\n",
            " |      Return getattr(self, name).\n",
            " |  \n",
            " |  __getnewargs__(...)\n",
            " |  \n",
            " |  __gt__(self, value, /)\n",
            " |      Return self>value.\n",
            " |  \n",
            " |  __hash__(self, /)\n",
            " |      Return hash(self).\n",
            " |  \n",
            " |  __index__(self, /)\n",
            " |      Return self converted to an integer, if self is suitable for use as an index into a list.\n",
            " |  \n",
            " |  __int__(self, /)\n",
            " |      int(self)\n",
            " |  \n",
            " |  __invert__(self, /)\n",
            " |      ~self\n",
            " |  \n",
            " |  __le__(self, value, /)\n",
            " |      Return self<=value.\n",
            " |  \n",
            " |  __lshift__(self, value, /)\n",
            " |      Return self<<value.\n",
            " |  \n",
            " |  __lt__(self, value, /)\n",
            " |      Return self<value.\n",
            " |  \n",
            " |  __mod__(self, value, /)\n",
            " |      Return self%value.\n",
            " |  \n",
            " |  __mul__(self, value, /)\n",
            " |      Return self*value.\n",
            " |  \n",
            " |  __ne__(self, value, /)\n",
            " |      Return self!=value.\n",
            " |  \n",
            " |  __neg__(self, /)\n",
            " |      -self\n",
            " |  \n",
            " |  __new__(*args, **kwargs) from builtins.type\n",
            " |      Create and return a new object.  See help(type) for accurate signature.\n",
            " |  \n",
            " |  __or__(self, value, /)\n",
            " |      Return self|value.\n",
            " |  \n",
            " |  __pos__(self, /)\n",
            " |      +self\n",
            " |  \n",
            " |  __pow__(self, value, mod=None, /)\n",
            " |      Return pow(self, value, mod).\n",
            " |  \n",
            " |  __radd__(self, value, /)\n",
            " |      Return value+self.\n",
            " |  \n",
            " |  __rand__(self, value, /)\n",
            " |      Return value&self.\n",
            " |  \n",
            " |  __rdivmod__(self, value, /)\n",
            " |      Return divmod(value, self).\n",
            " |  \n",
            " |  __repr__(self, /)\n",
            " |      Return repr(self).\n",
            " |  \n",
            " |  __rfloordiv__(self, value, /)\n",
            " |      Return value//self.\n",
            " |  \n",
            " |  __rlshift__(self, value, /)\n",
            " |      Return value<<self.\n",
            " |  \n",
            " |  __rmod__(self, value, /)\n",
            " |      Return value%self.\n",
            " |  \n",
            " |  __rmul__(self, value, /)\n",
            " |      Return value*self.\n",
            " |  \n",
            " |  __ror__(self, value, /)\n",
            " |      Return value|self.\n",
            " |  \n",
            " |  __round__(...)\n",
            " |      Rounding an Integral returns itself.\n",
            " |      Rounding with an ndigits argument also returns an integer.\n",
            " |  \n",
            " |  __rpow__(self, value, mod=None, /)\n",
            " |      Return pow(value, self, mod).\n",
            " |  \n",
            " |  __rrshift__(self, value, /)\n",
            " |      Return value>>self.\n",
            " |  \n",
            " |  __rshift__(self, value, /)\n",
            " |      Return self>>value.\n",
            " |  \n",
            " |  __rsub__(self, value, /)\n",
            " |      Return value-self.\n",
            " |  \n",
            " |  __rtruediv__(self, value, /)\n",
            " |      Return value/self.\n",
            " |  \n",
            " |  __rxor__(self, value, /)\n",
            " |      Return value^self.\n",
            " |  \n",
            " |  __sizeof__(...)\n",
            " |      Returns size in memory, in bytes\n",
            " |  \n",
            " |  __str__(self, /)\n",
            " |      Return str(self).\n",
            " |  \n",
            " |  __sub__(self, value, /)\n",
            " |      Return self-value.\n",
            " |  \n",
            " |  __truediv__(self, value, /)\n",
            " |      Return self/value.\n",
            " |  \n",
            " |  __trunc__(...)\n",
            " |      Truncating an Integral returns itself.\n",
            " |  \n",
            " |  __xor__(self, value, /)\n",
            " |      Return self^value.\n",
            " |  \n",
            " |  bit_length(...)\n",
            " |      int.bit_length() -> int\n",
            " |      \n",
            " |      Number of bits necessary to represent self in binary.\n",
            " |      >>> bin(37)\n",
            " |      '0b100101'\n",
            " |      >>> (37).bit_length()\n",
            " |      6\n",
            " |  \n",
            " |  conjugate(...)\n",
            " |      Returns self, the complex conjugate of any int.\n",
            " |  \n",
            " |  from_bytes(...) from builtins.type\n",
            " |      int.from_bytes(bytes, byteorder, *, signed=False) -> int\n",
            " |      \n",
            " |      Return the integer represented by the given array of bytes.\n",
            " |      \n",
            " |      The bytes argument must be a bytes-like object (e.g. bytes or bytearray).\n",
            " |      \n",
            " |      The byteorder argument determines the byte order used to represent the\n",
            " |      integer.  If byteorder is 'big', the most significant byte is at the\n",
            " |      beginning of the byte array.  If byteorder is 'little', the most\n",
            " |      significant byte is at the end of the byte array.  To request the native\n",
            " |      byte order of the host system, use `sys.byteorder' as the byte order value.\n",
            " |      \n",
            " |      The signed keyword-only argument indicates whether two's complement is\n",
            " |      used to represent the integer.\n",
            " |  \n",
            " |  to_bytes(...)\n",
            " |      int.to_bytes(length, byteorder, *, signed=False) -> bytes\n",
            " |      \n",
            " |      Return an array of bytes representing an integer.\n",
            " |      \n",
            " |      The integer is represented using length bytes.  An OverflowError is\n",
            " |      raised if the integer is not representable with the given number of\n",
            " |      bytes.\n",
            " |      \n",
            " |      The byteorder argument determines the byte order used to represent the\n",
            " |      integer.  If byteorder is 'big', the most significant byte is at the\n",
            " |      beginning of the byte array.  If byteorder is 'little', the most\n",
            " |      significant byte is at the end of the byte array.  To request the native\n",
            " |      byte order of the host system, use `sys.byteorder' as the byte order value.\n",
            " |      \n",
            " |      The signed keyword-only argument determines whether two's complement is\n",
            " |      used to represent the integer.  If signed is False and a negative integer\n",
            " |      is given, an OverflowError is raised.\n",
            " |  \n",
            " |  ----------------------------------------------------------------------\n",
            " |  Data descriptors defined here:\n",
            " |  \n",
            " |  denominator\n",
            " |      the denominator of a rational number in lowest terms\n",
            " |  \n",
            " |  imag\n",
            " |      the imaginary part of a complex number\n",
            " |  \n",
            " |  numerator\n",
            " |      the numerator of a rational number in lowest terms\n",
            " |  \n",
            " |  real\n",
            " |      the real part of a complex number\n",
            "\n"
          ],
          "name": "stdout"
        }
      ]
    },
    {
      "cell_type": "markdown",
      "metadata": {
        "id": "gf2H8hWZ_WjI"
      },
      "source": [
        "\n",
        "##Other Python Built-In Classes ##\n",
        "* bool - holds boolean values\n",
        "* int - integers\n",
        "* float - floating-point numbers\n",
        "* list - sequence of objects\n",
        "* tuple - immutable sequence of objects\n",
        "* str - character strings\n",
        "* set - unordered set of distinct objects\n",
        "* frozenset - unordered set of distinct objects (immutable)\n",
        "* dict - mapping of objects (keys) and values.\n"
      ]
    },
    {
      "cell_type": "markdown",
      "metadata": {
        "id": "z2GS75tM_X_v"
      },
      "source": [
        "## Principles of OOP ##\n",
        "\n",
        "Lets begin with the main principles of OOP applied to classes;\n",
        "* Abstraction: separating class implementation from use\n",
        "* Encapsulation: Combining data and methods into a single object and hiding from user\n",
        "* Polymorphism: methods with different behaviours depending on input argument \n",
        "* Inheritance: defining new classes from existing ones\n",
        "\n",
        "The basic syntax of a class is\n",
        "\n",
        "```\n",
        "class ClassName:  \n",
        "    <block of code>\n",
        "```\n",
        "\n"
      ]
    },
    {
      "cell_type": "markdown",
      "metadata": {
        "id": "f4Eg9PYWjduH"
      },
      "source": [
        "### Classes ###\n",
        "- Classes are basically custom data types and may comprise of multiple variables and/or methods. \n",
        "- Objects are created from classes to support the idea of objects in real-world. \n",
        "- More formally, they may be described as custom data-structures that encapsulates variables and methods into a single data-type."
      ]
    },
    {
      "cell_type": "markdown",
      "metadata": {
        "id": "gqpzTgUuRw6s"
      },
      "source": [
        "### Defining Python Classes ###"
      ]
    },
    {
      "cell_type": "markdown",
      "metadata": {
        "id": "qnzDD-WNR5Vh"
      },
      "source": [
        "A typical python class has the following;\n",
        "- **Methods** - The set of behaviours of a class or the actions that can be undertaken. \n",
        "- **Attributes** - Every instance of the class has some internal state defined by variables of the class and their corresponding values. These variable are also referred to as attributes, fields or instance variables.\n",
        "\n",
        "\n",
        "\n"
      ]
    },
    {
      "cell_type": "markdown",
      "metadata": {
        "id": "Urz7b7qts4yl"
      },
      "source": [
        "\n",
        "\n",
        "\n",
        "---\n",
        "Example 1:\n",
        "\n",
        "Lets use the following example to understand the basic components of a class. Assuming we want to create a student database, we can define a class called student. Each student is supposed to have a name, student ID, country etc.\n",
        "\n",
        "\n",
        "---\n",
        "\n",
        "\n",
        "\n",
        "\n"
      ]
    },
    {
      "cell_type": "code",
      "metadata": {
        "id": "gzVBxiCBzQQv"
      },
      "source": [
        "class AMMIStudent:\n",
        "  continent = 'Africa' # Class Variables, All AMMI students are from Africa\n",
        "  def __init__(self, firstname, lastname, country, stdID):\n",
        "    self.firstname = firstname\n",
        "    self.lastname = lastname\n",
        "    self.country = country\n",
        "    self.num_class_attendance = 0\n",
        "    eps = 0\n",
        "    \n",
        "  def get_continent(cls):\n",
        "    return cls.continent\n",
        " \n",
        "  def get_full_name(self):\n",
        "    return self.firstname + ' ' + self.lastname\n",
        "\n",
        "  def get_class_attendance(self):\n",
        "    return self.num_class_attendance\n"
      ],
      "execution_count": null,
      "outputs": []
    },
    {
      "cell_type": "code",
      "metadata": {
        "colab": {
          "base_uri": "https://localhost:8080/"
        },
        "id": "W2RYKCmSfd1B",
        "outputId": "a81f7563-3ecb-452e-c9ad-3c5769f40741"
      },
      "source": [
        "print(AMMIStudent.continent)"
      ],
      "execution_count": null,
      "outputs": [
        {
          "output_type": "stream",
          "text": [
            "Africa\n"
          ],
          "name": "stdout"
        }
      ]
    },
    {
      "cell_type": "code",
      "metadata": {
        "colab": {
          "base_uri": "https://localhost:8080/"
        },
        "id": "JosaVCnmkZu2",
        "outputId": "68f5ebc5-4e99-4422-cfbd-982129153b24"
      },
      "source": [
        "std2 = AMMIStudent(\"Faisal\", \"Mohamed\", \"Sudan\",\"AMMI011\")\n",
        "std2"
      ],
      "execution_count": null,
      "outputs": [
        {
          "output_type": "execute_result",
          "data": {
            "text/plain": [
              "<__main__.AMMIStudent at 0x7fd803defda0>"
            ]
          },
          "metadata": {
            "tags": []
          },
          "execution_count": 110
        }
      ]
    },
    {
      "cell_type": "code",
      "metadata": {
        "colab": {
          "base_uri": "https://localhost:8080/",
          "height": 190
        },
        "id": "6XqIk8qSmHT5",
        "outputId": "14cd5647-6186-4531-97c4-e594c49ad7c3"
      },
      "source": [
        "std2.eps # Non-class or instance variables can only be used in scope ie only in the method where it was defined and no where else."
      ],
      "execution_count": null,
      "outputs": [
        {
          "output_type": "error",
          "ename": "AttributeError",
          "evalue": "ignored",
          "traceback": [
            "\u001b[0;31m---------------------------------------------------------------------------\u001b[0m",
            "\u001b[0;31mAttributeError\u001b[0m                            Traceback (most recent call last)",
            "\u001b[0;32m<ipython-input-111-b3449637c3b1>\u001b[0m in \u001b[0;36m<module>\u001b[0;34m()\u001b[0m\n\u001b[0;32m----> 1\u001b[0;31m \u001b[0mstd2\u001b[0m\u001b[0;34m.\u001b[0m\u001b[0meps\u001b[0m \u001b[0;31m# Non-class or instance variables can only be used in scope ie only in the method where it was defined and no where else.\u001b[0m\u001b[0;34m\u001b[0m\u001b[0;34m\u001b[0m\u001b[0m\n\u001b[0m",
            "\u001b[0;31mAttributeError\u001b[0m: 'AMMIStudent' object has no attribute 'eps'"
          ]
        }
      ]
    },
    {
      "cell_type": "code",
      "metadata": {
        "id": "Eeb8D2fZkk5C"
      },
      "source": [
        "std2.continent = \"Europe\" # Every newly created instance inherits/ can access the class variable"
      ],
      "execution_count": null,
      "outputs": []
    },
    {
      "cell_type": "code",
      "metadata": {
        "colab": {
          "base_uri": "https://localhost:8080/",
          "height": 35
        },
        "id": "gWADx-kHk4SS",
        "outputId": "e44f00a2-4d87-462e-f62d-d265996ac709"
      },
      "source": [
        "std2.continent"
      ],
      "execution_count": null,
      "outputs": [
        {
          "output_type": "execute_result",
          "data": {
            "application/vnd.google.colaboratory.intrinsic+json": {
              "type": "string"
            },
            "text/plain": [
              "'Europe'"
            ]
          },
          "metadata": {
            "tags": []
          },
          "execution_count": 113
        }
      ]
    },
    {
      "cell_type": "markdown",
      "metadata": {
        "id": "igqWBYsWm4HR"
      },
      "source": [
        "#### Creating Instances of a class ####\n",
        "- We create instances of a class by simply assigning the class to a new variable. \n",
        "- When a new instance is created, the **constructor** is automatically run to initialize all variables for the instance. \n",
        "- In python, `__init__` method is the constructor. "
      ]
    },
    {
      "cell_type": "code",
      "metadata": {
        "id": "G1KcAEtrzSNV"
      },
      "source": [
        "std1 = AMMIStudent('Mory', 'Traore', 'Senegal','AMMI012')  # We'll talk about this instantiation shortly"
      ],
      "execution_count": null,
      "outputs": []
    },
    {
      "cell_type": "code",
      "metadata": {
        "colab": {
          "base_uri": "https://localhost:8080/"
        },
        "id": "ECztl2dafo7w",
        "outputId": "6e360f80-a083-4093-fe54-b6d2bd580e6c"
      },
      "source": [
        "print(std1)"
      ],
      "execution_count": null,
      "outputs": [
        {
          "output_type": "stream",
          "text": [
            "<__main__.AMMIStudent object at 0x7fd803da8320>\n"
          ],
          "name": "stdout"
        }
      ]
    },
    {
      "cell_type": "code",
      "metadata": {
        "colab": {
          "base_uri": "https://localhost:8080/"
        },
        "id": "D-dlVR55HvkA",
        "outputId": "04efc169-9949-40dd-e003-3c11d0934822"
      },
      "source": [
        "print('Is std1 an instance of AMMIStudent? ', isinstance(std1, AMMIStudent))\n",
        "print('Is std1 a float object? : ', isinstance(std1, float))\n",
        "print('Is x an integer? ', isinstance(x, int))\n"
      ],
      "execution_count": null,
      "outputs": [
        {
          "output_type": "stream",
          "text": [
            "Is std1 an instance of AMMIStudent?  True\n",
            "Is std1 a float object? :  False\n",
            "Is x an integer?  True\n"
          ],
          "name": "stdout"
        }
      ]
    },
    {
      "cell_type": "markdown",
      "metadata": {
        "id": "oDR23yyDqbpt"
      },
      "source": [
        "#### Attributes and Methods ####\n",
        "- Instance attributes - variables that defines the internal state of an instance whereas methods are functions defined inside a class.\n",
        "- In the **AMMIStudent** class, the instance attributes are; \n",
        "  - firstname, \n",
        "  - lastname, \n",
        "  - country\n",
        "  - num_class_attendance. \n",
        "- The instance methods are; \n",
        "  - `get_full_name()` and \n",
        "  - `get_class_attendance()`. \n",
        "- class attributes or variables: attributes of the class are accessible to the class or all instances of the class (when non-private). An example is the `continent` in the AMMIStudent example above and are usually defined immediately below the *className*.\n",
        "- Class methods on the other hand are methods that are meant to access or alter the class directly and may not necessarily need `self` as argument. ie. `get_continent()`\n",
        "- `hasattr()` allows us check if a class has a particular attribute."
      ]
    },
    {
      "cell_type": "code",
      "metadata": {
        "colab": {
          "base_uri": "https://localhost:8080/"
        },
        "id": "nxsgfGNsh5Z_",
        "outputId": "6cb66bfc-f8fd-495c-96c2-c9f22e93f730"
      },
      "source": [
        "print(hasattr(std1, 'firstname'))  # Returns \"True\" if yes \n",
        "print(hasattr(std1, 'first_name')) # else \"False\" "
      ],
      "execution_count": null,
      "outputs": [
        {
          "output_type": "stream",
          "text": [
            "True\n",
            "False\n"
          ],
          "name": "stdout"
        }
      ]
    },
    {
      "cell_type": "code",
      "metadata": {
        "colab": {
          "base_uri": "https://localhost:8080/"
        },
        "id": "9BlLnO78Tucw",
        "outputId": "ce714c74-a8c1-4f15-bae6-4415e12cc126"
      },
      "source": [
        "print(dir(std1)) # You can use dir() to preview all the class and instance variables and methods inside a class"
      ],
      "execution_count": null,
      "outputs": [
        {
          "output_type": "stream",
          "text": [
            "['__class__', '__delattr__', '__dict__', '__dir__', '__doc__', '__eq__', '__format__', '__ge__', '__getattribute__', '__gt__', '__hash__', '__init__', '__init_subclass__', '__le__', '__lt__', '__module__', '__ne__', '__new__', '__reduce__', '__reduce_ex__', '__repr__', '__setattr__', '__sizeof__', '__str__', '__subclasshook__', '__weakref__', 'continent', 'country', 'firstname', 'get_class_attendance', 'get_continent', 'get_full_name', 'lastname', 'num_class_attendance']\n"
          ],
          "name": "stdout"
        }
      ]
    },
    {
      "cell_type": "markdown",
      "metadata": {
        "id": "GTtMn-8AqblV"
      },
      "source": [
        "#### The `self` identifier ####\n",
        "- The `self` identifier plays a key role in a class. \n",
        "- Allows every newly created instance to store or maintain its own copy of all internal variables. \n",
        "- For instance, in the student example, if we create a new student, we would provide all the details seen in the `__init__` method and these details are stored for the particular student. Changes are made specifically for that instance. So if we create a new object; <br>`std1 = AMMIStudent('Mory', 'Traore', 'Senegal', 'female','AMMI012')`\n",
        "and we call `std1.get_full_name()`, self calls the firstname and lastname associated with std1, concatenates and returns the resulting string. "
      ]
    },
    {
      "cell_type": "code",
      "metadata": {
        "colab": {
          "base_uri": "https://localhost:8080/"
        },
        "id": "HfIYs-sczsov",
        "outputId": "3aef788f-5cdc-4981-8eae-c0eead94adc5"
      },
      "source": [
        "print(std1.firstname)\n",
        "print(std1.get_full_name())"
      ],
      "execution_count": null,
      "outputs": [
        {
          "output_type": "stream",
          "text": [
            "Mory\n",
            "Mory Traore\n"
          ],
          "name": "stdout"
        }
      ]
    },
    {
      "cell_type": "code",
      "metadata": {
        "colab": {
          "base_uri": "https://localhost:8080/",
          "height": 35
        },
        "id": "nDut2pxCJs1P",
        "outputId": "88739eb3-8612-4e33-c096-b650e558ec91"
      },
      "source": [
        "std1.continent # Calling class variables for the instance std1"
      ],
      "execution_count": null,
      "outputs": [
        {
          "output_type": "execute_result",
          "data": {
            "application/vnd.google.colaboratory.intrinsic+json": {
              "type": "string"
            },
            "text/plain": [
              "'Africa'"
            ]
          },
          "metadata": {
            "tags": []
          },
          "execution_count": 120
        }
      ]
    },
    {
      "cell_type": "markdown",
      "metadata": {
        "id": "jjEYm_mgMFgW"
      },
      "source": [
        "\n",
        "\n",
        "\n",
        "---\n",
        "\n",
        "Exercise 1.\n",
        "\n",
        "If you use the same name for an instance attribute and a class attribute, which one will be returned if the attribute name is called? Complete the code below to illiustrate this.\n",
        "\n",
        "\n",
        "\n",
        "---\n",
        "\n"
      ]
    },
    {
      "cell_type": "code",
      "metadata": {
        "colab": {
          "base_uri": "https://localhost:8080/"
        },
        "id": "0kEp2SfYMD-R",
        "outputId": "6b92f464-2704-4222-b4eb-62f6f3ae33b7"
      },
      "source": [
        "# 3 marks\n",
        "class Names:\n",
        "  name = \"Guassian\"\n",
        "  def __init__(self, name):\n",
        "    self.name =  name\n",
        "\n",
        "n = Names(\"Bernoulli\")\n",
        "print('printing instance variable, name: ', n.name) # print instance variable\n",
        "print('printing class variables, name: ', Names.name) # print class variable"
      ],
      "execution_count": null,
      "outputs": [
        {
          "output_type": "stream",
          "text": [
            "printing instance variable, name:  Bernoulli\n",
            "printing class variables, name:  Guassian\n"
          ],
          "name": "stdout"
        }
      ]
    },
    {
      "cell_type": "markdown",
      "metadata": {
        "id": "Gh770VXOm4Db"
      },
      "source": [
        "#### Private and Public variables ####\n",
        "- Python has no 'private' or 'public' identifier for variables accessible only inside a class.\n",
        "- However, preceding a variable name with double underscore restricts access in pretty much a similar way. eg, `__firstname`, `__lastname`"
      ]
    },
    {
      "cell_type": "markdown",
      "metadata": {
        "id": "Xe4c8AaTaIRE"
      },
      "source": [
        "If however, we want to access or modify instance variables, **getters** and **setters** provide more efficient ways to do these under our predefined rules or conditions. Implementing getters and setters are as simple as defining the function with name conventionally prefixed with *get_* or *set_* and returning or reassigning the instance variable.\n",
        "\n"
      ]
    },
    {
      "cell_type": "markdown",
      "metadata": {
        "id": "tAh9cy9G2Ly4"
      },
      "source": [
        "\n",
        "\n",
        "---\n",
        "\n",
        "\n",
        "Exercise 2. \n",
        "\n",
        "Implement a simple getter and setter methods for the `AMMIStudent` class below.\n",
        "\n",
        "\n",
        "---\n",
        "\n"
      ]
    },
    {
      "cell_type": "code",
      "metadata": {
        "id": "rMDVkU0QaHXY"
      },
      "source": [
        "# 4 marks\n",
        "\n",
        "class AMMIStudent:\n",
        "  continent = 'Africa' # Class Variables, All AMMI students are from Africa\n",
        "  def __init__(self, firstname, lastname, country, stdID):\n",
        "    # define all private variables here\n",
        "    self.__firstname = firstname\n",
        "    self.__lastname = lastname\n",
        "    self.__country = country\n",
        "    self.__num_class_attendance = 0\n",
        "\n",
        "  def get_full_name(self):\n",
        "    return self.__firstname + ' ' + self.__lastname\n",
        "\n",
        "  def get_class_attendance(self):\n",
        "    return self.__num_class_attendance\n",
        "\n",
        "  #Define getter and setter methods for firstname and lastname\n",
        "  def get_firstname(self):\n",
        "    return self.__firstname  \n",
        "\n",
        "  def get_lastname(self):\n",
        "    return self.__lastname\n",
        "\n",
        "# **********************************************************************\n",
        "# Another way of doing getters and setters for firstname and lastname\n",
        "# ************************************************************************\n",
        "  @property\n",
        "  def firstname(self):\n",
        "    return self.__firstname\n",
        "\n",
        "  @firstname.setter\n",
        "  def firstname(self):\n",
        "    return self.__firstname\n",
        "\n",
        "  @property\n",
        "  def lastname(self):\n",
        "    return self.__lastname\n",
        "\n",
        "  @lastname.setter\n",
        "  def lastname(self):\n",
        "    return self.__lastname\n"
      ],
      "execution_count": null,
      "outputs": []
    },
    {
      "cell_type": "code",
      "metadata": {
        "id": "r0sS5XsVhnFV"
      },
      "source": [
        "std2 =  AMMIStudent() # Instantiate a second object called std2, Pass your own parameters\n",
        "std2.get_firstname #\n",
        "std2.firstname"
      ],
      "execution_count": null,
      "outputs": []
    },
    {
      "cell_type": "markdown",
      "metadata": {
        "id": "rnGx57IqnpLg"
      },
      "source": [
        "### Inheritance ###\n",
        "\n",
        "- If we ever need a new class with variables or methods similar to one we have already defined, we don't need to write a new class from scratch with those same variables and methods and the additional ones we need. \n",
        "- Inheritance helps us define a **new /derived/ sub-** class that inherits variables and methods from the **base / parent/ super-** class.\n",
        "\n",
        "\n",
        "```\n",
        "class BaseClass():\n",
        "  <block of code>\n",
        "  \n",
        "class DerivedClass(BaseClass):\n",
        "   <block of code>\n",
        "```"
      ]
    },
    {
      "cell_type": "code",
      "metadata": {
        "colab": {
          "background_save": true
        },
        "id": "-y1GV8tMNilX"
      },
      "source": [
        "class Greet():\n",
        "  def __init__(self, greeting):\n",
        "    self.__greeting = greeting\n",
        "\n",
        "  def return_greeting(self):\n",
        "    return self.__greeting\n",
        "\n",
        "\n",
        "class GreetSomeone(Greet):\n",
        "  def __init__(self, greeting, name):\n",
        "    super().__init__(greeting)\n",
        "    self.__name = name\n",
        "\n",
        "  def greet(self):\n",
        "    print(self.return_greeting() + \"\", self.__name + \"!\")"
      ],
      "execution_count": null,
      "outputs": []
    },
    {
      "cell_type": "code",
      "metadata": {
        "colab": {
          "background_save": true,
          "base_uri": "https://localhost:8080/"
        },
        "id": "Z8MG0BNHVxpx",
        "outputId": "4368cb2d-8feb-405b-dfff-5123cd33dd26"
      },
      "source": [
        "g = GreetSomeone('Hello', \"Kobby\")\n",
        "g.greet()"
      ],
      "execution_count": null,
      "outputs": [
        {
          "output_type": "stream",
          "text": [
            "Hello Kobby!\n"
          ],
          "name": "stdout"
        }
      ]
    },
    {
      "cell_type": "code",
      "metadata": {
        "colab": {
          "background_save": true,
          "base_uri": "https://localhost:8080/",
          "height": 35
        },
        "id": "5iasut_kXDcs",
        "outputId": "a4c62ab5-9a87-41c4-aeb1-d73bc32ea64f"
      },
      "source": [
        "g.return_greeting()"
      ],
      "execution_count": null,
      "outputs": [
        {
          "output_type": "execute_result",
          "data": {
            "application/vnd.google.colaboratory.intrinsic+json": {
              "type": "string"
            },
            "text/plain": [
              "'Hello'"
            ]
          },
          "metadata": {
            "tags": []
          },
          "execution_count": 0
        }
      ]
    },
    {
      "cell_type": "markdown",
      "metadata": {
        "id": "0LGnBdybQK3-"
      },
      "source": [
        "\n",
        "\n",
        "---\n",
        "\n",
        "\n",
        "Exercise 3. \n",
        "\n",
        "Implement an Scaling class as a base class for an Affine class.\n",
        "\n",
        "The scaling function is given as; $$s = \\alpha X$$ while the full Affine transformation is given as $$y = \\alpha X + b$$\n",
        "\n",
        "Complete the code below for an Affine class that inherits from the Scaling class and has an additional method that adds an offset to the scaled values.\n",
        "   \n",
        "\n",
        "---\n",
        "\n"
      ]
    },
    {
      "cell_type": "code",
      "metadata": {
        "id": "dlm5FOZ-Dmh-"
      },
      "source": [
        "# 4 marks \n",
        "class Scaling():\n",
        "  \"\"\" Scaling class\n",
        "\n",
        "  \"\"\"\n",
        "  def __init__(self, w, x):\n",
        "    \"\"\"\n",
        "    Constructor for Scaling Class\n",
        "    Initializes params w and x\n",
        "    \"\"\"\n",
        "    self.__w = w\n",
        "    self.__x = x\n",
        "\n",
        "  def multiply_vals(self):\n",
        "    \"\"\"\n",
        "    Parameters\n",
        "    ----------\n",
        "    None\n",
        "\n",
        "    Returns \n",
        "    ----------\n",
        "    s: (list) scaled values of x\n",
        "    \"\"\"\n",
        "    return sum(list(w * x for w, x in zip(self.__w, self.__x)))\n",
        "\n",
        "\n",
        "class Affine(Scaling):\n",
        "  \"\"\"\n",
        "  Affine Class \n",
        "  Performs affine transformation on inputs given coefficients and offset\n",
        "  \"\"\"\n",
        "\n",
        "  def __init__(self, w, x, b):\n",
        "    \"\"\"\n",
        "    Initialize w, x and b\n",
        "    \"\"\"\n",
        "    super().__init__(w, x)\n",
        "    self.__b = b\n",
        "\n",
        "  def __add_offset(self):\n",
        "    \"\"\" linear method - adds offset to scaled values of x \n",
        "        y = αX + b\n",
        "    \n",
        "    Parameters\n",
        "    ----------\n",
        "    None\n",
        "\n",
        "    Returns \n",
        "    ----------\n",
        "    (list) shifted values of αX \n",
        "\n",
        "    \"\"\"\n",
        "    return self.multiply_vals() + self.__b\n",
        "\n",
        "  def transform(self):\n",
        "    \"\"\" transform method \n",
        "    Calls __add_offset method\n",
        "    \n",
        "    Parameters\n",
        "    ----------\n",
        "    None\n",
        "\n",
        "    Returns \n",
        "    ----------\n",
        "    (list) shifted values of αX \n",
        "\n",
        "    \"\"\"\n",
        "    return self.__add_offset()"
      ],
      "execution_count": null,
      "outputs": []
    },
    {
      "cell_type": "markdown",
      "metadata": {
        "id": "r_Rjest3HvkS"
      },
      "source": [
        "- In the previous example, `super` is used to call the initialization method in the base class so we can focus on initializing the new variables added to the derived class."
      ]
    },
    {
      "cell_type": "code",
      "metadata": {
        "id": "OMW4qsY0EoGz"
      },
      "source": [
        "d = Affine([2,3,3], [1,2,4], 4)    # Instantiate the DerivedClass"
      ],
      "execution_count": null,
      "outputs": []
    },
    {
      "cell_type": "code",
      "metadata": {
        "colab": {
          "base_uri": "https://localhost:8080/"
        },
        "id": "OjK_vkWVFsuO",
        "outputId": "148722d4-e0ff-48ca-fc8d-17d42af77e44"
      },
      "source": [
        "d.transform()"
      ],
      "execution_count": null,
      "outputs": [
        {
          "output_type": "execute_result",
          "data": {
            "text/plain": [
              "24"
            ]
          },
          "metadata": {
            "tags": []
          },
          "execution_count": 3
        }
      ]
    },
    {
      "cell_type": "markdown",
      "metadata": {
        "id": "1FPAKKrfSbKa"
      },
      "source": [
        "```\n",
        "class DerivedClass(BaseClass1, BaseClass2, BaseClass3):\n",
        "  <block of code>\n",
        "```"
      ]
    },
    {
      "cell_type": "markdown",
      "metadata": {
        "id": "qwKQoHhOTLwL"
      },
      "source": [
        "\n",
        "\n",
        "---\n",
        "\n",
        "\n",
        "* Example 2:\n",
        "\n",
        " What if a method exist in both the base class and the derived class? Upon calling the method, which one executes? the method for the base class or the derived class?\n",
        "\n",
        "\n",
        "---\n",
        "\n",
        "\n"
      ]
    },
    {
      "cell_type": "code",
      "metadata": {
        "colab": {
          "background_save": true
        },
        "id": "LgB6nqdSM3Jy"
      },
      "source": [
        "class MLModel():\n",
        "  \"\"\"\n",
        "  Base class for machine learning models\n",
        "  \"\"\"\n",
        "  def __init__(self, X):\n",
        "    \"\"\"Init method for Machine Learning Model Base class\"\"\"\n",
        "    self.X = X\n",
        "\n",
        "  def fit(self):\n",
        "    \"\"\"Fit method\n",
        "    parameters\n",
        "    ------------\n",
        "    None\n",
        "\n",
        "    Returns\n",
        "    ------------\n",
        "    None\n",
        "    \"\"\"\n",
        "    print('Congratulations on fitting an ML model')\n",
        "\n",
        "\n",
        "\n",
        "class LinearModel(MLModel):\n",
        "  \"\"\"\n",
        "  Class for linear models\n",
        "  \"\"\"\n",
        "  def __init__(self, X, w, b):\n",
        "    \"\"\"Init method for Linear Model class\"\"\"\n",
        "    super().__init__(LinearModel)\n",
        "    self.w = w\n",
        "    self.b = b\n",
        "\n",
        "  def fit(self):\n",
        "    \"\"\"Fit method\n",
        "    parameters\n",
        "    ------------\n",
        "    None\n",
        "\n",
        "    Returns\n",
        "    ------------\n",
        "    None\n",
        "    \"\"\"\n",
        "    print('Congratulations on fitting a linear model')"
      ],
      "execution_count": null,
      "outputs": []
    },
    {
      "cell_type": "code",
      "metadata": {
        "colab": {
          "background_save": true,
          "base_uri": "https://localhost:8080/"
        },
        "id": "0dSf7tT2OrYe",
        "outputId": "762f6745-cae3-4ca2-b8ce-d61e8408a714"
      },
      "source": [
        "linear = LinearModel(2,3,1)\n",
        "linear.fit()   # If method exists in the derived class, it is executed else it is executed from the base class."
      ],
      "execution_count": null,
      "outputs": [
        {
          "output_type": "stream",
          "text": [
            "Congratulations on fitting a linear model\n"
          ],
          "name": "stdout"
        }
      ]
    },
    {
      "cell_type": "markdown",
      "metadata": {
        "id": "WYraihUiP0yI"
      },
      "source": [
        "- This illustrates **method overriding** in class inheritance.\n",
        "- Base Classes can therefore be used as base template for all implementations. To create a well-defined structure for the class, listing the components required for them to function properly. \n",
        "- `raise NotImplementedError` alerts about the required methods. "
      ]
    },
    {
      "cell_type": "code",
      "metadata": {
        "colab": {
          "background_save": true
        },
        "id": "KUnGexRCPUrU"
      },
      "source": [
        "class MLModel():\n",
        "  \"\"\"\n",
        "  Base class for machine learning models\n",
        "  \"\"\"\n",
        "  def __init__(self, X):\n",
        "    self.X = X\n",
        "\n",
        "  def fit(self):\n",
        "    \"\"\"Fit method\n",
        "    parameters\n",
        "    ------------\n",
        "    None\n",
        "\n",
        "    Returns\n",
        "    ------------\n",
        "    None\n",
        "    \"\"\"\n",
        "    raise NotImplementedError\n",
        "\n",
        "\n",
        "class LinearModel(MLModel):\n",
        "  def __init__(self, X, w, b):\n",
        "    \"\"\"Init method for Linear Model class\"\"\"\n",
        "    super().__init__(LinearModel)\n",
        "    self.w = w\n",
        "    self.b = b\n",
        "\n",
        "  # def fit(self):\n",
        "  #   \"\"\"Fit method\n",
        "  #   parameters\n",
        "  #   ------------\n",
        "  #   None\n",
        "\n",
        "  #   Returns\n",
        "  #   ------------\n",
        "  #   None\n",
        "  #   \"\"\"\n",
        "  #   print('Congratulations on fitting a linear model')"
      ],
      "execution_count": null,
      "outputs": []
    },
    {
      "cell_type": "code",
      "metadata": {
        "colab": {
          "background_save": true,
          "base_uri": "https://localhost:8080/",
          "height": 316
        },
        "id": "9TvCWYzYPci1",
        "outputId": "9098019e-6730-46b1-af3d-f024bcdabd67"
      },
      "source": [
        "linear = LinearModel(2,1,3)\n",
        "linear.fit()"
      ],
      "execution_count": null,
      "outputs": [
        {
          "output_type": "error",
          "ename": "NotImplementedError",
          "evalue": "ignored",
          "traceback": [
            "\u001b[0;31m---------------------------------------------------------------------------\u001b[0m",
            "\u001b[0;31mNotImplementedError\u001b[0m                       Traceback (most recent call last)",
            "\u001b[0;32m<ipython-input-135-d492b0b34e95>\u001b[0m in \u001b[0;36m<module>\u001b[0;34m()\u001b[0m\n\u001b[1;32m      1\u001b[0m \u001b[0mlinear\u001b[0m \u001b[0;34m=\u001b[0m \u001b[0mLinearModel\u001b[0m\u001b[0;34m(\u001b[0m\u001b[0;36m2\u001b[0m\u001b[0;34m,\u001b[0m\u001b[0;36m1\u001b[0m\u001b[0;34m,\u001b[0m\u001b[0;36m3\u001b[0m\u001b[0;34m)\u001b[0m\u001b[0;34m\u001b[0m\u001b[0;34m\u001b[0m\u001b[0m\n\u001b[0;32m----> 2\u001b[0;31m \u001b[0mlinear\u001b[0m\u001b[0;34m.\u001b[0m\u001b[0mfit\u001b[0m\u001b[0;34m(\u001b[0m\u001b[0;34m)\u001b[0m\u001b[0;34m\u001b[0m\u001b[0;34m\u001b[0m\u001b[0m\n\u001b[0m",
            "\u001b[0;32m<ipython-input-134-286e88ed49b1>\u001b[0m in \u001b[0;36mfit\u001b[0;34m(self)\u001b[0m\n\u001b[1;32m     16\u001b[0m     \u001b[0;32mNone\u001b[0m\u001b[0;34m\u001b[0m\u001b[0;34m\u001b[0m\u001b[0m\n\u001b[1;32m     17\u001b[0m     \"\"\"\n\u001b[0;32m---> 18\u001b[0;31m     \u001b[0;32mraise\u001b[0m \u001b[0mNotImplementedError\u001b[0m\u001b[0;34m\u001b[0m\u001b[0;34m\u001b[0m\u001b[0m\n\u001b[0m\u001b[1;32m     19\u001b[0m \u001b[0;34m\u001b[0m\u001b[0m\n\u001b[1;32m     20\u001b[0m \u001b[0;34m\u001b[0m\u001b[0m\n",
            "\u001b[0;31mNotImplementedError\u001b[0m: "
          ]
        }
      ]
    },
    {
      "cell_type": "markdown",
      "metadata": {
        "id": "GMyUFN8RnpOh"
      },
      "source": [
        "### Documenting a class ###\n",
        "- Properly documenting your class allows users fetch useful information about the class and its implementation details. \n",
        "- Using the [*docstring*](https://www.python.org/dev/peps/pep-0257/) helps provide this information for the class and its methods. \n",
        "- [Example from LinearModel class in sklearn](https://github.com/scikit-learn/scikit-learn/blob/ff2e52da0c09e8cb2d9a1b62bd4c3ea481187308/sklearn/linear_model/_base.py#L300)"
      ]
    },
    {
      "cell_type": "markdown",
      "metadata": {
        "id": "2oVw7eedB1e6"
      },
      "source": [
        "\n",
        "\n",
        "---\n",
        "Example 3:\n",
        "\n",
        "Implement the Sigmoid and its gradient methods; $$\\sigma(z) = \\frac{1}{1 + \\exp(-z)}$$\n",
        "\n",
        "\n",
        "$$\\sigma'(z) = \\sigma(z)(1-\\sigma(z))$$\n",
        "\n",
        "---\n",
        "\n",
        "\n",
        "\n"
      ]
    },
    {
      "cell_type": "code",
      "metadata": {
        "id": "z6yw6SVrDbV5"
      },
      "source": [
        "import math\n",
        "class sigmoid:\n",
        "  \"\"\"Implements the Sigmoid and its gradient functions\n",
        "  \"\"\"\n",
        "  def __call__(self, z):\n",
        "    \"\"\"Applies the sigmoid function to input\n",
        "    Parameters\n",
        "    -------------\n",
        "    z: list, size (n) or scalar\n",
        "\n",
        "    Returns\n",
        "    -------------\n",
        "    vals: list, size (n) or scalar\n",
        "    \"\"\"\n",
        "\n",
        "    vals = []\n",
        "    for i in range(len(z)):\n",
        "        vals.append(1. /(1. + math.exp(-z[i])))\n",
        "    return vals\n",
        "    \n",
        "  \n",
        "  def gradient(self, z):\n",
        "    \"\"\"Computes gradient of the sigmoid function \n",
        "    Parameters\n",
        "    -------------\n",
        "    z: list, size (n) or scalar\n",
        "\n",
        "    Returns\n",
        "    -------------\n",
        "    grads: list, size (n) or scalar\n",
        "    \"\"\"\n",
        "    grads = []\n",
        "    vals = self.__call__(z)\n",
        "    valssub1 = [1. - i for i in vals]\n",
        "    for i in range(len(vals)):\n",
        "        grads.append(vals[i]*valssub1[i])\n",
        "    \n",
        "    return grads"
      ],
      "execution_count": null,
      "outputs": []
    },
    {
      "cell_type": "code",
      "metadata": {
        "colab": {
          "base_uri": "https://localhost:8080/"
        },
        "id": "XX7rtxWubRK3",
        "outputId": "f3f292a1-a3a7-4acb-f383-c50e82346a89"
      },
      "source": [
        "s = sigmoid()\n",
        "s([2,3])"
      ],
      "execution_count": null,
      "outputs": [
        {
          "output_type": "execute_result",
          "data": {
            "text/plain": [
              "[0.8807970779778823, 0.9525741268224334]"
            ]
          },
          "metadata": {
            "tags": []
          },
          "execution_count": 9
        }
      ]
    },
    {
      "cell_type": "markdown",
      "metadata": {
        "id": "qZ1sSnJzzfe4"
      },
      "source": [
        "\n",
        "\n",
        "---\n",
        "\n",
        "\n",
        "Exercise 4.\n",
        "\n",
        "Use Docstring to provide a documentation for the AMMIStudent class.\n",
        "\n",
        "\n",
        "---\n",
        "\n",
        "\n",
        "\n",
        "\n",
        "\n",
        "\n"
      ]
    },
    {
      "cell_type": "code",
      "metadata": {
        "id": "5ft4ShmPytRE"
      },
      "source": [
        "# 4 marks\n",
        "\n",
        "class AMMIStudent:\n",
        "\n",
        "  \"\"\"\n",
        "  Base class for AMMI students class\n",
        "  \"\"\"\n",
        "\n",
        "  continent = 'Africa' \n",
        "  def __init__(self, firstname, lastname, country, stdID):\n",
        "   \"\"\"\n",
        "   Initialization method for instance variables\n",
        "   \"\"\"\n",
        "    self.firstname = firstname\n",
        "    self.lastname = lastname\n",
        "    self.country = country\n",
        "    self.stdID = stdID\n",
        "    self.num_class_attendance = 0\n",
        "    eps = 1\n",
        " \n",
        "  def get_full_name(self):\n",
        "    \"\"\"\n",
        "    A method that returns the fullname of students.\n",
        "\n",
        "    Parameters\n",
        "    -------------------\n",
        "    None\n",
        "\n",
        "    Results\n",
        "    -------------------\n",
        "    fullname: str, a concatenation of first and lastnames \n",
        "    \"\"\"\n",
        "    fullname = self.firstname + ' ' + self.lastname\n",
        "    return fullname\n",
        "\n",
        "  def get_class_attendance(self):\n",
        "    \"\"\"\n",
        "    A getter method for total number of class attendance of student\n",
        "\n",
        "    Parameters\n",
        "    ---------------------\n",
        "    None\n",
        "\n",
        "    Returns\n",
        "    --------------------\n",
        "    num of class attendance: int, total number of class attendance\n",
        "    \"\"\"\n",
        "    \n",
        "    return self.num_class_attendance"
      ],
      "execution_count": null,
      "outputs": []
    },
    {
      "cell_type": "code",
      "metadata": {
        "colab": {
          "base_uri": "https://localhost:8080/"
        },
        "id": "2TBIDARnz-r8",
        "outputId": "7cb6796d-d86c-4c67-e134-80ec59f667ed"
      },
      "source": [
        "help(AMMIStudent)"
      ],
      "execution_count": null,
      "outputs": [
        {
          "output_type": "stream",
          "text": [
            "Help on class AMMIStudent in module __main__:\n",
            "\n",
            "class AMMIStudent(builtins.object)\n",
            " |  Methods defined here:\n",
            " |  \n",
            " |  __init__(self, firstname, lastname, country, stdID)\n",
            " |      Initialize self.  See help(type(self)) for accurate signature.\n",
            " |  \n",
            " |  get_class_attendance(self)\n",
            " |  \n",
            " |  get_full_name(self)\n",
            " |  \n",
            " |  ----------------------------------------------------------------------\n",
            " |  Data descriptors defined here:\n",
            " |  \n",
            " |  __dict__\n",
            " |      dictionary for instance variables (if defined)\n",
            " |  \n",
            " |  __weakref__\n",
            " |      list of weak references to the object (if defined)\n",
            " |  \n",
            " |  ----------------------------------------------------------------------\n",
            " |  Data and other attributes defined here:\n",
            " |  \n",
            " |  continent = 'Africa'\n",
            "\n"
          ],
          "name": "stdout"
        }
      ]
    },
    {
      "cell_type": "markdown",
      "metadata": {
        "id": "32S7-ufGopQX"
      },
      "source": [
        "#### Python Special Methods and Operator Overloading ####\n",
        "- Special methods makes it easier to invoke or call some operations in objects\n",
        "- For instance, using the \"+\" invokes the \\__add\\__() implemented for the class.\n",
        "- Listed below are the commonly used magic/ special methods in python"
      ]
    },
    {
      "cell_type": "code",
      "metadata": {
        "colab": {
          "base_uri": "https://localhost:8080/",
          "height": 545
        },
        "id": "J5WmCXfMhDyU",
        "outputId": "2be43e3f-6f41-4667-e2b3-5fb5148058a9"
      },
      "source": [
        "special_methods = {'Operator': ['x + y', 'x - y', 'x * y', 'x / y', 'x // y', 'x % y', \n",
        "                                'x == y', 'x != y', 'x > y', 'x >= y', 'x < y', 'x <= y', 'repr(x)', \n",
        "                                'str(x)', 'len(x)', '<type>(x)'],\n",
        "                   \n",
        "                  'Method' : [ 'x.__add__(y)', 'x.__sub__(y)', 'x.__mul__(y)', 'x.__truediv__(y)', \n",
        "                              'x.__floordiv__(y)', 'x.__mod__(y)', 'x.__eq__(y)', 'x.__ne__(y)', 'x.__gt__(y)', \n",
        "                              'x.__ge__(y)', 'x.__lt__(y)', 'x.__le__(y)', 'x.__repr__()', 'x.__str__()', \n",
        "                              'x.__len__()', '<type>.__init__(x)' ],\n",
        "                   \n",
        "                  'Description': ['Addition', 'Subtraction', 'Multiplication', 'Division', 'Integer division', \n",
        "                                  'Modulus', 'Equal to', 'Unequal to', 'Greater than', 'Greater than or equal to', \n",
        "                                  'Less than', 'Less than or equal to', 'Canonical string representation',\n",
        "                                  'Informal string representation', 'Collection size', 'Constructor']}\n",
        "\n",
        "import pandas as pd\n",
        "pd.DataFrame(special_methods)"
      ],
      "execution_count": null,
      "outputs": [
        {
          "output_type": "execute_result",
          "data": {
            "text/html": [
              "<div>\n",
              "<style scoped>\n",
              "    .dataframe tbody tr th:only-of-type {\n",
              "        vertical-align: middle;\n",
              "    }\n",
              "\n",
              "    .dataframe tbody tr th {\n",
              "        vertical-align: top;\n",
              "    }\n",
              "\n",
              "    .dataframe thead th {\n",
              "        text-align: right;\n",
              "    }\n",
              "</style>\n",
              "<table border=\"1\" class=\"dataframe\">\n",
              "  <thead>\n",
              "    <tr style=\"text-align: right;\">\n",
              "      <th></th>\n",
              "      <th>Operator</th>\n",
              "      <th>Method</th>\n",
              "      <th>Description</th>\n",
              "    </tr>\n",
              "  </thead>\n",
              "  <tbody>\n",
              "    <tr>\n",
              "      <th>0</th>\n",
              "      <td>x + y</td>\n",
              "      <td>x.__add__(y)</td>\n",
              "      <td>Addition</td>\n",
              "    </tr>\n",
              "    <tr>\n",
              "      <th>1</th>\n",
              "      <td>x - y</td>\n",
              "      <td>x.__sub__(y)</td>\n",
              "      <td>Subtraction</td>\n",
              "    </tr>\n",
              "    <tr>\n",
              "      <th>2</th>\n",
              "      <td>x * y</td>\n",
              "      <td>x.__mul__(y)</td>\n",
              "      <td>Multiplication</td>\n",
              "    </tr>\n",
              "    <tr>\n",
              "      <th>3</th>\n",
              "      <td>x / y</td>\n",
              "      <td>x.__truediv__(y)</td>\n",
              "      <td>Division</td>\n",
              "    </tr>\n",
              "    <tr>\n",
              "      <th>4</th>\n",
              "      <td>x // y</td>\n",
              "      <td>x.__floordiv__(y)</td>\n",
              "      <td>Integer division</td>\n",
              "    </tr>\n",
              "    <tr>\n",
              "      <th>5</th>\n",
              "      <td>x % y</td>\n",
              "      <td>x.__mod__(y)</td>\n",
              "      <td>Modulus</td>\n",
              "    </tr>\n",
              "    <tr>\n",
              "      <th>6</th>\n",
              "      <td>x == y</td>\n",
              "      <td>x.__eq__(y)</td>\n",
              "      <td>Equal to</td>\n",
              "    </tr>\n",
              "    <tr>\n",
              "      <th>7</th>\n",
              "      <td>x != y</td>\n",
              "      <td>x.__ne__(y)</td>\n",
              "      <td>Unequal to</td>\n",
              "    </tr>\n",
              "    <tr>\n",
              "      <th>8</th>\n",
              "      <td>x &gt; y</td>\n",
              "      <td>x.__gt__(y)</td>\n",
              "      <td>Greater than</td>\n",
              "    </tr>\n",
              "    <tr>\n",
              "      <th>9</th>\n",
              "      <td>x &gt;= y</td>\n",
              "      <td>x.__ge__(y)</td>\n",
              "      <td>Greater than or equal to</td>\n",
              "    </tr>\n",
              "    <tr>\n",
              "      <th>10</th>\n",
              "      <td>x &lt; y</td>\n",
              "      <td>x.__lt__(y)</td>\n",
              "      <td>Less than</td>\n",
              "    </tr>\n",
              "    <tr>\n",
              "      <th>11</th>\n",
              "      <td>x &lt;= y</td>\n",
              "      <td>x.__le__(y)</td>\n",
              "      <td>Less than or equal to</td>\n",
              "    </tr>\n",
              "    <tr>\n",
              "      <th>12</th>\n",
              "      <td>repr(x)</td>\n",
              "      <td>x.__repr__()</td>\n",
              "      <td>Canonical string representation</td>\n",
              "    </tr>\n",
              "    <tr>\n",
              "      <th>13</th>\n",
              "      <td>str(x)</td>\n",
              "      <td>x.__str__()</td>\n",
              "      <td>Informal string representation</td>\n",
              "    </tr>\n",
              "    <tr>\n",
              "      <th>14</th>\n",
              "      <td>len(x)</td>\n",
              "      <td>x.__len__()</td>\n",
              "      <td>Collection size</td>\n",
              "    </tr>\n",
              "    <tr>\n",
              "      <th>15</th>\n",
              "      <td>&lt;type&gt;(x)</td>\n",
              "      <td>&lt;type&gt;.__init__(x)</td>\n",
              "      <td>Constructor</td>\n",
              "    </tr>\n",
              "  </tbody>\n",
              "</table>\n",
              "</div>"
            ],
            "text/plain": [
              "     Operator              Method                      Description\n",
              "0       x + y        x.__add__(y)                         Addition\n",
              "1       x - y        x.__sub__(y)                      Subtraction\n",
              "2       x * y        x.__mul__(y)                   Multiplication\n",
              "3       x / y    x.__truediv__(y)                         Division\n",
              "4      x // y   x.__floordiv__(y)                 Integer division\n",
              "5       x % y        x.__mod__(y)                          Modulus\n",
              "6      x == y         x.__eq__(y)                         Equal to\n",
              "7      x != y         x.__ne__(y)                       Unequal to\n",
              "8       x > y         x.__gt__(y)                     Greater than\n",
              "9      x >= y         x.__ge__(y)         Greater than or equal to\n",
              "10      x < y         x.__lt__(y)                        Less than\n",
              "11     x <= y         x.__le__(y)            Less than or equal to\n",
              "12    repr(x)        x.__repr__()  Canonical string representation\n",
              "13     str(x)         x.__str__()   Informal string representation\n",
              "14     len(x)         x.__len__()                  Collection size\n",
              "15  <type>(x)  <type>.__init__(x)                      Constructor"
            ]
          },
          "metadata": {
            "tags": []
          },
          "execution_count": 93
        }
      ]
    },
    {
      "cell_type": "code",
      "metadata": {
        "id": "L9q91mxuXJKj"
      },
      "source": [
        "class Fraction():\n",
        "  \"\"\" A Fraction class\"\"\"\n",
        "\n",
        "  def __init__(self, numerator = 0, denominator = 1):\n",
        "    \"\"\"Constructor for the Fraction class\"\"\"\n",
        "\n",
        "    if denominator == 0:\n",
        "      raise ValueError(\"Denominator cannot be zero\")\n",
        "\n",
        "    if not isinstance(numerator, int) or not isinstance(denominator, int):\n",
        "      raise TypeError('Numerator or denominator should be an integer value')\n",
        "    \n",
        "    divisor = self.gcd(numerator, denominator)\n",
        "\n",
        "    self.numerator = (1 if denominator > 0 else -1) \\\n",
        "        * int(numerator / divisor)\n",
        "\n",
        "    self.denominator = int(abs(denominator) / divisor)\n",
        "\n",
        "  def __repr__(self):\n",
        "    \"\"\"\n",
        "    Representation method for class\n",
        "\n",
        "    Parameters\n",
        "    -------------------\n",
        "    None\n",
        "\n",
        "    Returns\n",
        "    -------------------\n",
        "    str: A string representation of the Fraction value\n",
        "    ie, 1/2 for numerator = 1, and denominator = 2\n",
        "    \"\"\"\n",
        "    if self.denominator == 1:\n",
        "      return str(self.numerator)\n",
        "\n",
        "    else:\n",
        "      return str(self.numerator) + \"/\" +  str(self.denominator)\n",
        "\n",
        "  def __mul__(self, other):\n",
        "     \"\"\"\n",
        "    Multiplication special method for Fraction class\n",
        "\n",
        "    Parameters\n",
        "    -------------------\n",
        "    None\n",
        "\n",
        "    Returns\n",
        "    -------------------\n",
        "    A new Fraction object with numerator and denominator\n",
        "    ie, 1/2 for numerator = 1, and denominator = 2\n",
        "    \"\"\"\n",
        "    numerator = self.numerator * other.numerator\n",
        "    denominator = self.denominator *  other.denominator\n",
        "    result = Fraction(numerator, denominator)\n",
        "\n",
        "    return result\n",
        "    \n",
        "  @staticmethod\n",
        "  def gcd(numerator, denominator):\n",
        "    \"\"\"\n",
        "    static method for computing the gcd (greatest common divisor) for the Fraction class\n",
        "\n",
        "    Parameters\n",
        "    -------------------\n",
        "    None\n",
        "\n",
        "    Returns\n",
        "    -------------------\n",
        "    A new Fraction object with numerator and denominator\n",
        "    ie, 1/2 for numerator = 1, and denominator = 2\n",
        "    \"\"\"\n",
        "    num = abs(numerator)\n",
        "    den = abs(denominator)\n",
        "    gcd = 1\n",
        "    k = 1\n",
        "    while k <= num and k <= den:\n",
        "      if num % k == 0 and den % k == 0:\n",
        "        gcd = k\n",
        "      k += 1\n",
        "    return gcd"
      ],
      "execution_count": null,
      "outputs": []
    },
    {
      "cell_type": "code",
      "metadata": {
        "colab": {
          "base_uri": "https://localhost:8080/"
        },
        "id": "nQXeLjC4XfqC",
        "outputId": "e9f1da29-00d8-4e5a-da2d-75f1ac39cdc5"
      },
      "source": [
        "frac1 = Fraction(2,-4)\n",
        "print(frac1)"
      ],
      "execution_count": null,
      "outputs": [
        {
          "output_type": "stream",
          "text": [
            "-1/2\n"
          ],
          "name": "stdout"
        }
      ]
    },
    {
      "cell_type": "code",
      "metadata": {
        "colab": {
          "base_uri": "https://localhost:8080/"
        },
        "id": "K9Ms4JDIYTCV",
        "outputId": "a4926990-fe80-4c2e-c7a1-5f5b79662651"
      },
      "source": [
        "frac2 = Fraction(2,7)\n",
        "frac2"
      ],
      "execution_count": null,
      "outputs": [
        {
          "output_type": "execute_result",
          "data": {
            "text/plain": [
              "2/7"
            ]
          },
          "metadata": {
            "tags": []
          },
          "execution_count": 19
        }
      ]
    },
    {
      "cell_type": "code",
      "metadata": {
        "id": "lU7BfUYwYdv6",
        "colab": {
          "base_uri": "https://localhost:8080/"
        },
        "outputId": "67a0e460-e471-433c-c6d7-5e6b7a8061a2"
      },
      "source": [
        "frac3 = frac1 * frac2\n",
        "frac3"
      ],
      "execution_count": null,
      "outputs": [
        {
          "output_type": "execute_result",
          "data": {
            "text/plain": [
              "1/7"
            ]
          },
          "metadata": {
            "tags": []
          },
          "execution_count": 20
        }
      ]
    },
    {
      "cell_type": "markdown",
      "metadata": {
        "id": "xPqWnNYhAQM4"
      },
      "source": [
        "#### Importing Modules in python ####\n",
        "\n",
        "- Instead of writing all codes on a single file, we can have multiple files with well-defined functions, classes and even variables.\n",
        "- Importing a file makes its content readily available for use.\n",
        "- Lets take an example."
      ]
    },
    {
      "cell_type": "markdown",
      "metadata": {
        "id": "P25KA3B0BYs5"
      },
      "source": [
        "\n",
        "\n",
        "---\n",
        "Example 4:\n",
        "- Create a file called \"rational.py\" in the same directory as this notebook. \n",
        "- Copy the code for the `class Fraction` into it and save it.\n",
        "- Inside the notebook, type `import rational.py` and call the Fraction constructor.\n",
        "- Do the same multplication operation like we have done before.\n",
        "- Try the same steps for as many classes as you wish.\n",
        "- Read more about python modules [here](https://www.tutorialspoint.com/python/python_modules.htm#:~:text=A%20module%20is%20a%20Python,can%20also%20include%20runnable%20code.)\n",
        "\n",
        "\n",
        "---\n",
        "\n",
        "\n",
        "\n"
      ]
    },
    {
      "cell_type": "code",
      "metadata": {
        "id": "CjIgLV1tCtuK"
      },
      "source": [
        "#\n",
        "\n",
        "from rational import Fraction\n",
        "r1 = Fraction(1,2)\n",
        "r2 = Fraction(3,4)\n",
        "r = r1 * r2\n",
        "print(r)\n",
        "#"
      ],
      "execution_count": null,
      "outputs": []
    },
    {
      "cell_type": "markdown",
      "metadata": {
        "id": "lFU1bdpmTU9p"
      },
      "source": [
        "\n",
        "\n",
        "---\n",
        "\n",
        "\n",
        "Exercise 5\n",
        "\n",
        "Implement the following methods for a Gaussian Distribution\n",
        "- $$p(x) = \\frac{1}{\\sqrt{2 \\pi \\sigma}} exp(-\\frac{1}{2\\sigma}(x-\\mu)^2)$$\n",
        "\n",
        "- $$\\mu = \\frac{1}{n}\\sum^{n}_{i}x_i$$\n",
        "\n",
        "- if *sample* = True, $$\\sigma^2 = \\frac{1}{n - 1}\\sum^{n}_{i}(x-\\mu)^2$$ \n",
        "\n",
        "else: $$\\sigma^2 = \\frac{1}{n}\\sum^{n}_{i}(x-\\mu)^2$$ \n",
        "\n",
        "- Sum of two Gaussians $$\\mathcal{N(\\mu_1 ,\\sigma_1)} + \\mathcal{N(\\mu_2 ,\\sigma_2)} = \\mathcal{N(\\mu_1 + \\mu_2 , \\sqrt{\\sigma_1^2 + \\sigma_2^2})}$$\n",
        "\n",
        "\n",
        "---\n"
      ]
    },
    {
      "cell_type": "code",
      "metadata": {
        "id": "o18bZdDSo52V"
      },
      "source": [
        "import math          # 5 marks\n",
        "class GaussianDistribution():\n",
        "    \"\"\" Gaussian distribution class\n",
        "    \n",
        "    Attributes:\n",
        "        mean (float) representing the mean value of the distribution\n",
        "        stdev (float) representing the standard deviation of the distribution\n",
        "        data_list (list of floats) a list of floats extracted from the data file\n",
        "            \n",
        "    \"\"\"\n",
        "    def __init__(self, mu = 0, stddev = 1):\n",
        "        \"\"\"Init method for Gaussian Distribution class\"\"\"\n",
        "        self.mean = mu\n",
        "        self.stdev = stddev\n",
        "\n",
        "    def compute_mean(self):\n",
        "    \n",
        "        \"\"\"Compute the mean of the data set.\n",
        "        \n",
        "        Parameters\n",
        "        ----------------\n",
        "        None\n",
        "        \n",
        "        Returns\n",
        "        ---------------- \n",
        "        mean: float, mean of the data set\n",
        "    \n",
        "        \"\"\"\n",
        "                    \n",
        "        self.mean = 1.0 * sum(self.data) / len(self.data)\n",
        "        return self.mean\n",
        "\n",
        "\n",
        "\n",
        "    def compute_stddev(self, sample=True):\n",
        "\n",
        "        \"\"\"Compute the standard deviation of the data set.\n",
        "        \n",
        "        Parameters\n",
        "        --------------\n",
        "        sample (bool): whether the data represents a sample or population\n",
        "        \n",
        "        Returns\n",
        "        --------------\n",
        "        stddev: float, standard deviation of the data set\n",
        "    \n",
        "        \"\"\"\n",
        "        if sample:\n",
        "            n = len(self.data) - 1\n",
        "        else:\n",
        "            n = len(self.data)\n",
        "        mean = self.mean\n",
        "        stddev = 0\n",
        "    \n",
        "        for d in self.data:\n",
        "            stddev += (d - mean) ** 2\n",
        "        stddev = math.sqrt(stddev / n)\n",
        "        self.stdev = stddev\n",
        "\n",
        "        return self.stdev\n",
        "        \n",
        "\n",
        "    def get_data(self, data, sample=True):\n",
        "\n",
        "        \"\"\"Gets data representing either samples or population\n",
        "        \n",
        "        Parameters\n",
        "        --------------\n",
        "        data:   list, size(n)\n",
        "        sample: bool, True if data represent a sample and False if a population\n",
        "        \n",
        "        Returns:\n",
        "        None\n",
        "        \n",
        "        \"\"\"\n",
        "        self.data = data\n",
        "        self.mean = self.compute_mean()\n",
        "        self.stdev = self.compute_stddev(sample)\n",
        "        \n",
        "        \n",
        "    def pdf(self, x):\n",
        "        \"\"\"Computes the probability density function for the gaussian distribution.\n",
        "        \n",
        "        Parameters\n",
        "        ---------------\n",
        "        x:  float, point for calculating the pdf\n",
        "            \n",
        "        \n",
        "        Returns\n",
        "        ---------------\n",
        "        float:  probability density function of point x\n",
        "        \"\"\"\n",
        "        \n",
        "        return (1.0 / (self.stdev * math.sqrt(2*math.pi))) * \\\n",
        "                  math.exp(-0.5*((x - self.mean) / self.stdev) ** 2)\n",
        "\n",
        "    def logpdf(self, x):\n",
        "        \"\"\"Computes the log probability density function for the gaussian distribution.\n",
        "          \n",
        "          Parameters\n",
        "          ---------------\n",
        "          None\n",
        "              \n",
        "          \n",
        "          Returns\n",
        "          ---------------\n",
        "          float: probability density function of point x\n",
        "          \"\"\"\n",
        "\n",
        "        return math.log(self.pdf(x))\n",
        "\n",
        "    def __add__(self, other):\n",
        "       \"\"\"Computes the sum of two gaussian distributions.\n",
        "        \n",
        "        Parameters\n",
        "        ---------------\n",
        "        other:  Another Gaussian distribution object\n",
        "            \n",
        "        \n",
        "        Returns\n",
        "        ---------------\n",
        "        Result: A gaussian distribution object with mean summed for two gaussians \n",
        "                and squared root of sum of squares of variances  \n",
        "        \"\"\"\n",
        "       mean = self.mean + other.mean\n",
        "       stdev = math.sqrt(self.stdev**2 + other.stdev**2)      \n",
        "       result = GaussianDistribution(mean, stdev)\n",
        "       return result\n",
        "\n",
        "    def __repr__(self):\n",
        "       \"\"\"Representation magic method of the GaussianDistribution class.\n",
        "        \n",
        "        Parameters\n",
        "        ---------------\n",
        "        None\n",
        "            \n",
        "        \n",
        "        Returns\n",
        "        ---------------\n",
        "        str: Rrepresentation of class name with mean and variance\n",
        "        \"\"\"\n",
        "       return \"Gaussian distribution - mean: {}, standard deviation: {}\".format(self.mean, self.stdev)\n",
        "        "
      ],
      "execution_count": null,
      "outputs": []
    },
    {
      "cell_type": "code",
      "metadata": {
        "id": "H5cbVgjNo6rh"
      },
      "source": [
        "gauss1 = GaussianDistribution(0,1)\n",
        "gauss2 = GaussianDistribution(0,1)"
      ],
      "execution_count": null,
      "outputs": []
    },
    {
      "cell_type": "code",
      "metadata": {
        "id": "hhlrT1qwo_75"
      },
      "source": [
        "gauss1.get_data([2,1,4,5,2,3,1,2,3,5])\n",
        "gauss2.get_data([4,2,8,2,3,5,2,3,7,0])"
      ],
      "execution_count": null,
      "outputs": []
    },
    {
      "cell_type": "code",
      "metadata": {
        "id": "gtLwtFnKpCg_"
      },
      "source": [
        "gauss3 = gauss1 + gauss2"
      ],
      "execution_count": null,
      "outputs": []
    },
    {
      "cell_type": "code",
      "metadata": {
        "colab": {
          "base_uri": "https://localhost:8080/"
        },
        "id": "PnRF_VQVvUVA",
        "outputId": "da66feb7-abd9-4527-a395-206c759a6b51"
      },
      "source": [
        "gauss3"
      ],
      "execution_count": null,
      "outputs": [
        {
          "output_type": "execute_result",
          "data": {
            "text/plain": [
              "Gaussian distribution - mean: 6.4, standard deviation: 2.867441755680876"
            ]
          },
          "metadata": {
            "tags": []
          },
          "execution_count": 43
        }
      ]
    },
    {
      "cell_type": "markdown",
      "metadata": {
        "id": "gknF3xyCk5KF"
      },
      "source": [
        "###References###"
      ]
    },
    {
      "cell_type": "markdown",
      "metadata": {
        "id": "Dy6E6vxLlpJN"
      },
      "source": [
        "- Object-oriented programming\n",
        "  - https://info.keylimeinteractive.com/the-four-pillars-of-object-oriented-programming\n",
        "- Class, instance and static methods \n",
        "  - https://realpython.com/instance-class-and-static-methods-demystified/\n",
        "  - https://www.python-course.eu/python3_class_and_instance_attributes.php\n",
        "- Multiple inheritance/ Mixins\n",
        "  - https://easyaspython.com/mixins-for-fun-and-profit-cb9962760556\n",
        "- Special Methods\n",
        "  - https://diveintopython3.net/special-method-names.html\n",
        "- Python decorators\n",
        "  - https://realpython.com/primer-on-python-decorators/\n",
        "\n"
      ]
    }
  ]
}