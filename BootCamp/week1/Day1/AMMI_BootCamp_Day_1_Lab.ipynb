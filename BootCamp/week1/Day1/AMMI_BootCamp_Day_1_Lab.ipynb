{
 "cells": [
  {
   "cell_type": "markdown",
   "metadata": {},
   "source": [
    "## Exercise A\n",
    "\n",
    "1. Create a string containing a single quote.\n",
    "2. Create a string containing a double quote.\n",
    "3. Create a string containing both a single quote a double quote.\n",
    "4. Create a variable containing a first and last name and print them in reverse order with a space between them.\n",
    "5. Display all the variables"
   ]
  },
  {
   "cell_type": "code",
   "execution_count": 3,
   "metadata": {},
   "outputs": [],
   "source": [
    "# Your Code here"
   ]
  },
  {
   "cell_type": "markdown",
   "metadata": {},
   "source": [
    "## Exercise B\n",
    "\n",
    "1. Write a code to display the first and last word from the following String: **'This is my first assignment for week1'**\n",
    "2. Create a character (literal), then obtain its integer representation.\n",
    "3. Given these strings:\n",
    "\n",
    "    s1 = 'abcd', \n",
    "    s2 = 'efgh'\n",
    "\n",
    "    Create a new string composed of the first string followed by (concatenated with)\n",
    "    the second.\n",
    "\n",
    "4. Create a single string containing 5 copies of the string 'abc'.\n",
    "5. Use the multiplication operator to create a \"line\" of 50 dashes.\n",
    "6. Strip all the whitespace characters off the right end of a string.\n",
    "7. Convert a string to all upper case.\n",
    "8. Write a sequence (string) of comma-separated numbers and generate a list with those numbers\n",
    "9. Given a string of odd length greater than 7, return a string made of the middle three chars of the string\n",
    "10. Given a string and an integer number n, remove characters from a string starting from zero up to n and return a new string\n",
    "11. Given a string, return True if the first character and the last character of a the string is the same"
   ]
  },
  {
   "cell_type": "code",
   "execution_count": null,
   "metadata": {},
   "outputs": [],
   "source": [
    "# Your Code here"
   ]
  },
  {
   "cell_type": "markdown",
   "metadata": {},
   "source": [
    "## Exercise C: \n"
   ]
  },
  {
   "cell_type": "markdown",
   "metadata": {},
   "source": [
    "\n",
    "1. Write a code that take an integer (n) and computes the value of n+nn+nnn.\n",
    "2. Write a program that inputs the number of seconds, and returns the number of minutes and seconds. For example, “130” should return “2 minutes and 10 seconds”.\n",
    "3. Write the shorthand of the expression below:\n",
    "    x = 2\n",
    "\n",
    "    y = 3\n",
    "\n",
    "    z = 10\n",
    "\n",
    "    x = x + 1\n",
    "\n",
    "    y = y / 2\n",
    "\n",
    "    z = z * (x + y)\n",
    "  \n",
    "4. Initialize two variables to values 9 and 2 respectively. Then: increment each variable first by value 2 (means you update those variables using shortcut). print the variables before and after after incrementing.\n",
    "5. Integer divide the two variables (divide the larger value with the lower one), and assign the result to another variable called c.\n",
    "6. Print the variable c and make sure you have the desired result\n",
    "\n"
   ]
  },
  {
   "cell_type": "code",
   "execution_count": 1,
   "metadata": {},
   "outputs": [],
   "source": [
    "# Your Code Here"
   ]
  },
  {
   "cell_type": "markdown",
   "metadata": {},
   "source": [
    "## Exercise D\n",
    "1. Given a two integer numbers print their product and  if the product is greater than 1000, then print their sum.\n",
    "2. Given two literal strings (containing only digits), calculate their sum and print it as a string.\n",
    "3. Write a code to calculate the sum of three given numbers, if the values are equal then print three times of their sum else print their sum.\n",
    "4.  Write a code to compute the distance between the points p1 = (x1, y1) and p2 = (x2, y2), (p1 and p2 are strings). Example: p1 and p2 can be declare as p1 = '(2, 3)', p2 = '(5, 6)'. (hint: use indexing for string, casting from str to int). \n",
    "5. Given two numbers print their product if their are odd numbers, their sum if they are even and their division in any other cases. "
   ]
  },
  {
   "cell_type": "code",
   "execution_count": 26,
   "metadata": {},
   "outputs": [],
   "source": [
    "# Your Code here\n",
    "# question4\n",
    "# p1 = '(2, 3)'\n",
    "# p2 = '(5, 6)'"
   ]
  },
  {
   "cell_type": "code",
   "execution_count": null,
   "metadata": {},
   "outputs": [],
   "source": []
  }
 ],
 "metadata": {
  "kernelspec": {
   "display_name": "Python 3",
   "language": "python",
   "name": "python3"
  },
  "language_info": {
   "codemirror_mode": {
    "name": "ipython",
    "version": 3
   },
   "file_extension": ".py",
   "mimetype": "text/x-python",
   "name": "python",
   "nbconvert_exporter": "python",
   "pygments_lexer": "ipython3",
   "version": "3.8.3"
  }
 },
 "nbformat": 4,
 "nbformat_minor": 2
}
